{
  "nbformat": 4,
  "nbformat_minor": 0,
  "metadata": {
    "colab": {
      "provenance": [],
      "authorship_tag": "ABX9TyMuJyjf3kw6Uvk5mHtmsEtg",
      "include_colab_link": true
    },
    "kernelspec": {
      "name": "python3",
      "display_name": "Python 3"
    },
    "language_info": {
      "name": "python"
    }
  },
  "cells": [
    {
      "cell_type": "markdown",
      "metadata": {
        "id": "view-in-github",
        "colab_type": "text"
      },
      "source": [
        "<a href=\"https://colab.research.google.com/github/marcusbutta/CSC221_mbutt007/blob/main/assignment3.ipynb\" target=\"_parent\"><img src=\"https://colab.research.google.com/assets/colab-badge.svg\" alt=\"Open In Colab\"/></a>"
      ]
    },
    {
      "cell_type": "code",
      "execution_count": 1,
      "metadata": {
        "colab": {
          "base_uri": "https://localhost:8080/"
        },
        "id": "mEjh136FNvhM",
        "outputId": "6729cf0a-78d0-4154-bc5d-3cb27c5b9bc3"
      },
      "outputs": [
        {
          "output_type": "stream",
          "name": "stdout",
          "text": [
            "Hello World\n"
          ]
        }
      ],
      "source": [
        "message = \"Hello World\"\n",
        "print(message)"
      ]
    },
    {
      "cell_type": "code",
      "source": [
        "message = \"Hello World!\"\n",
        "print(message)"
      ],
      "metadata": {
        "colab": {
          "base_uri": "https://localhost:8080/"
        },
        "id": "KYaJ8f61OBCC",
        "outputId": "c7d8fbbd-de6e-45ed-c794-3ffd39817eff"
      },
      "execution_count": 2,
      "outputs": [
        {
          "output_type": "stream",
          "name": "stdout",
          "text": [
            "Hello World!\n"
          ]
        }
      ]
    },
    {
      "cell_type": "markdown",
      "source": [
        "Try it yourself"
      ],
      "metadata": {
        "id": "RgLx5pdzOyzU"
      }
    },
    {
      "cell_type": "code",
      "source": [
        "message = \"oooo I am a message 👻\"\n",
        "print(message)"
      ],
      "metadata": {
        "colab": {
          "base_uri": "https://localhost:8080/"
        },
        "id": "MScKi_l5O0OC",
        "outputId": "19884e12-aa4e-41c7-85b8-12e13c90b7f1"
      },
      "execution_count": 3,
      "outputs": [
        {
          "output_type": "stream",
          "name": "stdout",
          "text": [
            "oooo I am a message 👻\n"
          ]
        }
      ]
    },
    {
      "cell_type": "code",
      "source": [
        "message = \"oooo I am a message 👻\"\n",
        "print(message)\n",
        "message = \"I am also a message 🗿\"\n",
        "print(message)"
      ],
      "metadata": {
        "colab": {
          "base_uri": "https://localhost:8080/"
        },
        "id": "qf44eDCmPBaM",
        "outputId": "9bfe4340-727b-4cfb-bc91-e24e433a6318"
      },
      "execution_count": 4,
      "outputs": [
        {
          "output_type": "stream",
          "name": "stdout",
          "text": [
            "oooo I am a message 👻\n",
            "I am also a message 🗿\n"
          ]
        }
      ]
    },
    {
      "cell_type": "markdown",
      "source": [
        "end of try it yourself"
      ],
      "metadata": {
        "id": "YAZBd6SePX_v"
      }
    },
    {
      "cell_type": "code",
      "source": [
        "name = \"marcus butta\"\n",
        "print(name.title())"
      ],
      "metadata": {
        "colab": {
          "base_uri": "https://localhost:8080/"
        },
        "id": "tfO8ZbvfPZYB",
        "outputId": "e9a65c69-5df5-4f94-ba91-d792c5f48db0"
      },
      "execution_count": 5,
      "outputs": [
        {
          "output_type": "stream",
          "name": "stdout",
          "text": [
            "Marcus Butta\n"
          ]
        }
      ]
    },
    {
      "cell_type": "code",
      "source": [
        "print(name.upper())\n",
        "print(name.lower())"
      ],
      "metadata": {
        "colab": {
          "base_uri": "https://localhost:8080/"
        },
        "id": "bNWdiCz4PdrJ",
        "outputId": "3bb225fe-3ff5-4795-bd3e-8d4779add3ce"
      },
      "execution_count": 6,
      "outputs": [
        {
          "output_type": "stream",
          "name": "stdout",
          "text": [
            "MARCUS BUTTA\n",
            "marcus butta\n"
          ]
        }
      ]
    },
    {
      "cell_type": "code",
      "source": [
        "first_name = \"marcus\"\n",
        "last_name = \"butta\"\n",
        "full_name = f\"{first_name} {last_name}\"\n",
        "\n",
        "print(full_name)"
      ],
      "metadata": {
        "colab": {
          "base_uri": "https://localhost:8080/"
        },
        "id": "luzzF4NJPlck",
        "outputId": "910cf497-7a3e-493a-fdb7-fb48fbc843f5"
      },
      "execution_count": 7,
      "outputs": [
        {
          "output_type": "stream",
          "name": "stdout",
          "text": [
            "marcus butta\n"
          ]
        }
      ]
    },
    {
      "cell_type": "code",
      "source": [
        "print(f\"Hello, {full_name.title()}\")"
      ],
      "metadata": {
        "colab": {
          "base_uri": "https://localhost:8080/"
        },
        "id": "TFXhMs4CP-D6",
        "outputId": "db8e91c0-20d8-496b-bb3a-c6e576fbdf73"
      },
      "execution_count": 9,
      "outputs": [
        {
          "output_type": "stream",
          "name": "stdout",
          "text": [
            "Hello, Marcus Butta\n"
          ]
        }
      ]
    },
    {
      "cell_type": "code",
      "source": [
        "message = f\"Hello, {full_name.title()}\"\n",
        "print(message)"
      ],
      "metadata": {
        "colab": {
          "base_uri": "https://localhost:8080/"
        },
        "id": "yTZg0cHIQDI5",
        "outputId": "9feadc81-0cad-4ea2-9c5e-2aae11193883"
      },
      "execution_count": 10,
      "outputs": [
        {
          "output_type": "stream",
          "name": "stdout",
          "text": [
            "Hello, Marcus Butta\n"
          ]
        }
      ]
    },
    {
      "cell_type": "code",
      "source": [
        "print(\"Non Tabbed\")\n",
        "print(\"\\tTabbed\")"
      ],
      "metadata": {
        "colab": {
          "base_uri": "https://localhost:8080/"
        },
        "id": "7E1hleasQI4s",
        "outputId": "b82b4840-73e6-44a8-be2f-7a34d8fd3283"
      },
      "execution_count": 11,
      "outputs": [
        {
          "output_type": "stream",
          "name": "stdout",
          "text": [
            "Non Tabbed\n",
            "\tTabbed\n"
          ]
        }
      ]
    },
    {
      "cell_type": "code",
      "source": [
        "print(\"Lanuages:\\n\\tPython\\n\\tJava\\n\\tC\")"
      ],
      "metadata": {
        "colab": {
          "base_uri": "https://localhost:8080/"
        },
        "id": "-PlnoKkXQVqW",
        "outputId": "64d4079a-411c-4ce5-b176-592d30ed4919"
      },
      "execution_count": 13,
      "outputs": [
        {
          "output_type": "stream",
          "name": "stdout",
          "text": [
            "Lanuages:\n",
            "\tPython\n",
            "\tJava\n",
            "\tC\n"
          ]
        }
      ]
    },
    {
      "cell_type": "code",
      "source": [
        "favorite_language = \"python       \"\n",
        "print(f\"'{favorite_language}'\")\n",
        "print(f\"'{favorite_language.rstrip()}'\")"
      ],
      "metadata": {
        "colab": {
          "base_uri": "https://localhost:8080/"
        },
        "id": "Xisk4hJtQkIG",
        "outputId": "e68a666d-03bb-4ec5-879e-6918543334c8"
      },
      "execution_count": 16,
      "outputs": [
        {
          "output_type": "stream",
          "name": "stdout",
          "text": [
            "'python       '\n",
            "'python'\n"
          ]
        }
      ]
    },
    {
      "cell_type": "code",
      "source": [
        "google = \"https://google.com\"\n",
        "google.removeprefix(\"https://\")"
      ],
      "metadata": {
        "colab": {
          "base_uri": "https://localhost:8080/",
          "height": 36
        },
        "id": "dO0ufZixQ8iT",
        "outputId": "3de25fd8-2b6f-41b5-944a-63265a40fe83"
      },
      "execution_count": 17,
      "outputs": [
        {
          "output_type": "execute_result",
          "data": {
            "text/plain": [
              "'google.com'"
            ],
            "application/vnd.google.colaboratory.intrinsic+json": {
              "type": "string"
            }
          },
          "metadata": {},
          "execution_count": 17
        }
      ]
    },
    {
      "cell_type": "code",
      "source": [
        "simpleGoogle = google.removeprefix(\"https://\")\n",
        "print(simpleGoogle)"
      ],
      "metadata": {
        "colab": {
          "base_uri": "https://localhost:8080/"
        },
        "id": "xdfmmZdTRXLu",
        "outputId": "5c5d7137-51ba-446b-9099-778c4d63b8a3"
      },
      "execution_count": 18,
      "outputs": [
        {
          "output_type": "stream",
          "name": "stdout",
          "text": [
            "google.com\n"
          ]
        }
      ]
    },
    {
      "cell_type": "code",
      "source": [
        "message = \"I'm writing Python\"\n",
        "print(message)"
      ],
      "metadata": {
        "colab": {
          "base_uri": "https://localhost:8080/"
        },
        "id": "HmFbvy8WRipE",
        "outputId": "229a6739-1523-4ccf-d989-03374738686a"
      },
      "execution_count": 19,
      "outputs": [
        {
          "output_type": "stream",
          "name": "stdout",
          "text": [
            "I'm writing Python\n"
          ]
        }
      ]
    },
    {
      "cell_type": "markdown",
      "source": [
        "Try it yourself section:"
      ],
      "metadata": {
        "id": "J3pBmlClRvsj"
      }
    },
    {
      "cell_type": "code",
      "source": [
        "name = \"marcus\"\n",
        "message = f\"Hello, {name.title()}, how are you today?\"\n",
        "print(message)"
      ],
      "metadata": {
        "colab": {
          "base_uri": "https://localhost:8080/"
        },
        "id": "px1VzC7GRyQR",
        "outputId": "36a7f7a2-f11f-4f47-d950-6a62fdd83ca8"
      },
      "execution_count": 20,
      "outputs": [
        {
          "output_type": "stream",
          "name": "stdout",
          "text": [
            "Hello, Marcus, how are you today?\n"
          ]
        }
      ]
    },
    {
      "cell_type": "code",
      "source": [
        "name = \"marcus\"\n",
        "print(name.lower())\n",
        "print(name.upper())\n",
        "print(name.title())"
      ],
      "metadata": {
        "colab": {
          "base_uri": "https://localhost:8080/"
        },
        "id": "k7J8tlSBSCGK",
        "outputId": "3ef88b8b-3ecd-4261-9daf-3f8e95fa4d86"
      },
      "execution_count": 22,
      "outputs": [
        {
          "output_type": "stream",
          "name": "stdout",
          "text": [
            "marcus\n",
            "MARCUS\n",
            "Marcus\n"
          ]
        }
      ]
    },
    {
      "cell_type": "code",
      "source": [
        "quote = \"Life is like riding a bicycle. To keep your balance, you must keep moving.\"\n",
        "print(quote)"
      ],
      "metadata": {
        "colab": {
          "base_uri": "https://localhost:8080/"
        },
        "id": "v3b0TEqzSOGy",
        "outputId": "845d7ea1-afa5-4e1c-c51d-ff2c7cd3ca14"
      },
      "execution_count": 23,
      "outputs": [
        {
          "output_type": "stream",
          "name": "stdout",
          "text": [
            "Life is like riding a bicycle. To keep your balance, you must keep moving.\n"
          ]
        }
      ]
    },
    {
      "cell_type": "code",
      "source": [
        "quote = \"Life is like riding a bicycle. To keep your balance, you must keep moving.\"\n",
        "person = \"Albert Einstein\"\n",
        "message = f\"{person}: {quote}\"\n",
        "print(message)"
      ],
      "metadata": {
        "colab": {
          "base_uri": "https://localhost:8080/"
        },
        "id": "l4IceL3WTDWC",
        "outputId": "32c08f10-a9c7-4cb6-bc57-bfafd61176d0"
      },
      "execution_count": 24,
      "outputs": [
        {
          "output_type": "stream",
          "name": "stdout",
          "text": [
            "Albert Einstein: Life is like riding a bicycle. To keep your balance, you must keep moving.\n"
          ]
        }
      ]
    },
    {
      "cell_type": "code",
      "source": [
        "name = \"        \\n             \\tmarcus           \"\n",
        "print(name)\n",
        "print(name.rstrip())\n",
        "print(name.lstrip())\n",
        "print(name.strip())"
      ],
      "metadata": {
        "colab": {
          "base_uri": "https://localhost:8080/"
        },
        "id": "5gxUe9PTTX9h",
        "outputId": "b353dc45-60f6-4436-e016-c8d89c19800c"
      },
      "execution_count": 35,
      "outputs": [
        {
          "output_type": "stream",
          "name": "stdout",
          "text": [
            "        \n",
            "             \tmarcus           \n",
            "        \n",
            "             \tmarcus\n",
            "marcus           \n",
            "marcus\n"
          ]
        }
      ]
    },
    {
      "cell_type": "code",
      "source": [
        "windows_text = \"journal.txt\"\n",
        "linux_text = windows_text.removesuffix(\".txt\")\n",
        "print(linux_text)"
      ],
      "metadata": {
        "colab": {
          "base_uri": "https://localhost:8080/"
        },
        "id": "CAQM-kGvUNHT",
        "outputId": "f11c8d20-b33e-4e13-bcd8-5a7bcd853038"
      },
      "execution_count": 37,
      "outputs": [
        {
          "output_type": "stream",
          "name": "stdout",
          "text": [
            "journal\n"
          ]
        }
      ]
    },
    {
      "cell_type": "markdown",
      "source": [
        "end of try it yourself"
      ],
      "metadata": {
        "id": "4BSVoVV2UkhL"
      }
    },
    {
      "cell_type": "code",
      "source": [
        "(3 * 3) + 1"
      ],
      "metadata": {
        "colab": {
          "base_uri": "https://localhost:8080/"
        },
        "id": "0pR9wUsHUlxf",
        "outputId": "2a670a02-d843-40e2-be0b-c76dfa74817c"
      },
      "execution_count": 38,
      "outputs": [
        {
          "output_type": "execute_result",
          "data": {
            "text/plain": [
              "10"
            ]
          },
          "metadata": {},
          "execution_count": 38
        }
      ]
    },
    {
      "cell_type": "code",
      "source": [
        "0.1 + 0.5"
      ],
      "metadata": {
        "colab": {
          "base_uri": "https://localhost:8080/"
        },
        "id": "pZUAooKWUuB6",
        "outputId": "a3300e14-54ff-4336-8ce9-4e9b913ee3f5"
      },
      "execution_count": 39,
      "outputs": [
        {
          "output_type": "execute_result",
          "data": {
            "text/plain": [
              "0.6"
            ]
          },
          "metadata": {},
          "execution_count": 39
        }
      ]
    },
    {
      "cell_type": "code",
      "source": [
        "4/2"
      ],
      "metadata": {
        "colab": {
          "base_uri": "https://localhost:8080/"
        },
        "id": "PLRlEi-4Uwce",
        "outputId": "831e36f3-eb73-44aa-c362-1a83d511cf74"
      },
      "execution_count": 40,
      "outputs": [
        {
          "output_type": "execute_result",
          "data": {
            "text/plain": [
              "2.0"
            ]
          },
          "metadata": {},
          "execution_count": 40
        }
      ]
    },
    {
      "cell_type": "code",
      "source": [
        "1 * 1.0"
      ],
      "metadata": {
        "colab": {
          "base_uri": "https://localhost:8080/"
        },
        "id": "57hXqFMCU2qc",
        "outputId": "88209e85-b2c5-4870-8af6-2dcb6c0a6eab"
      },
      "execution_count": 44,
      "outputs": [
        {
          "output_type": "execute_result",
          "data": {
            "text/plain": [
              "1.0"
            ]
          },
          "metadata": {},
          "execution_count": 44
        }
      ]
    },
    {
      "cell_type": "code",
      "source": [
        "5.0 * 6"
      ],
      "metadata": {
        "colab": {
          "base_uri": "https://localhost:8080/"
        },
        "id": "9X4ksTFvU5GG",
        "outputId": "ec049cc7-eb62-43d4-affb-fcd9fddd0878"
      },
      "execution_count": 45,
      "outputs": [
        {
          "output_type": "execute_result",
          "data": {
            "text/plain": [
              "30.0"
            ]
          },
          "metadata": {},
          "execution_count": 45
        }
      ]
    },
    {
      "cell_type": "code",
      "source": [
        "20_000"
      ],
      "metadata": {
        "colab": {
          "base_uri": "https://localhost:8080/"
        },
        "id": "FWuFQmuVVAHm",
        "outputId": "f9b68728-93fa-4006-d948-32b0fc1a70cb"
      },
      "execution_count": 46,
      "outputs": [
        {
          "output_type": "execute_result",
          "data": {
            "text/plain": [
              "20000"
            ]
          },
          "metadata": {},
          "execution_count": 46
        }
      ]
    },
    {
      "cell_type": "code",
      "source": [
        "x, y = 2, 3\n",
        "print(x)\n",
        "print(y)"
      ],
      "metadata": {
        "colab": {
          "base_uri": "https://localhost:8080/"
        },
        "id": "sP31eNzvVFf5",
        "outputId": "e5b0079b-ef83-4961-a145-495b64b9db9d"
      },
      "execution_count": 47,
      "outputs": [
        {
          "output_type": "stream",
          "name": "stdout",
          "text": [
            "2\n",
            "3\n"
          ]
        }
      ]
    },
    {
      "cell_type": "code",
      "source": [
        "MAX_PLAYERS = 10"
      ],
      "metadata": {
        "id": "ygo1GalnVPoZ"
      },
      "execution_count": 48,
      "outputs": []
    },
    {
      "cell_type": "markdown",
      "source": [
        "Try it yourself"
      ],
      "metadata": {
        "id": "2-9HubWxVddb"
      }
    },
    {
      "cell_type": "code",
      "source": [
        "print(4 + 4)\n",
        "print(10 - 2)\n",
        "print(4 * 2)\n",
        "print(16 // 2)"
      ],
      "metadata": {
        "colab": {
          "base_uri": "https://localhost:8080/"
        },
        "id": "4Fl4p5CtVfoU",
        "outputId": "e74939fe-6ae1-41da-9151-623dca161092"
      },
      "execution_count": 50,
      "outputs": [
        {
          "output_type": "stream",
          "name": "stdout",
          "text": [
            "8\n",
            "8\n",
            "8\n",
            "8\n"
          ]
        }
      ]
    },
    {
      "cell_type": "code",
      "source": [
        "favNum = 64\n",
        "print(f\"I don't have a favorite number but let's pretend it is {favNum}.\")"
      ],
      "metadata": {
        "colab": {
          "base_uri": "https://localhost:8080/"
        },
        "id": "amp6GkbdV-VR",
        "outputId": "93fbece0-4fd8-4e68-c024-158742223f6f"
      },
      "execution_count": 52,
      "outputs": [
        {
          "output_type": "stream",
          "name": "stdout",
          "text": [
            "I don't have a favorite number but let's pretend it is 64.\n"
          ]
        }
      ]
    },
    {
      "cell_type": "code",
      "source": [
        "# Say hello to the world\n",
        "print(\"Hello world!\")"
      ],
      "metadata": {
        "colab": {
          "base_uri": "https://localhost:8080/"
        },
        "id": "otyMDTiMWHs_",
        "outputId": "5c364b5a-70ac-4afd-8357-40d059cc25c3"
      },
      "execution_count": 53,
      "outputs": [
        {
          "output_type": "stream",
          "name": "stdout",
          "text": [
            "Hello world!\n"
          ]
        }
      ]
    },
    {
      "cell_type": "markdown",
      "source": [
        "Try it yourself (comments)"
      ],
      "metadata": {
        "id": "MGeguua_WT3n"
      }
    },
    {
      "cell_type": "code",
      "source": [
        "# assign string to variable\n",
        "windows_text = \"journal.txt\"\n",
        "# remove suffix from string and assign to new variable\n",
        "linux_text = windows_text.removesuffix(\".txt\")\n",
        "#print new variable\n",
        "print(linux_text)"
      ],
      "metadata": {
        "colab": {
          "base_uri": "https://localhost:8080/"
        },
        "id": "m0bYj10QWV_V",
        "outputId": "e35f2f7c-ee83-4c5c-9392-93067053e7db"
      },
      "execution_count": 54,
      "outputs": [
        {
          "output_type": "stream",
          "name": "stdout",
          "text": [
            "journal\n"
          ]
        }
      ]
    },
    {
      "cell_type": "markdown",
      "source": [
        "Try it yourself (zen of python)"
      ],
      "metadata": {
        "id": "VniTcGMPXCtN"
      }
    },
    {
      "cell_type": "code",
      "source": [
        "import this"
      ],
      "metadata": {
        "colab": {
          "base_uri": "https://localhost:8080/"
        },
        "id": "QDCeU0ozWper",
        "outputId": "a71db7e6-0afe-4f51-a4b4-d14f1219b2f9"
      },
      "execution_count": 55,
      "outputs": [
        {
          "output_type": "stream",
          "name": "stdout",
          "text": [
            "The Zen of Python, by Tim Peters\n",
            "\n",
            "Beautiful is better than ugly.\n",
            "Explicit is better than implicit.\n",
            "Simple is better than complex.\n",
            "Complex is better than complicated.\n",
            "Flat is better than nested.\n",
            "Sparse is better than dense.\n",
            "Readability counts.\n",
            "Special cases aren't special enough to break the rules.\n",
            "Although practicality beats purity.\n",
            "Errors should never pass silently.\n",
            "Unless explicitly silenced.\n",
            "In the face of ambiguity, refuse the temptation to guess.\n",
            "There should be one-- and preferably only one --obvious way to do it.\n",
            "Although that way may not be obvious at first unless you're Dutch.\n",
            "Now is better than never.\n",
            "Although never is often better than *right* now.\n",
            "If the implementation is hard to explain, it's a bad idea.\n",
            "If the implementation is easy to explain, it may be a good idea.\n",
            "Namespaces are one honking great idea -- let's do more of those!\n"
          ]
        }
      ]
    }
  ]
}