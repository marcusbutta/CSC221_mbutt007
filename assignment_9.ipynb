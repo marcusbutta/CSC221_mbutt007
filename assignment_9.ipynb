{
  "nbformat": 4,
  "nbformat_minor": 0,
  "metadata": {
    "colab": {
      "provenance": [],
      "authorship_tag": "ABX9TyOUZhFWwRCcR8xJ9842M+a+",
      "include_colab_link": true
    },
    "kernelspec": {
      "name": "python3",
      "display_name": "Python 3"
    },
    "language_info": {
      "name": "python"
    }
  },
  "cells": [
    {
      "cell_type": "markdown",
      "metadata": {
        "id": "view-in-github",
        "colab_type": "text"
      },
      "source": [
        "<a href=\"https://colab.research.google.com/github/marcusbutta/CSC221_mbutt007/blob/main/assignment_9.ipynb\" target=\"_parent\"><img src=\"https://colab.research.google.com/assets/colab-badge.svg\" alt=\"Open In Colab\"/></a>"
      ]
    },
    {
      "cell_type": "markdown",
      "source": [
        "# Marcus Butta\n",
        "# Assignment 9"
      ],
      "metadata": {
        "id": "cMei3jKBCcbS"
      }
    },
    {
      "cell_type": "code",
      "execution_count": 1,
      "metadata": {
        "colab": {
          "base_uri": "https://localhost:8080/"
        },
        "id": "0ldzjXaWCX_k",
        "outputId": "e1d90caf-adb2-410b-88cd-9a1df91f376b"
      },
      "outputs": [
        {
          "output_type": "stream",
          "name": "stdout",
          "text": [
            "One of my favorite books is Life Of Pi\n"
          ]
        }
      ],
      "source": [
        "def favorite_book(title):\n",
        "  print(f\"One of my favorite books is {title.title()}\")\n",
        "\n",
        "book = \"life of pi\"\n",
        "favorite_book(book)"
      ]
    },
    {
      "cell_type": "code",
      "source": [
        "def make_shirt(size, text):\n",
        "  print(f\"This shirt is size {size} and says '{text}'.\")\n",
        "\n",
        "make_shirt('M', 'EPIC GAMER')"
      ],
      "metadata": {
        "colab": {
          "base_uri": "https://localhost:8080/"
        },
        "id": "f-aXDrVxDLzv",
        "outputId": "30dc84e2-2c86-49fb-a18f-4d83cf7a6a74"
      },
      "execution_count": 4,
      "outputs": [
        {
          "output_type": "stream",
          "name": "stdout",
          "text": [
            "This shirt is size M and says 'EPIC GAMER'.\n"
          ]
        }
      ]
    },
    {
      "cell_type": "code",
      "source": [
        "def make_shirt(size = 'L', text = 'I Love Python'):\n",
        "  print(f\"This shirt is size {size} and says '{text}'.\")\n",
        "\n",
        "make_shirt()\n",
        "make_shirt('M')\n",
        "make_shirt('S', 'I HATE Python')"
      ],
      "metadata": {
        "colab": {
          "base_uri": "https://localhost:8080/"
        },
        "id": "eSzwvE5zEDti",
        "outputId": "030c0a69-7681-4327-a5e1-8708f3d0e703"
      },
      "execution_count": 6,
      "outputs": [
        {
          "output_type": "stream",
          "name": "stdout",
          "text": [
            "This shirt is size L and says 'I Love Python'.\n",
            "This shirt is size M and says 'I Love Python'.\n",
            "This shirt is size S and says 'I HATE Python'.\n"
          ]
        }
      ]
    },
    {
      "cell_type": "code",
      "source": [
        "def car_dict(Model, Make, Color = 'Unknown', Trailer = 'No'):\n",
        "  car = {\n",
        "      'Model' : Model,\n",
        "      'Make' : Make,\n",
        "      'Color' : Color,\n",
        "      'Trailer' : Trailer\n",
        "  }\n",
        "  return car\n",
        "\n",
        "car = car_dict('Honda', 'Civic', Color = 'Blue')\n",
        "for key, value in car.items( ):\n",
        "    print(f\"{key}: {value}\")"
      ],
      "metadata": {
        "colab": {
          "base_uri": "https://localhost:8080/"
        },
        "id": "Xdjvxg2ZEg5Y",
        "outputId": "19d664d3-3511-4ebe-ae4d-b079a0364c96"
      },
      "execution_count": 12,
      "outputs": [
        {
          "output_type": "stream",
          "name": "stdout",
          "text": [
            "Model: Honda\n",
            "Make: Civic\n",
            "Color: Blue\n",
            "Trailer: No\n"
          ]
        }
      ]
    },
    {
      "cell_type": "markdown",
      "source": [
        "end of textbook try it yourself"
      ],
      "metadata": {
        "id": "g1FYuSI7GNFI"
      }
    },
    {
      "cell_type": "code",
      "source": [
        "import math\n",
        "\n",
        "def num_sum(num1, num2 = math.pi):\n",
        "  sum = num1 + num2\n",
        "  num_list = [num1, num2]\n",
        "  return sum, num_list\n",
        "\n",
        "sum, num_list = num_sum(2, 3)\n",
        "print(sum)\n",
        "print(num_list)\n",
        "sum, num_list = num_sum(5)\n",
        "print(sum)\n",
        "print(num_list)\n",
        "sum, num_list = num_sum(232, 66)\n",
        "print(sum)\n",
        "print(num_list)"
      ],
      "metadata": {
        "colab": {
          "base_uri": "https://localhost:8080/"
        },
        "id": "IRNXi0MMGPCP",
        "outputId": "fba0fe03-f741-42ad-8a2e-64bfabedab14"
      },
      "execution_count": 20,
      "outputs": [
        {
          "output_type": "stream",
          "name": "stdout",
          "text": [
            "5\n",
            "[2, 3]\n",
            "8.141592653589793\n",
            "[5, 3.141592653589793]\n",
            "298\n",
            "[232, 66]\n"
          ]
        }
      ]
    },
    {
      "cell_type": "code",
      "source": [
        "import math\n",
        "\n",
        "def num_sum(num1, num2 = math.pi, verbose = False):\n",
        "  sum = num1 + num2\n",
        "  num_list = [num1, num2]\n",
        "  if verbose is True:\n",
        "    print(f\"num1: {num1}\")\n",
        "    print(f\"num2: {num2}\")\n",
        "    print(f\"sum: {sum}\")\n",
        "  return sum, num_list\n",
        "\n",
        "sum, num_list = num_sum(1, 2)\n",
        "sum, num_list = num_sum(5, 4, verbose = True)"
      ],
      "metadata": {
        "colab": {
          "base_uri": "https://localhost:8080/"
        },
        "id": "zYJzAkI9HncX",
        "outputId": "72500505-e0f1-4374-dfaf-e18226cff0a6"
      },
      "execution_count": 23,
      "outputs": [
        {
          "output_type": "stream",
          "name": "stdout",
          "text": [
            "num1: 5\n",
            "num2: 4\n",
            "sum: 9\n"
          ]
        }
      ]
    }
  ]
}