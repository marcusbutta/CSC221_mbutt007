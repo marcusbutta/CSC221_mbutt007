{
  "nbformat": 4,
  "nbformat_minor": 0,
  "metadata": {
    "colab": {
      "provenance": [],
      "authorship_tag": "ABX9TyNhyhC44rohOsDWmHsdiHp5",
      "include_colab_link": true
    },
    "kernelspec": {
      "name": "python3",
      "display_name": "Python 3"
    },
    "language_info": {
      "name": "python"
    }
  },
  "cells": [
    {
      "cell_type": "markdown",
      "metadata": {
        "id": "view-in-github",
        "colab_type": "text"
      },
      "source": [
        "<a href=\"https://colab.research.google.com/github/marcusbutta/CSC221_mbutt007/blob/main/assignment_16_17.ipynb\" target=\"_parent\"><img src=\"https://colab.research.google.com/assets/colab-badge.svg\" alt=\"Open In Colab\"/></a>"
      ]
    },
    {
      "cell_type": "markdown",
      "source": [
        "# Assignments 16-17\n",
        "# Marcus Butta"
      ],
      "metadata": {
        "id": "Iz22oa-JUq3S"
      }
    },
    {
      "cell_type": "code",
      "execution_count": null,
      "metadata": {
        "colab": {
          "base_uri": "https://localhost:8080/"
        },
        "id": "AwytVtN_UXT9",
        "outputId": "c57b88be-190f-4270-c484-35364137b50e"
      },
      "outputs": [
        {
          "output_type": "stream",
          "name": "stdout",
          "text": [
            "Hello World!\n"
          ]
        }
      ],
      "source": [
        "# 1-1\n",
        "# Python runs using an interpreter which reads and runs the code.  The interpreter can be run in many forms.\n",
        "# You can run Python from a file or from the REPL.\n",
        "print(\"Hello World!\")"
      ]
    },
    {
      "cell_type": "code",
      "source": [
        "# 1-2\n",
        "# Pyton files use the .py file extension and UTF-8 encoding.\n",
        "# You can run a pyton file by running 'python <file>'\n",
        "# On UNIX systems you might have to give yourself execution commands for the file.\n",
        "\n",
        "#You can also use this below to tell your OS what Python version it should use:\n",
        "\n",
        "#!/usr/bin/env python3\n",
        "print(\"Hello World\")"
      ],
      "metadata": {
        "colab": {
          "base_uri": "https://localhost:8080/"
        },
        "id": "l4JXB8XKVG65",
        "outputId": "70e82cd6-18fa-4065-c637-4511fa2359fe"
      },
      "execution_count": null,
      "outputs": [
        {
          "output_type": "stream",
          "name": "stdout",
          "text": [
            "Hello World\n"
          ]
        }
      ]
    },
    {
      "cell_type": "code",
      "source": [
        "# 1-3\n",
        "\n",
        "# You can declare a specific type\n",
        "num: int = 5\n",
        "# Thought this is more of a hint and does not actually have to be followed\n",
        "\n",
        "# expressions produce a value\n",
        "print(9 + 3)\n"
      ],
      "metadata": {
        "colab": {
          "base_uri": "https://localhost:8080/"
        },
        "id": "ddr2HwztV_qC",
        "outputId": "b95bbbc9-6069-403f-a638-6b34fdfc4221"
      },
      "execution_count": null,
      "outputs": [
        {
          "output_type": "stream",
          "name": "stdout",
          "text": [
            "12\n"
          ]
        }
      ]
    },
    {
      "cell_type": "code",
      "source": [
        "# 1-4\n",
        "print(1 + 1)\n",
        "print(4 - 2)\n",
        "print(2 * 2)\n",
        "print(10 / 2)\n",
        "print(9 // 2)\n",
        "print(3 ** 2)\n",
        "print(3 % 2)\n",
        "print(4 % 4)\n",
        "round(1.5)\n",
        "print(+1)\n",
        "print(-1)\n",
        "\n",
        "# comparisons\n",
        "print(1 == 1)\n",
        "print(10 != 12)\n",
        "print(1 > 2)\n",
        "print(1 < 2)\n",
        "print(1 >= 1)\n",
        "print(1 <= 12)\n",
        "\n",
        "# more\n",
        "print(1 == 1 or 3 == 2)\n",
        "print(1 == 1 and 3 == 2)\n",
        "print(not 3)\n",
        "\n",
        "# shorthand\n",
        "y = 0\n",
        "y = y + 1\n",
        "y += 1\n",
        "y = y * 2\n",
        "y *= 2\n",
        "# this can be used with any of the ops"
      ],
      "metadata": {
        "colab": {
          "base_uri": "https://localhost:8080/"
        },
        "id": "T8_7hMTVaBWt",
        "outputId": "be5ef4dc-bd00-4b26-c12c-bcb21f3c7e8f"
      },
      "execution_count": null,
      "outputs": [
        {
          "output_type": "stream",
          "name": "stdout",
          "text": [
            "2\n",
            "2\n",
            "4\n",
            "5.0\n",
            "4\n",
            "9\n",
            "1\n",
            "0\n",
            "1\n",
            "-1\n",
            "True\n",
            "True\n",
            "False\n",
            "True\n",
            "True\n",
            "True\n",
            "True\n",
            "False\n",
            "False\n"
          ]
        }
      ]
    },
    {
      "cell_type": "code",
      "source": [
        "# 1-5\n",
        "if 1 + 1 == 2:\n",
        "  print(\"I can do math!\")\n",
        "\n",
        "thing = \"\"\n",
        "\n",
        "if thing is True:\n",
        "  print()\n",
        "elif thing is False:\n",
        "  print()\n",
        "else:\n",
        "  print()\n",
        "\n",
        "x = 0\n",
        "while (x := x + 1) < 10:\n",
        "  print(x)\n",
        "\n",
        "# in while loops 'break' goes out of the loop and does the code after the loop without finishing the rest, 'continue' finished the loop first and then does the code outside of the loop"
      ],
      "metadata": {
        "colab": {
          "base_uri": "https://localhost:8080/"
        },
        "id": "YxIcMWK750eL",
        "outputId": "72d1ad69-caf3-4b35-c291-f63f25da4712"
      },
      "execution_count": null,
      "outputs": [
        {
          "output_type": "stream",
          "name": "stdout",
          "text": [
            "I can do math!\n",
            "\n",
            "1\n",
            "2\n",
            "3\n",
            "4\n",
            "5\n",
            "6\n",
            "7\n",
            "8\n",
            "9\n"
          ]
        }
      ]
    },
    {
      "cell_type": "code",
      "source": [
        "# 1-6\n",
        "a = 'single quote'\n",
        "b = \"other single quote\"\n",
        "c = '''triple quotes\n",
        "can be multiple lines!'''\n",
        "d = \"\"\"and yes\n",
        "they also work like this\"\"\"\n",
        "\n",
        "print('''They even work\n",
        "in a print function''')\n",
        "\n",
        "print(\n",
        "    'You can also do this:'\n",
        "    '\\nline1'\n",
        "    '\\nline2'\n",
        ")\n",
        "\n",
        "a = \"WORD\"\n",
        "print(f\"Formatting is also quite cool: {a}\")\n",
        "print('Formatting is also quite cool: {}'.format(a))\n",
        "print('Formatting is also quite cool: %a' % a)\n",
        "\n",
        "print(len(a))\n",
        "print(a[0])\n",
        "# strings are sequences of characters kind of like a list\n",
        "for i in a:\n",
        "  print(i)\n",
        "\n",
        "# you also have some functions for dealing with strings like:\n",
        "print(a.lower())\n",
        "\n",
        "x = \"20\" # This will always be a string unless I tell python otherwise\n",
        "y = \"80\" # This as well, thanks python for being normal unlike some other language\n",
        "print(x + y)\n",
        "print(int(x) + int(y))"
      ],
      "metadata": {
        "colab": {
          "base_uri": "https://localhost:8080/"
        },
        "id": "qRgpeUDn7Rlf",
        "outputId": "d2312528-7eb0-45ba-b710-1c8aaad3ced0"
      },
      "execution_count": null,
      "outputs": [
        {
          "output_type": "stream",
          "name": "stdout",
          "text": [
            "They even work\n",
            "in a print function\n",
            "You can also do this:\n",
            "line1\n",
            "line2\n",
            "Formatting is also quite cool: WORD\n",
            "Formatting is also quite cool: WORD\n",
            "Formatting is also quite cool: 'WORD'\n",
            "4\n",
            "W\n",
            "W\n",
            "O\n",
            "R\n",
            "D\n",
            "word\n",
            "2080\n",
            "100\n"
          ]
        }
      ]
    },
    {
      "cell_type": "code",
      "source": [
        "%%file file.txt\n",
        "Hello World"
      ],
      "metadata": {
        "colab": {
          "base_uri": "https://localhost:8080/"
        },
        "id": "TVrAWTEpBOTS",
        "outputId": "5b2dccde-d2dd-44ce-fc3c-32165274affe"
      },
      "execution_count": null,
      "outputs": [
        {
          "output_type": "stream",
          "name": "stdout",
          "text": [
            "Writing file.txt\n"
          ]
        }
      ]
    },
    {
      "cell_type": "code",
      "source": [
        "# 1-7\n",
        "file = open('file.txt')\n",
        "for line in file:\n",
        "  print(line)\n",
        "\n",
        "with open('file.txt') as file:\n",
        "  text = file.read()\n",
        "  print(text)\n",
        "  while (chunk := file.read(1000)):\n",
        "    print(chunk, end='')\n",
        "\n",
        "with open('file.txt', 'a') as file:\n",
        "  uinput = input(\"Please enter an input: \")\n",
        "  file.write(uinput)"
      ],
      "metadata": {
        "colab": {
          "base_uri": "https://localhost:8080/"
        },
        "id": "u2uVNZlYApsx",
        "outputId": "7283ebef-0dc0-4a95-8248-68617512a6f6"
      },
      "execution_count": null,
      "outputs": [
        {
          "name": "stdout",
          "output_type": "stream",
          "text": [
            "Hello World\n",
            "\n",
            "Hello World\n",
            "\n",
            "Please enter an input: test\n"
          ]
        }
      ]
    },
    {
      "cell_type": "code",
      "source": [
        "# 1-8\n",
        "numbers = [1, 2, 3, 4, 5]\n",
        "print(numbers[1])\n",
        "print(numbers[-1])\n",
        "\n",
        "for num in numbers:\n",
        "  print(num)\n",
        "\n",
        "a = numbers[0:3]\n",
        "print(a)\n",
        "b = numbers + [6, 7, 8]\n",
        "print(b)\n",
        "\n",
        "# You can create an empty list\n",
        "list1 = []\n",
        "list1 = list()\n",
        "\n",
        "# Items do not have to be the same type\n",
        "list1.append('Linux')\n",
        "list1.append(3)\n",
        "print(list1)"
      ],
      "metadata": {
        "id": "R1Mm5rggFfhf",
        "colab": {
          "base_uri": "https://localhost:8080/"
        },
        "outputId": "28944c20-5e3c-4f22-c782-e5e3cf043f8a"
      },
      "execution_count": null,
      "outputs": [
        {
          "output_type": "stream",
          "name": "stdout",
          "text": [
            "2\n",
            "5\n",
            "1\n",
            "2\n",
            "3\n",
            "4\n",
            "5\n",
            "[1, 2, 3]\n",
            "[1, 2, 3, 4, 5, 6, 7, 8]\n",
            "['Linux', 3]\n"
          ]
        }
      ]
    },
    {
      "cell_type": "code",
      "source": [
        "# 1-9\n",
        "port = ('http', 80)\n",
        "print(port)\n",
        "a, b = port\n",
        "print(a)\n",
        "print(b)\n",
        "# Tuples are one of the few immutable things in python\n",
        "# Before the textbook gave an example I thought they were pretty silly\n",
        "# But you can use them as a blueprint for items that you put in a list"
      ],
      "metadata": {
        "id": "bKAkMo1fnNsB",
        "colab": {
          "base_uri": "https://localhost:8080/"
        },
        "outputId": "b9c2fa61-85bc-49db-a006-6a6a26c313fa"
      },
      "execution_count": null,
      "outputs": [
        {
          "output_type": "stream",
          "name": "stdout",
          "text": [
            "('http', 80)\n",
            "http\n",
            "80\n"
          ]
        }
      ]
    },
    {
      "cell_type": "code",
      "source": [
        "# 1-10\n",
        "numbers = {1, 2, 3, 4, 5}\n",
        "# sets are a little weird\n",
        "# at first they may appear like a list but you can't put a list in them\n",
        "try:\n",
        "  test = {[1,2,3]}\n",
        "except:\n",
        "  print(\"You can't put a list in a set!\")\n",
        "\n",
        "test2 = set([1,2,3])\n",
        "print(test2)\n",
        "# for some reason this works but it just converts the list to a set\n",
        "print(numbers)\n",
        "# You can't have repeats in a set\n",
        "# You also can't predict the order of a set\n",
        "# You can create a blank set and edit it\n",
        "stocks = set()\n",
        "stocks.add('GOOG')\n",
        "print(stocks)\n",
        "stocks.update({'APPL', 'MSFT', 'V'})\n",
        "print(stocks)\n",
        "# You can remove items in two ways\n",
        "stocks.remove('V')\n",
        "# remove will give you an error if the item does not exist, otherwise it will remove it\n",
        "stocks.discard('V')\n",
        "# discard willl remove the item if it exists but if it doesn't nothing happens"
      ],
      "metadata": {
        "colab": {
          "base_uri": "https://localhost:8080/"
        },
        "id": "qyAdchdnnZ1p",
        "outputId": "7f521605-4046-41bd-ca0f-f10bafc09e68"
      },
      "execution_count": null,
      "outputs": [
        {
          "output_type": "stream",
          "name": "stdout",
          "text": [
            "You can't put a list in a set!\n",
            "{1, 2, 3}\n",
            "{1, 2, 3, 4, 5}\n",
            "{'GOOG'}\n",
            "{'APPL', 'GOOG', 'V', 'MSFT'}\n"
          ]
        }
      ]
    },
    {
      "cell_type": "code",
      "source": [
        "# 1-11\n",
        "# Dictionaries are kinda like sets except items also have values\n",
        "stocks = {\n",
        "    'GOOG' : 80,\n",
        "    'APPL' : 95,\n",
        "    'MSFT' : 70,\n",
        "    'V' : 150\n",
        "}\n",
        "\n",
        "# you can access the value from the name\n",
        "print(stocks['GOOG'])\n",
        "# You can also add new items\n",
        "stocks['MC'] = 35\n",
        "print(stocks)\n",
        "# You can also delete items\n",
        "del stocks['V']\n",
        "print(stocks)\n",
        "# You can use other items for keys like tuples\n",
        "stocks[('VZ', 'other data')] = 3\n",
        "print(stocks)\n",
        "\n",
        "# empty dictionaries are pretty easy to create\n",
        "blank = {}\n",
        "blank = dict()\n",
        "# You can create lists based on data from dicts\n",
        "s = list(stocks)\n",
        "print(s)\n",
        "# you can also make them mirror the dictionary\n",
        "smirror = stocks.keys()\n",
        "print(smirror)\n",
        "del stocks[('VZ', 'other data')]\n",
        "print(smirror)\n",
        "\n",
        "# if you want to use both items in a dict you have to use <dict>.items\n",
        "for name, price in stocks.items():\n",
        "  print(f\"{name}: {price}\")"
      ],
      "metadata": {
        "colab": {
          "base_uri": "https://localhost:8080/"
        },
        "id": "_AnxcT-qpf-V",
        "outputId": "998158e2-26d8-4f25-c01d-d3e17970a9e2"
      },
      "execution_count": null,
      "outputs": [
        {
          "output_type": "stream",
          "name": "stdout",
          "text": [
            "80\n",
            "{'GOOG': 80, 'APPL': 95, 'MSFT': 70, 'V': 150, 'MC': 35}\n",
            "{'GOOG': 80, 'APPL': 95, 'MSFT': 70, 'MC': 35}\n",
            "{'GOOG': 80, 'APPL': 95, 'MSFT': 70, 'MC': 35, ('VZ', 'other data'): 3}\n",
            "['GOOG', 'APPL', 'MSFT', 'MC', ('VZ', 'other data')]\n",
            "dict_keys(['GOOG', 'APPL', 'MSFT', 'MC', ('VZ', 'other data')])\n",
            "dict_keys(['GOOG', 'APPL', 'MSFT', 'MC'])\n",
            "GOOG: 80\n",
            "APPL: 95\n",
            "MSFT: 70\n",
            "MC: 35\n"
          ]
        }
      ]
    },
    {
      "cell_type": "code",
      "source": [
        "# 1-12\n",
        "# a for loop goes through every thing in a thing\n",
        "for n in [1,2,3]:\n",
        "  print(n)\n",
        "# you can also use the range function to have an easier time with numbers\n",
        "for n in range(6):\n",
        "  print(n)\n",
        "for n in range(3, 6):\n",
        "  print(n)\n",
        "\n",
        "nameList = []\n",
        "name = \"marcus\"\n",
        "# you can loop through a string\n",
        "for c in name:\n",
        "  nameList.append(c)\n",
        "print(nameList)\n",
        "# and you can loop through a list\n",
        "for c in nameList:\n",
        "  print(c)\n",
        "# and even a dict\n",
        "for key in stocks:\n",
        "  print(f\"{key} is {stocks[key]}\")"
      ],
      "metadata": {
        "colab": {
          "base_uri": "https://localhost:8080/"
        },
        "id": "_7yCHiaQuQlP",
        "outputId": "2f50f2ab-8843-4551-ee5a-29762c875f97"
      },
      "execution_count": null,
      "outputs": [
        {
          "output_type": "stream",
          "name": "stdout",
          "text": [
            "1\n",
            "2\n",
            "3\n",
            "0\n",
            "1\n",
            "2\n",
            "3\n",
            "4\n",
            "5\n",
            "3\n",
            "4\n",
            "5\n",
            "['m', 'a', 'r', 'c', 'u', 's']\n",
            "m\n",
            "a\n",
            "r\n",
            "c\n",
            "u\n",
            "s\n",
            "GOOG is 80\n",
            "APPL is 95\n",
            "MSFT is 70\n",
            "MC is 35\n"
          ]
        }
      ]
    },
    {
      "cell_type": "code",
      "source": [
        "# 1-13\n",
        "def addition(a, b):\n",
        "  '''This function does simpe addition'''\n",
        "  c = a + b\n",
        "  return c\n",
        "\n",
        "num = addition(1, 1)\n",
        "print(num)\n",
        "\n",
        "# you could also do this\n",
        "def addition(a, b):\n",
        "  '''This function does simpe addition'''\n",
        "  c = a + b\n",
        "  return (c, a, b)\n",
        "\n",
        "num = addition(1, 1)\n",
        "print(num)"
      ],
      "metadata": {
        "colab": {
          "base_uri": "https://localhost:8080/"
        },
        "id": "b1dLOu9kvtLH",
        "outputId": "e5fa19cd-ffa0-42cb-c072-dedfec67b84c"
      },
      "execution_count": null,
      "outputs": [
        {
          "output_type": "stream",
          "name": "stdout",
          "text": [
            "2\n",
            "(2, 1, 1)\n"
          ]
        }
      ]
    },
    {
      "cell_type": "code",
      "source": [
        "# 1-14\n",
        "# exception handling allows you to handle potential errors\n",
        "notNum = \"hello\"\n",
        "\n",
        "try:\n",
        "  # tries to make a string an int\n",
        "  num = int(notNum)\n",
        "except ValueError:\n",
        "  # since it obviously can't it will print an error message\n",
        "  print(\"ERROR: Not an integer\")\n",
        "finally:\n",
        "  # finally always runs\n",
        "  print(\"yay\")"
      ],
      "metadata": {
        "colab": {
          "base_uri": "https://localhost:8080/"
        },
        "id": "xpMiQ2zYhB_P",
        "outputId": "bd503a6c-dbc3-4228-a3e5-a24a89a1a360"
      },
      "execution_count": null,
      "outputs": [
        {
          "output_type": "stream",
          "name": "stdout",
          "text": [
            "ERROR: Not an integer\n",
            "yay\n"
          ]
        }
      ]
    },
    {
      "cell_type": "code",
      "source": [
        "# 1-15\n",
        "# exits without error\n",
        "raise SystemExit()"
      ],
      "metadata": {
        "colab": {
          "base_uri": "https://localhost:8080/",
          "height": 166
        },
        "id": "53IDsbA1iYjC",
        "outputId": "5d012257-e13b-48f4-d68c-e04f07ca0814"
      },
      "execution_count": null,
      "outputs": [
        {
          "output_type": "error",
          "ename": "SystemExit",
          "evalue": "ignored",
          "traceback": [
            "An exception has occurred, use %tb to see the full traceback.\n",
            "\u001b[0;31mSystemExit\u001b[0m\n"
          ]
        },
        {
          "output_type": "stream",
          "name": "stderr",
          "text": [
            "/usr/local/lib/python3.10/dist-packages/IPython/core/interactiveshell.py:3561: UserWarning: To exit: use 'exit', 'quit', or Ctrl-D.\n",
            "  warn(\"To exit: use 'exit', 'quit', or Ctrl-D.\", stacklevel=1)\n"
          ]
        }
      ]
    },
    {
      "cell_type": "code",
      "source": [
        "# 1-15 pt 2\n",
        "# exits with error\n",
        "raise SystemExit(\"I exited\")"
      ],
      "metadata": {
        "colab": {
          "base_uri": "https://localhost:8080/",
          "height": 166
        },
        "id": "IalURvnqkd7i",
        "outputId": "59f53d76-b54e-4bc8-da17-9446d67ab54c"
      },
      "execution_count": null,
      "outputs": [
        {
          "output_type": "error",
          "ename": "SystemExit",
          "evalue": "ignored",
          "traceback": [
            "An exception has occurred, use %tb to see the full traceback.\n",
            "\u001b[0;31mSystemExit\u001b[0m\u001b[0;31m:\u001b[0m I exited\n"
          ]
        },
        {
          "output_type": "stream",
          "name": "stderr",
          "text": [
            "/usr/local/lib/python3.10/dist-packages/IPython/core/interactiveshell.py:3561: UserWarning: To exit: use 'exit', 'quit', or Ctrl-D.\n",
            "  warn(\"To exit: use 'exit', 'quit', or Ctrl-D.\", stacklevel=1)\n"
          ]
        }
      ]
    },
    {
      "cell_type": "code",
      "source": [
        "# 1-16\n",
        "class HelloWorld:\n",
        "  def __init__(self):\n",
        "    self.text = \"Hello World!\"\n",
        "  def out(self):\n",
        "    print(self.text)\n",
        "\n",
        "hello = HelloWorld()\n",
        "hello.out()\n",
        "thing = [1, 2]\n",
        "print(dir(thing))\n",
        "\n",
        "# private functions are functions that should only be used in a class\n",
        "# in python it is standard to label these with an underscore before their name like _func\n",
        "\n",
        "# classes can also inherit other classes\n",
        "class Hello(HelloWorld):\n",
        "  def out2(self):\n",
        "    print(\"Hello!\")\n",
        "\n",
        "hello2 = Hello()\n",
        "hello2.out()\n",
        "hello2.out2()\n",
        "# You don't always want to do this unless it makes sense in the context"
      ],
      "metadata": {
        "colab": {
          "base_uri": "https://localhost:8080/"
        },
        "id": "e9kTEZQWklcm",
        "outputId": "7147039b-e95f-472d-8202-dd89db3bc99c"
      },
      "execution_count": null,
      "outputs": [
        {
          "output_type": "stream",
          "name": "stdout",
          "text": [
            "Hello World!\n",
            "['__add__', '__class__', '__class_getitem__', '__contains__', '__delattr__', '__delitem__', '__dir__', '__doc__', '__eq__', '__format__', '__ge__', '__getattribute__', '__getitem__', '__gt__', '__hash__', '__iadd__', '__imul__', '__init__', '__init_subclass__', '__iter__', '__le__', '__len__', '__lt__', '__mul__', '__ne__', '__new__', '__reduce__', '__reduce_ex__', '__repr__', '__reversed__', '__rmul__', '__setattr__', '__setitem__', '__sizeof__', '__str__', '__subclasshook__', 'append', 'clear', 'copy', 'count', 'extend', 'index', 'insert', 'pop', 'remove', 'reverse', 'sort']\n",
            "Hello World!\n",
            "Hello!\n"
          ]
        }
      ]
    },
    {
      "cell_type": "code",
      "source": [
        "# 1-17\n",
        "# you can store code in another file and then import it to use it"
      ],
      "metadata": {
        "id": "YeJvRcO_A56Y"
      },
      "execution_count": null,
      "outputs": []
    },
    {
      "cell_type": "code",
      "source": [
        "%%file hello.py\n",
        "def Hello():\n",
        "  print(\"Hello World!\")"
      ],
      "metadata": {
        "colab": {
          "base_uri": "https://localhost:8080/"
        },
        "id": "mO45qz-iBQJr",
        "outputId": "5157af7a-3aa0-4faa-8f0e-7fb27deffc90"
      },
      "execution_count": null,
      "outputs": [
        {
          "output_type": "stream",
          "name": "stdout",
          "text": [
            "Overwriting hello.py\n"
          ]
        }
      ]
    },
    {
      "cell_type": "code",
      "source": [
        "import hello\n",
        "hello.Hello()"
      ],
      "metadata": {
        "colab": {
          "base_uri": "https://localhost:8080/"
        },
        "id": "2f-4JQNcBS1g",
        "outputId": "f52b5207-2872-4e5d-cfbe-01340d6bc16c"
      },
      "execution_count": null,
      "outputs": [
        {
          "output_type": "stream",
          "name": "stdout",
          "text": [
            "Hello World!\n"
          ]
        }
      ]
    },
    {
      "cell_type": "code",
      "source": [
        "# You also have a lot of standard modules\n",
        "import random\n",
        "\n",
        "things = ['dogs', 'cats']\n",
        "print(random.choice(things))"
      ],
      "metadata": {
        "colab": {
          "base_uri": "https://localhost:8080/"
        },
        "id": "x-HdfNngBql7",
        "outputId": "dcc1081e-fadd-4423-be44-b907cdbd4d83"
      },
      "execution_count": null,
      "outputs": [
        {
          "output_type": "stream",
          "name": "stdout",
          "text": [
            "dogs\n"
          ]
        }
      ]
    },
    {
      "cell_type": "code",
      "source": [
        "# There are also a bunch of third party modules for doing all sorts of other things\n",
        "# Modules are basically what other languages call libraries"
      ],
      "metadata": {
        "id": "oJRv3pKbBs1J"
      },
      "execution_count": null,
      "outputs": []
    },
    {
      "cell_type": "code",
      "source": [
        "# 1-18\n",
        "# you can also use import to run things as a script"
      ],
      "metadata": {
        "id": "22gUf_0lCP_l"
      },
      "execution_count": null,
      "outputs": []
    },
    {
      "cell_type": "code",
      "source": [
        "%%file hello_script.py\n",
        "print(\"Hello World!\")"
      ],
      "metadata": {
        "colab": {
          "base_uri": "https://localhost:8080/"
        },
        "id": "FzpEeACLb5La",
        "outputId": "8ab74091-0df1-419a-932c-b3e8268a7da6"
      },
      "execution_count": 6,
      "outputs": [
        {
          "output_type": "stream",
          "name": "stdout",
          "text": [
            "Writing hello_script.py\n"
          ]
        }
      ]
    },
    {
      "cell_type": "code",
      "source": [
        "import hello_script"
      ],
      "metadata": {
        "colab": {
          "base_uri": "https://localhost:8080/"
        },
        "id": "KDvqDbVfcCaW",
        "outputId": "7609acfe-cc57-4108-f0de-113197d3f26f"
      },
      "execution_count": null,
      "outputs": [
        {
          "output_type": "stream",
          "name": "stdout",
          "text": [
            "Hello World!\n"
          ]
        }
      ]
    },
    {
      "cell_type": "code",
      "source": [
        "# 1-19\n",
        "# you can also import from directories\n",
        "from hello import hello_script"
      ],
      "metadata": {
        "id": "vD87RewXgIe2",
        "colab": {
          "base_uri": "https://localhost:8080/"
        },
        "outputId": "a7d60efc-2742-4c4d-90ed-5a396bdb6c09"
      },
      "execution_count": 7,
      "outputs": [
        {
          "output_type": "stream",
          "name": "stdout",
          "text": [
            "Hello World!\n"
          ]
        }
      ]
    },
    {
      "cell_type": "code",
      "source": [
        "# 1-20\n",
        "# Your main source code should live in the directory with your __init__.py file\n",
        "# You might have other directories for tests or examples for configs or if it is a library programs using it"
      ],
      "metadata": {
        "id": "nI-r3cky2UUB"
      },
      "execution_count": 9,
      "outputs": []
    },
    {
      "cell_type": "code",
      "source": [
        "# 1-21\n",
        "# You might want to create a venv for your project to keep the python version and packages associated with that project contained within the project\n",
        "# You can do this with 'python -m venv <name>'"
      ],
      "metadata": {
        "id": "l96ZfPEU21WA"
      },
      "execution_count": 10,
      "outputs": []
    }
  ]
}