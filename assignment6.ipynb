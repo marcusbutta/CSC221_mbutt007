{
  "nbformat": 4,
  "nbformat_minor": 0,
  "metadata": {
    "colab": {
      "provenance": [],
      "authorship_tag": "ABX9TyMmRt86ffUHpYDkq3nDh9gx",
      "include_colab_link": true
    },
    "kernelspec": {
      "name": "python3",
      "display_name": "Python 3"
    },
    "language_info": {
      "name": "python"
    }
  },
  "cells": [
    {
      "cell_type": "markdown",
      "metadata": {
        "id": "view-in-github",
        "colab_type": "text"
      },
      "source": [
        "<a href=\"https://colab.research.google.com/github/marcusbutta/CSC221_mbutt007/blob/main/assignment6.ipynb\" target=\"_parent\"><img src=\"https://colab.research.google.com/assets/colab-badge.svg\" alt=\"Open In Colab\"/></a>"
      ]
    },
    {
      "cell_type": "code",
      "execution_count": null,
      "metadata": {
        "colab": {
          "base_uri": "https://localhost:8080/"
        },
        "id": "hYq5-vjrjaGz",
        "outputId": "9d1ac15e-4a43-458c-87a2-5100061ed31f"
      },
      "outputs": [
        {
          "output_type": "stream",
          "name": "stdout",
          "text": [
            "Audi\n",
            "BMW\n",
            "Subaru\n",
            "Toyota\n"
          ]
        }
      ],
      "source": [
        "cars = ['audi', 'bmw', 'subaru', 'toyota']\n",
        "\n",
        "for car in cars:\n",
        "  if car == 'bmw':\n",
        "    print(car.upper())\n",
        "  else:\n",
        "    print(car.title())"
      ]
    },
    {
      "cell_type": "code",
      "source": [
        "print(car == 'bmw')"
      ],
      "metadata": {
        "colab": {
          "base_uri": "https://localhost:8080/"
        },
        "id": "Xh2lt490kI4b",
        "outputId": "ca7049d3-8735-4eba-f0a6-d67c297013e6"
      },
      "execution_count": null,
      "outputs": [
        {
          "output_type": "stream",
          "name": "stdout",
          "text": [
            "False\n"
          ]
        }
      ]
    },
    {
      "cell_type": "code",
      "source": [
        "car = 'Audi'\n",
        "car.lower() == 'audi'"
      ],
      "metadata": {
        "colab": {
          "base_uri": "https://localhost:8080/"
        },
        "id": "eHpktUZDkNkM",
        "outputId": "0b15d849-f278-4dfc-c359-5766fe157af7"
      },
      "execution_count": null,
      "outputs": [
        {
          "output_type": "execute_result",
          "data": {
            "text/plain": [
              "True"
            ]
          },
          "metadata": {},
          "execution_count": 11
        }
      ]
    },
    {
      "cell_type": "code",
      "source": [
        "requested_topping = 'mushrooms'\n",
        "if requested_topping != 'anchovies':\n",
        "  print(\"Hold the anchovies!\")"
      ],
      "metadata": {
        "colab": {
          "base_uri": "https://localhost:8080/"
        },
        "id": "MlAXNQKukc-C",
        "outputId": "5addfc4d-3644-431d-c33e-bfd57e82287d"
      },
      "execution_count": null,
      "outputs": [
        {
          "output_type": "stream",
          "name": "stdout",
          "text": [
            "Hold the anchovies!\n"
          ]
        }
      ]
    },
    {
      "cell_type": "code",
      "source": [
        "age = 18\n",
        "age == 18\n",
        "age > 17\n",
        "age < 21"
      ],
      "metadata": {
        "colab": {
          "base_uri": "https://localhost:8080/"
        },
        "id": "uZ2ApRc8kzDk",
        "outputId": "65ad4321-f28c-4d32-d881-c5ae87d030ee"
      },
      "execution_count": null,
      "outputs": [
        {
          "output_type": "execute_result",
          "data": {
            "text/plain": [
              "False"
            ]
          },
          "metadata": {},
          "execution_count": 14
        }
      ]
    },
    {
      "cell_type": "code",
      "source": [
        "age1 = 22\n",
        "age2 = 19\n",
        "\n",
        "age1 >= 21 and age2 >= 21"
      ],
      "metadata": {
        "colab": {
          "base_uri": "https://localhost:8080/"
        },
        "id": "YD-L4h1ElEMK",
        "outputId": "305a4791-e43e-401b-e85b-3c57b6f7e043"
      },
      "execution_count": null,
      "outputs": [
        {
          "output_type": "execute_result",
          "data": {
            "text/plain": [
              "False"
            ]
          },
          "metadata": {},
          "execution_count": 15
        }
      ]
    },
    {
      "cell_type": "code",
      "source": [
        "requested_toppings = ['mushroom', 'anchovies', 'pineapple']\n",
        "'mushroom' in requested_toppings"
      ],
      "metadata": {
        "colab": {
          "base_uri": "https://localhost:8080/"
        },
        "id": "sMWeJurOlUNR",
        "outputId": "fe289307-2345-4c16-f85b-f0acac4b641f"
      },
      "execution_count": null,
      "outputs": [
        {
          "output_type": "execute_result",
          "data": {
            "text/plain": [
              "True"
            ]
          },
          "metadata": {},
          "execution_count": 16
        }
      ]
    },
    {
      "cell_type": "code",
      "source": [
        "banned_users = ['joe', 'kevin', 'john']\n",
        "user = 'bob'\n",
        "\n",
        "if user not in banned_users:\n",
        "  print(f\"{user.title()}, you may post a message if you wish.\")"
      ],
      "metadata": {
        "colab": {
          "base_uri": "https://localhost:8080/"
        },
        "id": "sfqh7ETplglf",
        "outputId": "a812e5fc-1f10-4154-a6ef-2bb1ef622cba"
      },
      "execution_count": null,
      "outputs": [
        {
          "output_type": "stream",
          "name": "stdout",
          "text": [
            "Bob, you may post a message if you wish.\n"
          ]
        }
      ]
    },
    {
      "cell_type": "code",
      "source": [
        "game_activity = True\n",
        "can_edit = False"
      ],
      "metadata": {
        "id": "Fps0qReH0v-J"
      },
      "execution_count": null,
      "outputs": []
    },
    {
      "cell_type": "markdown",
      "source": [
        "Try it yourself section:"
      ],
      "metadata": {
        "id": "IBivKtDP1cOE"
      }
    },
    {
      "cell_type": "code",
      "source": [
        "car = 'subaru'\n",
        "print(\"Is car == 'subaru'? I predict True.\")\n",
        "print(car == 'subaru')\n",
        "\n",
        "print(\"\\nIs car == 'audi'? I predict False.\")\n",
        "print(car == 'audi')"
      ],
      "metadata": {
        "colab": {
          "base_uri": "https://localhost:8080/"
        },
        "id": "pNuTMFCI1FZ4",
        "outputId": "ce86a538-db9a-456e-eb15-d767afd15b8a"
      },
      "execution_count": null,
      "outputs": [
        {
          "output_type": "stream",
          "name": "stdout",
          "text": [
            "Is car == 'subaru'? I predict True.\n",
            "True\n",
            "\n",
            "Is car == 'audi'? I predict False.\n",
            "False\n"
          ]
        }
      ]
    },
    {
      "cell_type": "markdown",
      "source": [
        "5-1"
      ],
      "metadata": {
        "id": "Jfu1Md-91qKF"
      }
    },
    {
      "cell_type": "code",
      "source": [
        "print((9 + 10) == 21)\n",
        "\n",
        "fruits = ['apple', 'pear', 'banana']\n",
        "print(len(fruits) > 10)\n",
        "\n",
        "print(fruits[0] == 'pear')\n",
        "\n",
        "print((10 == 10) != True)\n",
        "\n",
        "print(fruits[2] == 'Banana')\n",
        "\n",
        "print((9 + 10) == 19)\n",
        "\n",
        "print(len(fruits) < 10)\n",
        "\n",
        "print(fruits[0] == 'apple')\n",
        "\n",
        "print((10 == 10) == True)\n",
        "\n",
        "print(fruits[2] == 'banana')"
      ],
      "metadata": {
        "colab": {
          "base_uri": "https://localhost:8080/"
        },
        "id": "mYmlB3hV1b3z",
        "outputId": "37df3e96-6bdd-4057-fe26-f1bf678da4b5"
      },
      "execution_count": null,
      "outputs": [
        {
          "output_type": "stream",
          "name": "stdout",
          "text": [
            "False\n",
            "False\n",
            "False\n",
            "False\n",
            "False\n",
            "True\n",
            "True\n",
            "True\n",
            "True\n",
            "True\n"
          ]
        }
      ]
    },
    {
      "cell_type": "markdown",
      "source": [
        "5-2"
      ],
      "metadata": {
        "id": "4M7OgBLU3WaJ"
      }
    },
    {
      "cell_type": "code",
      "source": [
        "# strings\n",
        "name = 'marcus'\n",
        "print('marcus' == name)\n",
        "print('ned lecky' == name)\n",
        "\n",
        "# lower()\n",
        "hello = 'HELLO'\n",
        "print(hello.lower() == hello)\n",
        "hello = hello.lower()\n",
        "print(hello.lower() == hello)\n",
        "\n",
        "# numeric\n",
        "print((12 * 12) == 144)\n",
        "print((11 * 11) == 133)\n",
        "\n",
        "# keyword\n",
        "print((3 == 3) and (True is False))\n",
        "print((True is False) or (4 == 4))\n",
        "\n",
        "#list\n",
        "sports = ['soccer', 'basketball', 'football', 'baseball']\n",
        "print('soccer' in sports)\n",
        "print('golf' in sports)\n",
        "\n",
        "print('lacross' not in sports)\n",
        "print('basketball' not in sports)"
      ],
      "metadata": {
        "colab": {
          "base_uri": "https://localhost:8080/"
        },
        "id": "2TJp9QmG3X-h",
        "outputId": "9550e629-059b-4f03-ea84-9dcd478b56df"
      },
      "execution_count": null,
      "outputs": [
        {
          "output_type": "stream",
          "name": "stdout",
          "text": [
            "True\n",
            "False\n",
            "False\n",
            "True\n",
            "True\n",
            "False\n",
            "False\n",
            "True\n",
            "True\n",
            "False\n",
            "True\n",
            "False\n"
          ]
        }
      ]
    },
    {
      "cell_type": "markdown",
      "source": [
        "Try it yourself end"
      ],
      "metadata": {
        "id": "DmdYTsFa5tCU"
      }
    },
    {
      "cell_type": "code",
      "source": [
        "age = 19\n",
        "\n",
        "if age >= 18:\n",
        "  print(\"You are old enough to vote!\")\n",
        "  print(\"Have you registered yet?\")\n",
        "elif age < 18:\n",
        "  print(\"Sorry you are not old enough to vote :(\")\n",
        "  print(\"Please register to vote once you are 18!\")"
      ],
      "metadata": {
        "colab": {
          "base_uri": "https://localhost:8080/"
        },
        "id": "K_tpkiFs5uXq",
        "outputId": "5b3f67fb-8280-4e31-bf8f-7c9abcba62aa"
      },
      "execution_count": null,
      "outputs": [
        {
          "output_type": "stream",
          "name": "stdout",
          "text": [
            "You are old enough to vote!\n",
            "Have you registered yet?\n"
          ]
        }
      ]
    },
    {
      "cell_type": "code",
      "source": [
        "if age < 4:\n",
        "  price = 0\n",
        "elif age >= 18:\n",
        "  price = 20\n",
        "else:\n",
        "  price = 50\n",
        "\n",
        "print(f\"Your admission price is ${price}.\")"
      ],
      "metadata": {
        "colab": {
          "base_uri": "https://localhost:8080/"
        },
        "id": "0WZCiQwi6VH6",
        "outputId": "b64ccc7f-7dbd-47c3-f798-dd76444813e4"
      },
      "execution_count": null,
      "outputs": [
        {
          "output_type": "stream",
          "name": "stdout",
          "text": [
            "Your admission price is $20.\n"
          ]
        }
      ]
    },
    {
      "cell_type": "code",
      "source": [
        "requested_toppings = ['extra cheese', 'anchovies', 'mushroom']\n",
        "\n",
        "if 'extra cheese' in requested_toppings:\n",
        "  print(\"Adding extra cheese!\")\n",
        "if 'anchovies' in requested_toppings:\n",
        "  print(\"Adding anchovies!\")\n",
        "if 'mushroom' in requested_toppings:\n",
        "  print(\"Adding mushroom!\")\n",
        "if 'sausage' in requested_toppings:\n",
        "  print(\"Adding sausage!\")\n",
        "\n",
        "print(f\"\\nYour pizza is done!\")"
      ],
      "metadata": {
        "colab": {
          "base_uri": "https://localhost:8080/"
        },
        "id": "PTmQMBvg6y6U",
        "outputId": "496f5298-371e-415c-f987-602a07247d5a"
      },
      "execution_count": null,
      "outputs": [
        {
          "output_type": "stream",
          "name": "stdout",
          "text": [
            "Adding extra cheese!\n",
            "Adding anchovies!\n",
            "Adding mushroom!\n",
            "\n",
            "Your pizza is done!\n"
          ]
        }
      ]
    },
    {
      "cell_type": "markdown",
      "source": [
        "Try it yourself pt 2"
      ],
      "metadata": {
        "id": "pqBhw_jQ7m4i"
      }
    },
    {
      "cell_type": "code",
      "source": [
        "alien_color = 'green'\n",
        "points = 0\n",
        "\n",
        "if alien_color == 'green':\n",
        "  points += 5\n",
        "  print(\"Congrats you got 5 points!\")"
      ],
      "metadata": {
        "colab": {
          "base_uri": "https://localhost:8080/"
        },
        "id": "fm_5UGaC7qlo",
        "outputId": "2aae7d67-7b4c-437b-9504-930700452b03"
      },
      "execution_count": null,
      "outputs": [
        {
          "output_type": "stream",
          "name": "stdout",
          "text": [
            "Congrats you got 5 points!\n"
          ]
        }
      ]
    },
    {
      "cell_type": "code",
      "source": [
        "alien_color = 'yellow'\n",
        "points = 0\n",
        "\n",
        "if alien_color == 'green':\n",
        "  points += 5\n",
        "  print(\"Congrats you got 5 points!\")"
      ],
      "metadata": {
        "id": "kJj_UmVS8Ty4"
      },
      "execution_count": null,
      "outputs": []
    },
    {
      "cell_type": "code",
      "source": [
        "alien_color = 'green'\n",
        "points = 0\n",
        "\n",
        "if alien_color == 'green':\n",
        "  points += 5\n",
        "  print(\"Congrats you got 5 points!\")\n",
        "else:\n",
        "  points += 10\n",
        "  print(\"Congrats you got 10 points!\")"
      ],
      "metadata": {
        "colab": {
          "base_uri": "https://localhost:8080/"
        },
        "id": "gAyLrPEh8eeP",
        "outputId": "a23d942e-1899-4af0-cf3a-70cd2d9731a2"
      },
      "execution_count": null,
      "outputs": [
        {
          "output_type": "stream",
          "name": "stdout",
          "text": [
            "Congrats you got 5 points!\n"
          ]
        }
      ]
    },
    {
      "cell_type": "code",
      "source": [
        "alien_color = 'yellow'\n",
        "points = 0\n",
        "\n",
        "if alien_color == 'green':\n",
        "  points += 5\n",
        "  print(\"Congrats you got 5 points!\")\n",
        "else:\n",
        "  points += 10\n",
        "  print(\"Congrats you got 10 points!\")"
      ],
      "metadata": {
        "colab": {
          "base_uri": "https://localhost:8080/"
        },
        "id": "choKq6r_8tfW",
        "outputId": "a257a743-61ad-4717-ae85-158840d1469d"
      },
      "execution_count": null,
      "outputs": [
        {
          "output_type": "stream",
          "name": "stdout",
          "text": [
            "Congrats you got 10 points!\n"
          ]
        }
      ]
    },
    {
      "cell_type": "code",
      "source": [
        "alien_color = 'green'\n",
        "points = 0\n",
        "\n",
        "if alien_color == 'green':\n",
        "  points += 5\n",
        "  print(\"Congrats you got 5 points!\")\n",
        "elif alien_color == 'yellow':\n",
        "  points += 10\n",
        "  print(\"Congrats you got 10 points!\")\n",
        "elif alien_color == 'red':\n",
        "  points += 15\n",
        "  print(\"Congrats you got 10 points!\")"
      ],
      "metadata": {
        "colab": {
          "base_uri": "https://localhost:8080/"
        },
        "id": "pQ7FiKl788cK",
        "outputId": "e33cccfe-bcf8-4d64-d14f-6af80c9367a2"
      },
      "execution_count": null,
      "outputs": [
        {
          "output_type": "stream",
          "name": "stdout",
          "text": [
            "Congrats you got 5 points!\n"
          ]
        }
      ]
    },
    {
      "cell_type": "code",
      "source": [
        "alien_color = 'yellow'\n",
        "points = 0\n",
        "\n",
        "if alien_color == 'green':\n",
        "  points += 5\n",
        "  print(\"Congrats you got 5 points!\")\n",
        "elif alien_color == 'yellow':\n",
        "  points += 10\n",
        "  print(\"Congrats you got 10 points!\")\n",
        "elif alien_color == 'red':\n",
        "  points += 15\n",
        "  print(\"Congrats you got 10 points!\")"
      ],
      "metadata": {
        "colab": {
          "base_uri": "https://localhost:8080/"
        },
        "id": "ohM2DTJL9d9_",
        "outputId": "34cc3e03-804f-4ee6-f3bf-860602ccd276"
      },
      "execution_count": null,
      "outputs": [
        {
          "output_type": "stream",
          "name": "stdout",
          "text": [
            "Congrats you got 10 points!\n"
          ]
        }
      ]
    },
    {
      "cell_type": "code",
      "source": [
        "alien_color = 'red'\n",
        "points = 0\n",
        "\n",
        "if alien_color == 'green':\n",
        "  points += 5\n",
        "  print(\"Congrats you got 5 points!\")\n",
        "elif alien_color == 'yellow':\n",
        "  points += 10\n",
        "  print(\"Congrats you got 10 points!\")\n",
        "elif alien_color == 'red':\n",
        "  points += 15\n",
        "  print(\"Congrats you got 15 points!\")"
      ],
      "metadata": {
        "colab": {
          "base_uri": "https://localhost:8080/"
        },
        "id": "wTjEMTU19frW",
        "outputId": "b83747af-ba8b-4860-9234-9948f990630f"
      },
      "execution_count": null,
      "outputs": [
        {
          "output_type": "stream",
          "name": "stdout",
          "text": [
            "Congrats you got 15 points!\n"
          ]
        }
      ]
    },
    {
      "cell_type": "code",
      "source": [
        "age = 19\n",
        "\n",
        "if age < 2:\n",
        "  print(\"Person is a baby\")\n",
        "elif age >= 2 and age < 4:\n",
        "  print(\"Person is a toddler\")\n",
        "elif age >= 4 and age < 13:\n",
        "  print(\"Person is a kid\")\n",
        "elif age >= 13 and age < 20:\n",
        "  print(\"Person is a teenager\")\n",
        "elif age >= 20 and age < 65:\n",
        "  print(\"Person is an adult\")\n",
        "else:\n",
        "  print(\"Person is an elder\")"
      ],
      "metadata": {
        "colab": {
          "base_uri": "https://localhost:8080/"
        },
        "id": "b0DBuOyE9pvP",
        "outputId": "433fd38f-13dd-4e62-9305-93274f5cb9ec"
      },
      "execution_count": null,
      "outputs": [
        {
          "output_type": "stream",
          "name": "stdout",
          "text": [
            "Person is a teenager\n"
          ]
        }
      ]
    },
    {
      "cell_type": "code",
      "source": [
        "favorite_fruits = ['banana', 'pear', 'mango']\n",
        "\n",
        "if 'banana' in favorite_fruits:\n",
        "  print(\"You like bananas\")\n",
        "if 'pear' in favorite_fruits:\n",
        "  print(\"You like pears\")\n",
        "if 'mango' in favorite_fruits:\n",
        "  print(\"You like mangos\")\n",
        "if 'apple' in favorite_fruits:\n",
        "  print(\"You like apples\")\n",
        "if 'peach' in favorite_fruits:\n",
        "  print(\"You like peaches\")"
      ],
      "metadata": {
        "colab": {
          "base_uri": "https://localhost:8080/"
        },
        "id": "bWSB2YPE-ffc",
        "outputId": "6e15f1b1-9ff3-48f3-9a2a-13c8c68f8b2c"
      },
      "execution_count": null,
      "outputs": [
        {
          "output_type": "stream",
          "name": "stdout",
          "text": [
            "You like bananas\n",
            "You like pears\n",
            "You like mangos\n"
          ]
        }
      ]
    },
    {
      "cell_type": "markdown",
      "source": [
        "Try it yourself end"
      ],
      "metadata": {
        "id": "BD2HjtnZ_ZoL"
      }
    },
    {
      "cell_type": "code",
      "source": [
        "for topping in requested_toppings:\n",
        "  print(f\"Adding {topping}\")\n",
        "\n",
        "print(\"\\nYour pizza is ready!\")"
      ],
      "metadata": {
        "colab": {
          "base_uri": "https://localhost:8080/"
        },
        "id": "GijUvSiI_bwI",
        "outputId": "185dd0fe-0848-4479-b2c7-eda361e4ff76"
      },
      "execution_count": null,
      "outputs": [
        {
          "output_type": "stream",
          "name": "stdout",
          "text": [
            "Adding extra cheese\n",
            "Adding anchovies\n",
            "Adding mushroom\n",
            "\n",
            "Your pizza is ready!\n"
          ]
        }
      ]
    },
    {
      "cell_type": "markdown",
      "source": [
        "Custom idea:"
      ],
      "metadata": {
        "id": "_7g_YRfIAKuQ"
      }
    },
    {
      "cell_type": "code",
      "source": [
        "skyscrapers = {\n",
        "    'empire state' : 1454,\n",
        "    'space needle' : 605,\n",
        "    'world trade center' : 1792,\n",
        "}\n",
        "\n",
        "skyscraper_names = list(skyscrapers.keys())\n",
        "print(f\"Default organization: {skyscraper_names}\")\n",
        "\n",
        "if skyscrapers[skyscraper_names[0]] > skyscrapers[skyscraper_names[1]]:\n",
        "  skyscraper_names.insert(1, skyscraper_names.pop(0))\n",
        "if skyscrapers[skyscraper_names[1]] > skyscrapers[skyscraper_names[2]]:\n",
        "  skyscraper_names.insert(2, skyscraper_names.pop(1))\n",
        "\n",
        "print(f\"Organized by height: {skyscraper_names}\")"
      ],
      "metadata": {
        "colab": {
          "base_uri": "https://localhost:8080/"
        },
        "id": "AWOe1t1sAMGK",
        "outputId": "82e3bae3-5567-4cff-f83f-e2899fb86c32"
      },
      "execution_count": null,
      "outputs": [
        {
          "output_type": "stream",
          "name": "stdout",
          "text": [
            "Default organization: ['empire state', 'space needle', 'world trade center']\n",
            "Organized by height: ['space needle', 'empire state', 'world trade center']\n"
          ]
        }
      ]
    }
  ]
}