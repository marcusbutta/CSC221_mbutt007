{
  "nbformat": 4,
  "nbformat_minor": 0,
  "metadata": {
    "colab": {
      "provenance": [],
      "authorship_tag": "ABX9TyNkm4tsCnNyD9J5gXWwD9Tp",
      "include_colab_link": true
    },
    "kernelspec": {
      "name": "python3",
      "display_name": "Python 3"
    },
    "language_info": {
      "name": "python"
    }
  },
  "cells": [
    {
      "cell_type": "markdown",
      "metadata": {
        "id": "view-in-github",
        "colab_type": "text"
      },
      "source": [
        "<a href=\"https://colab.research.google.com/github/marcusbutta/CSC221_mbutt007/blob/main/assignment7.ipynb\" target=\"_parent\"><img src=\"https://colab.research.google.com/assets/colab-badge.svg\" alt=\"Open In Colab\"/></a>"
      ]
    },
    {
      "cell_type": "markdown",
      "source": [
        "# Name: Marcus Butta\n",
        "# Assignment 7"
      ],
      "metadata": {
        "id": "jGKLjH03tfrV"
      }
    },
    {
      "cell_type": "code",
      "execution_count": null,
      "metadata": {
        "colab": {
          "base_uri": "https://localhost:8080/"
        },
        "id": "CYSelMlFFuQk",
        "outputId": "129ae7fe-1e47-4870-abfa-dbdac340898d"
      },
      "outputs": [
        {
          "output_type": "stream",
          "name": "stdout",
          "text": [
            "green\n",
            "5\n"
          ]
        }
      ],
      "source": [
        "alien_0 = {'color' : 'green', 'points' : 5}\n",
        "print(alien_0['color'])\n",
        "print(alien_0['points'])"
      ]
    },
    {
      "cell_type": "code",
      "source": [
        "new_points = alien_0['points']\n",
        "print(f\"You just earned {new_points} points!\")"
      ],
      "metadata": {
        "colab": {
          "base_uri": "https://localhost:8080/"
        },
        "id": "F0VkI5taGR5m",
        "outputId": "402fe265-9ecd-4a7e-9133-73e095c668be"
      },
      "execution_count": null,
      "outputs": [
        {
          "output_type": "stream",
          "name": "stdout",
          "text": [
            "You just earned 5 points!\n"
          ]
        }
      ]
    },
    {
      "cell_type": "code",
      "source": [
        "print(alien_0)\n",
        "\n",
        "alien_0['x-posistion'] = 0\n",
        "alien_0['y-posistion'] = 25\n",
        "\n",
        "print(alien_0)"
      ],
      "metadata": {
        "colab": {
          "base_uri": "https://localhost:8080/"
        },
        "id": "uSaNMBsAGkaG",
        "outputId": "80088b56-ae5e-47cc-d340-e56235ce44a6"
      },
      "execution_count": null,
      "outputs": [
        {
          "output_type": "stream",
          "name": "stdout",
          "text": [
            "{'color': 'green', 'points': 5}\n",
            "{'color': 'green', 'points': 5, 'x-posistion': 0, 'y-posistion': 25}\n"
          ]
        }
      ]
    },
    {
      "cell_type": "code",
      "source": [
        "alien_0 = {}\n",
        "\n",
        "alien_0['color'] = 'green'\n",
        "alien_0['points'] = 5\n",
        "\n",
        "print(alien_0)"
      ],
      "metadata": {
        "colab": {
          "base_uri": "https://localhost:8080/"
        },
        "id": "iY4pPgN9G9Tu",
        "outputId": "057c7e5c-c12f-4136-84fe-36b854dc7932"
      },
      "execution_count": null,
      "outputs": [
        {
          "output_type": "stream",
          "name": "stdout",
          "text": [
            "{'color': 'green', 'points': 5}\n"
          ]
        }
      ]
    },
    {
      "cell_type": "code",
      "source": [
        "print(f\"The alien is {alien_0['color']}\")\n",
        "alien_0['color'] = 'yellow'\n",
        "print(f\"The alien is now {alien_0['color']}\")"
      ],
      "metadata": {
        "colab": {
          "base_uri": "https://localhost:8080/"
        },
        "id": "3X2UYCBUHIfk",
        "outputId": "566be870-c641-49b7-cde1-6207f28a8988"
      },
      "execution_count": null,
      "outputs": [
        {
          "output_type": "stream",
          "name": "stdout",
          "text": [
            "The alien is yellow\n",
            "The alien is now yellow\n"
          ]
        }
      ]
    },
    {
      "cell_type": "code",
      "source": [
        "alien_0 = {'color': 'green', 'points': 5}\n",
        "\n",
        "print(alien_0)\n",
        "del alien_0['points']\n",
        "print(alien_0)"
      ],
      "metadata": {
        "colab": {
          "base_uri": "https://localhost:8080/"
        },
        "id": "lDcAWlTZHTFV",
        "outputId": "6b81ef30-c36f-4e64-c79e-e372a3bb91d1"
      },
      "execution_count": null,
      "outputs": [
        {
          "output_type": "stream",
          "name": "stdout",
          "text": [
            "{'color': 'green', 'points': 5}\n",
            "{'color': 'green'}\n"
          ]
        }
      ]
    },
    {
      "cell_type": "code",
      "source": [
        "point_value = alien_0.get('points', 'No point value assigned.')\n",
        "print(point_value)"
      ],
      "metadata": {
        "colab": {
          "base_uri": "https://localhost:8080/"
        },
        "id": "0QD7IZFMHyEV",
        "outputId": "5c1a10dc-9303-4ce9-9dad-5d045b2c4250"
      },
      "execution_count": null,
      "outputs": [
        {
          "output_type": "stream",
          "name": "stdout",
          "text": [
            "No point value assigned.\n"
          ]
        }
      ]
    },
    {
      "cell_type": "markdown",
      "source": [
        "Try it yourself"
      ],
      "metadata": {
        "id": "uqIwxzguIB0m"
      }
    },
    {
      "cell_type": "code",
      "source": [
        "me = {\n",
        "    'first_name' : 'marcus',\n",
        "    'last_name' : 'butta',\n",
        "    'city' : 'new york'\n",
        "}\n",
        "\n",
        "print(f\"Hi, my name is {me['first_name'].title()} {me['last_name'].title()} and I live in the city of {me['city'].title()}!\")"
      ],
      "metadata": {
        "colab": {
          "base_uri": "https://localhost:8080/"
        },
        "id": "Xq_gZwmRIDHU",
        "outputId": "3478ea71-9cf6-4828-8154-51a02b37170e"
      },
      "execution_count": null,
      "outputs": [
        {
          "output_type": "stream",
          "name": "stdout",
          "text": [
            "Hi, my name is Marcus Butta and I live in the city of New York!\n"
          ]
        }
      ]
    },
    {
      "cell_type": "code",
      "source": [
        "favNums = {\n",
        "    'bob' : 32,\n",
        "    'sarah' : 21,\n",
        "    'john' : 70,\n",
        "    'jack' : 12,\n",
        "    'mary' : 42\n",
        "}\n",
        "\n",
        "for name in favNums:\n",
        "  print(f\"{name.title()}: {favNums[name]}\")"
      ],
      "metadata": {
        "colab": {
          "base_uri": "https://localhost:8080/"
        },
        "id": "I8IEzaAIIvk4",
        "outputId": "9c82e0df-fca0-42af-cc19-d02289b5cb86"
      },
      "execution_count": 8,
      "outputs": [
        {
          "output_type": "stream",
          "name": "stdout",
          "text": [
            "Bob: 32\n",
            "Sarah: 21\n",
            "John: 70\n",
            "Jack: 12\n",
            "Mary: 42\n"
          ]
        }
      ]
    },
    {
      "cell_type": "code",
      "source": [
        "prog_words = {\n",
        "    'Variable' : 'A tag you assign a value to.',\n",
        "    'For loop' : 'A loop that goes through all items in a variable.',\n",
        "    'While loop' : 'A loop that goes on for as long as the given statement is true.',\n",
        "    'Library' : 'Code that you can import into your code to make simple tasks easier.',\n",
        "    'If statement' : 'Code that will run if the given statement is true.'\n",
        "}\n",
        "\n",
        "for word in prog_words:\n",
        "  print(f\"{word}: {prog_words[word]}\\n\")"
      ],
      "metadata": {
        "colab": {
          "base_uri": "https://localhost:8080/"
        },
        "id": "FnwJrLArJgpK",
        "outputId": "e76bebde-efe2-4cf5-fe70-e585dbc7a770"
      },
      "execution_count": null,
      "outputs": [
        {
          "output_type": "stream",
          "name": "stdout",
          "text": [
            "Variable: A tag you assign a value to.\n",
            "\n",
            "For loop: A loop that goes through all items in a variable.\n",
            "\n",
            "While loop: A loop that goes on for as long as the given statement is true.\n",
            "\n",
            "Library: Code that you can import into your code to make simple tasks easier.\n",
            "\n",
            "If statement: Code that will run if the given statement is true.\n",
            "\n"
          ]
        }
      ]
    },
    {
      "cell_type": "markdown",
      "source": [
        "end of try it yourself"
      ],
      "metadata": {
        "id": "K3GUcyq6LR2b"
      }
    },
    {
      "cell_type": "code",
      "source": [
        "user_0 = {\n",
        "  'username': 'efermi',\n",
        "  'first': 'enrico',\n",
        "  'last': 'fermi',\n",
        "}\n",
        "\n",
        "for key, value in user_0.items():\n",
        "  print(f\"\\nKey: {key}\")\n",
        "  print(f\"Value: {value}\")"
      ],
      "metadata": {
        "colab": {
          "base_uri": "https://localhost:8080/"
        },
        "id": "SK4VUMcrLTOz",
        "outputId": "3a579989-e05a-4d8e-ba7e-3ad6d3c6848d"
      },
      "execution_count": null,
      "outputs": [
        {
          "output_type": "stream",
          "name": "stdout",
          "text": [
            "\n",
            "Key: username\n",
            "Value: efermi\n",
            "\n",
            "Key: first\n",
            "Value: enrico\n",
            "\n",
            "Key: last\n",
            "Value: fermi\n"
          ]
        }
      ]
    },
    {
      "cell_type": "code",
      "source": [
        "favorite_languages = {\n",
        "  'jen': 'python',\n",
        "  'sarah': 'c',\n",
        "  'edward': 'rust',\n",
        "  'phil': 'python',\n",
        "}\n",
        "\n",
        "for name in favorite_languages.keys():\n",
        "  print(name.title())"
      ],
      "metadata": {
        "colab": {
          "base_uri": "https://localhost:8080/"
        },
        "id": "RiY3nZmTLx4M",
        "outputId": "39180b4d-ccad-4103-9a22-cf3d6a5b41dc"
      },
      "execution_count": null,
      "outputs": [
        {
          "output_type": "stream",
          "name": "stdout",
          "text": [
            "Jen\n",
            "Sarah\n",
            "Edward\n",
            "Phil\n"
          ]
        }
      ]
    },
    {
      "cell_type": "code",
      "source": [
        "favorite_languages = {\n",
        "  'jen': 'python',\n",
        "  'sarah': 'c',\n",
        "  'edward': 'rust',\n",
        "  'phil': 'python',\n",
        "}\n",
        "\n",
        "print(\"The following languages have been mentioned:\")\n",
        "for language in favorite_languages.values():\n",
        "  print(language.title())"
      ],
      "metadata": {
        "colab": {
          "base_uri": "https://localhost:8080/"
        },
        "id": "B-wDgeQQMRat",
        "outputId": "d07337cc-4ff5-4b97-de44-a5ae8046df95"
      },
      "execution_count": null,
      "outputs": [
        {
          "output_type": "stream",
          "name": "stdout",
          "text": [
            "The following languages have been mentioned:\n",
            "Python\n",
            "C\n",
            "Rust\n",
            "Python\n"
          ]
        }
      ]
    },
    {
      "cell_type": "markdown",
      "source": [
        "try it yourself"
      ],
      "metadata": {
        "id": "iVpq1ao3MeUr"
      }
    },
    {
      "cell_type": "markdown",
      "source": [
        "I did not do 6-4 as I had already used a for loop"
      ],
      "metadata": {
        "id": "gqcK0UPzMfuQ"
      }
    },
    {
      "cell_type": "code",
      "source": [
        "rivers = {\n",
        "    'nile' : 'egypt',\n",
        "    'mississippi' : 'the united states',\n",
        "    'amazon' : 'brazil'\n",
        "}\n",
        "\n",
        "for river, country in rivers.items():\n",
        "  print(f\"The {river.title()} runs through {country.title()}\")"
      ],
      "metadata": {
        "colab": {
          "base_uri": "https://localhost:8080/"
        },
        "id": "MfgdBbfYMn_o",
        "outputId": "3430563f-7116-4e24-8ba0-18b37b4d4f49"
      },
      "execution_count": null,
      "outputs": [
        {
          "output_type": "stream",
          "name": "stdout",
          "text": [
            "The Nile runs through Egypt\n",
            "The Mississippi runs through The United States\n",
            "The Amazon runs through Brazil\n"
          ]
        }
      ]
    },
    {
      "cell_type": "code",
      "source": [
        "favorite_languages = {\n",
        "  'jen': 'python',\n",
        "  'sarah': 'c',\n",
        "  'edward': 'rust',\n",
        "  'phil': 'python',\n",
        "}\n",
        "\n",
        "poll_list = ('jen', 'edward', 'john', 'marry')\n",
        "\n",
        "for poller in poll_list:\n",
        "  if poller in favorite_languages:\n",
        "    print(f\"{poller.title()}, thank you for taking the poll.\")\n",
        "  else:\n",
        "    print(f\"{poller.title()}, please consider taking the poll.\")"
      ],
      "metadata": {
        "colab": {
          "base_uri": "https://localhost:8080/"
        },
        "id": "a0qxJaQAN8qT",
        "outputId": "e11fb9e8-a152-4e5a-9d57-7fa47a7a0048"
      },
      "execution_count": null,
      "outputs": [
        {
          "output_type": "stream",
          "name": "stdout",
          "text": [
            "Jen, thank you for taking the poll.\n",
            "Edward, thank you for taking the poll.\n",
            "John, please consider taking the poll.\n",
            "Marry, please consider taking the poll.\n"
          ]
        }
      ]
    },
    {
      "cell_type": "markdown",
      "source": [
        "end of do it yourself"
      ],
      "metadata": {
        "id": "zhEVoGEUO1_h"
      }
    },
    {
      "cell_type": "code",
      "source": [
        "alien_0 = {'color': 'green', 'points': 5}\n",
        "alien_1 = {'color': 'yellow', 'points': 10}\n",
        "alien_2 = {'color': 'red', 'points': 15}\n",
        "\n",
        "aliens = (alien_0, alien_1, alien_2)\n",
        "\n",
        "for alien in aliens:\n",
        "  print(alien)"
      ],
      "metadata": {
        "colab": {
          "base_uri": "https://localhost:8080/"
        },
        "id": "-LOl7sr1b7sc",
        "outputId": "777ba204-4d6d-47cc-becc-c69375b4e090"
      },
      "execution_count": null,
      "outputs": [
        {
          "output_type": "stream",
          "name": "stdout",
          "text": [
            "{'color': 'green', 'points': 5}\n",
            "{'color': 'yellow', 'points': 10}\n",
            "{'color': 'red', 'points': 15}\n"
          ]
        }
      ]
    },
    {
      "cell_type": "markdown",
      "source": [
        "try it yourself"
      ],
      "metadata": {
        "id": "Lcqg-Pw8kJtO"
      }
    },
    {
      "cell_type": "code",
      "source": [
        "me = {\n",
        "    'first_name' : 'marcus',\n",
        "    'last_name' : 'butta',\n",
        "    'city' : 'new york'\n",
        "}\n",
        "\n",
        "ned = {\n",
        "    'first_name' : 'ned',\n",
        "    'last_name' : 'lecky',\n",
        "    'city' : 'plattsburgh'\n",
        "}\n",
        "\n",
        "imaginary = {\n",
        "    'first_name' : 'john',\n",
        "    'last_name' : 'doe',\n",
        "    'city' : 'seattle'\n",
        "}\n",
        "\n",
        "people = (me, ned, imaginary)\n",
        "\n",
        "for i in people:\n",
        "  print(f\"Hi my name is {i['first_name'].title()} {i['last_name'].title()}, and I am from {i['city'].title()}\")"
      ],
      "metadata": {
        "id": "RIkW5uN7kLcb",
        "colab": {
          "base_uri": "https://localhost:8080/"
        },
        "outputId": "865ebe0b-e599-41d0-c233-326d9d034e18"
      },
      "execution_count": 4,
      "outputs": [
        {
          "output_type": "stream",
          "name": "stdout",
          "text": [
            "Hi my name is Marcus Butta, and I am from New York\n",
            "Hi my name is Ned Lecky, and I am from Plattsburgh\n",
            "Hi my name is John Doe, and I am from Seattle\n"
          ]
        }
      ]
    },
    {
      "cell_type": "code",
      "source": [
        "max = {\n",
        "    'name' : 'max',\n",
        "    'type' : 'dog',\n",
        "    'age' : 4\n",
        "}\n",
        "\n",
        "biscuit = {\n",
        "    'name' : 'biscuit',\n",
        "    'type' : 'cat',\n",
        "    'age' : 1\n",
        "}\n",
        "\n",
        "pirate = {\n",
        "    'name' : 'pirate',\n",
        "    'type' : 'parrot',\n",
        "    'age' : 3\n",
        "}\n",
        "\n",
        "dragon = {\n",
        "    'name' : 'dragon',\n",
        "    'type' : 'gecko',\n",
        "    'age' : 7\n",
        "}\n",
        "\n",
        "sushi = {\n",
        "    'name' : 'sushi',\n",
        "    'type' : 'cat',\n",
        "    'age' : 5\n",
        "}\n",
        "\n",
        "pets = (max, biscuit, pirate, dragon, sushi)\n",
        "\n",
        "for pet in pets:\n",
        "  print(f\"{pet['name'].title()} is {pet['age']} years old and is a {pet['type']}.\")"
      ],
      "metadata": {
        "colab": {
          "base_uri": "https://localhost:8080/"
        },
        "id": "1yZfQwg5kdB-",
        "outputId": "7471df02-60cd-47c7-f7e5-e1f27c31b004"
      },
      "execution_count": 5,
      "outputs": [
        {
          "output_type": "stream",
          "name": "stdout",
          "text": [
            "Max is 4 years old and is a dog.\n",
            "Biscuit is 1 years old and is a cat.\n",
            "Pirate is 3 years old and is a parrot.\n",
            "Dragon is 7 years old and is a gecko.\n",
            "Sushi is 5 years old and is a cat.\n"
          ]
        }
      ]
    },
    {
      "cell_type": "code",
      "source": [
        "favorite_places = {\n",
        "    'bob' : 'arcade',\n",
        "    'john' : 'pizza place',\n",
        "    'marry' : 'beach'\n",
        "}\n",
        "\n",
        "for person, place in favorite_places.items():\n",
        "  print(f\"{person.title()}'s favorite place is the {place}.\")"
      ],
      "metadata": {
        "colab": {
          "base_uri": "https://localhost:8080/"
        },
        "id": "reLp8VZ_mHYs",
        "outputId": "b226a9fb-0a40-4c50-e4a2-dd735c24b0e3"
      },
      "execution_count": 7,
      "outputs": [
        {
          "output_type": "stream",
          "name": "stdout",
          "text": [
            "Bob's favorite place is the arcade.\n",
            "John's favorite place is the pizza place.\n",
            "Marry's favorite place is the beach.\n"
          ]
        }
      ]
    },
    {
      "cell_type": "code",
      "source": [
        "favNums = {\n",
        "    'bob' : [2, 3, 8],\n",
        "    'sarah' : [21, 37],\n",
        "    'john' : [20, 34, 70],\n",
        "    'jack' : [12, 15, 18, 202],\n",
        "    'mary' : [42, 65]\n",
        "}\n",
        "\n",
        "for name in favNums:\n",
        "  print(f\"{name.title()}: {favNums[name]}\")"
      ],
      "metadata": {
        "colab": {
          "base_uri": "https://localhost:8080/"
        },
        "id": "QTcna9Tpm29W",
        "outputId": "f2c752d4-0173-42e5-c749-bcd4ea6cc667"
      },
      "execution_count": 13,
      "outputs": [
        {
          "output_type": "stream",
          "name": "stdout",
          "text": [
            "Bob: [2, 3, 8]\n",
            "Sarah: [21, 37]\n",
            "John: [20, 34, 70]\n",
            "Jack: [12, 15, 18, 202]\n",
            "Mary: [42, 65]\n"
          ]
        }
      ]
    },
    {
      "cell_type": "code",
      "source": [
        "cities = {\n",
        "    'new york' : {\n",
        "        'name' : 'new york',\n",
        "        'location' : 'the united states',\n",
        "        'population' : 8_804_190,\n",
        "        'size' : 472.43\n",
        "    },\n",
        "    'tokyo' : {\n",
        "        'name' : 'tokyo',\n",
        "        'location' : 'japan',\n",
        "        'population' : 14_094_034,\n",
        "        'size' : 847.14\n",
        "    },\n",
        "    'berlin' : {\n",
        "        'name' : 'berlin',\n",
        "        'location' : 'germany',\n",
        "        'population' : 3_850_809,\n",
        "        'size' : 344.1\n",
        "    },\n",
        "}\n",
        "\n",
        "for city in cities:\n",
        "  city = cities[city]\n",
        "  print(f\"{city['name'].title()} is a city in {city['location'].title()} that is {city['size']} sq mi, with a population of {city['population']}.\")"
      ],
      "metadata": {
        "colab": {
          "base_uri": "https://localhost:8080/"
        },
        "id": "o40df5PxoN4I",
        "outputId": "e5c3eb88-c111-42e4-bf9c-d657cacaa9f5"
      },
      "execution_count": 28,
      "outputs": [
        {
          "output_type": "stream",
          "name": "stdout",
          "text": [
            "New York is a city in The United States that is 472.43 sq mi, with a population of 8804190.\n",
            "Tokyo is a city in Japan that is 847.14 sq mi, with a population of 14094034.\n",
            "Berlin is a city in Germany that is 344.1 sq mi, with a population of 3850809.\n"
          ]
        }
      ]
    },
    {
      "cell_type": "code",
      "source": [
        "favNums = {\n",
        "    'bob' : [2, 3, 8],\n",
        "    'sarah' : [21, 37],\n",
        "    'john' : [20, 34, 70],\n",
        "    'jack' : [12, 15, 18, 202],\n",
        "    'mary' : [42, 65]\n",
        "}\n",
        "\n",
        "for name in favNums:\n",
        "  print(f\"\\n{name.title()}'s favorite numbers are:\\n\")\n",
        "  nums = favNums[name]\n",
        "  for num in nums:\n",
        "    print(f\"{num}\")"
      ],
      "metadata": {
        "colab": {
          "base_uri": "https://localhost:8080/"
        },
        "id": "Z0Kttgq_sb8q",
        "outputId": "3728084f-aab9-47cd-dd17-30f45fbe3720"
      },
      "execution_count": 36,
      "outputs": [
        {
          "output_type": "stream",
          "name": "stdout",
          "text": [
            "\n",
            "Bob's favorite numbers are:\n",
            "\n",
            "2\n",
            "3\n",
            "8\n",
            "\n",
            "Sarah's favorite numbers are:\n",
            "\n",
            "21\n",
            "37\n",
            "\n",
            "John's favorite numbers are:\n",
            "\n",
            "20\n",
            "34\n",
            "70\n",
            "\n",
            "Jack's favorite numbers are:\n",
            "\n",
            "12\n",
            "15\n",
            "18\n",
            "202\n",
            "\n",
            "Mary's favorite numbers are:\n",
            "\n",
            "42\n",
            "65\n"
          ]
        }
      ]
    }
  ]
}