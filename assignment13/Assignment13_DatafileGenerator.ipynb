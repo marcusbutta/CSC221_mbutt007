{
  "nbformat": 4,
  "nbformat_minor": 0,
  "metadata": {
    "colab": {
      "provenance": [],
      "include_colab_link": true
    },
    "kernelspec": {
      "name": "python3",
      "display_name": "Python 3"
    },
    "language_info": {
      "name": "python"
    }
  },
  "cells": [
    {
      "cell_type": "markdown",
      "metadata": {
        "id": "view-in-github",
        "colab_type": "text"
      },
      "source": [
        "<a href=\"https://colab.research.google.com/github/marcusbutta/CSC221_mbutt007/blob/main/assignment13/Assignment13_DatafileGenerator.ipynb\" target=\"_parent\"><img src=\"https://colab.research.google.com/assets/colab-badge.svg\" alt=\"Open In Colab\"/></a>"
      ]
    },
    {
      "cell_type": "code",
      "execution_count": 3,
      "metadata": {
        "id": "7aynL_Db1kIy"
      },
      "outputs": [],
      "source": [
        "# Assignment 13 Source File Generator\n",
        "# DO NOT MODIFY\n",
        "\n",
        "import random\n",
        "def do_x_percent(n):\n",
        "    chance = random.randint(0,99)\n",
        "    return chance < n\n",
        "\n",
        "_last_choice = \"?\"\n",
        "def choose_character(include_str, exclude_str=''):\n",
        "    global _last_choice\n",
        "    chosen_character = random.choice(include_str)\n",
        "    while chosen_character == _last_choice or chosen_character in exclude_str:\n",
        "        chosen_character = random.choice(include_str)\n",
        "\n",
        "    _last_choice = chosen_character\n",
        "    return chosen_character\n",
        "\n",
        "def rand_digit(exclude_str=''):\n",
        "    return choose_character('0123456789', exclude_str)\n",
        "\n",
        "def rand_vowel(exclude_str=''):\n",
        "    return choose_character('aeiou', exclude_str)\n",
        "\n",
        "def rand_consonant(exclude_str='qz'):\n",
        "    return choose_character('bcdfghjklmnpqrstvwyz', exclude_str)\n",
        "\n",
        "def gen_first_name():\n",
        "    name = rand_consonant().upper() + rand_vowel()\n",
        "\n",
        "    for i in range(random.randint(1, 2)):\n",
        "        name += rand_consonant()\n",
        "        name += rand_vowel()\n",
        "\n",
        "    return name\n",
        "\n",
        "def gen_last_name():\n",
        "    name = random.choice(['', '', '', '', '', 'de ', 'el '])\n",
        "    name += rand_consonant().upper() + rand_vowel()\n",
        "\n",
        "    for i in range(random.randint(2, 3)):\n",
        "        name += rand_consonant()\n",
        "        name += rand_vowel()\n",
        "        if do_x_percent(20):\n",
        "            name += rand_vowel()\n",
        "\n",
        "    return name\n",
        "\n",
        "def gen_default_email(first_name, last_name):\n",
        "    compacted_last = last_name.replace(' ', '')\n",
        "    if do_x_percent(60):\n",
        "        email = first_name[0].lower() + compacted_last[:4].lower()\n",
        "        num = random.randint(1,7)\n",
        "        email += f'{num:03d}@plattsburgh.edu'\n",
        "    else:\n",
        "        email = first_name.lower() + compacted_last[0].lower()\n",
        "        domain = random.randint(1,3)\n",
        "        if domain == 1:\n",
        "            email += '@gmail.com'\n",
        "        if domain == 2:\n",
        "            email += '@yahoo.com'\n",
        "        if domain == 3:\n",
        "            email += '@msn.com'\n",
        "\n",
        "    return email\n",
        "\n",
        "def gen_phone_number():\n",
        "    phone_number = '+' + str(random.randint(1,42))\n",
        "\n",
        "    phone_number += ' '\n",
        "    phone_number += rand_digit('0')\n",
        "    for i in range(2):\n",
        "       phone_number += rand_digit()\n",
        "\n",
        "    phone_number += ' '\n",
        "    for i in range(random.randint(3,4)):\n",
        "       phone_number += rand_digit()\n",
        "\n",
        "    phone_number += ' '\n",
        "    for i in range(random.randint(3,4)):\n",
        "       phone_number += rand_digit()\n",
        "\n",
        "    return phone_number\n",
        "\n",
        "def gen_pastimes():\n",
        "    pastime_set = set()\n",
        "    num_pastimes = random.randint(0, 4)\n",
        "\n",
        "    for i in range(num_pastimes):\n",
        "        pastime = random.choice(\n",
        "            ['tennis', 'piano', 'farming', 'fishing',\n",
        "             'coding', 'swimming', 'singing', 'airplanes', 'dancing',\n",
        "             'reading', 'saxophone', 'cards', 'hiking', 'bicycling', 'running',\n",
        "             'javelin', 'sewing', 'painting', 'poetry'])\n",
        "        pastime_set.add(pastime)\n",
        "\n",
        "    pastime_string = \"\"\n",
        "    first_time = True\n",
        "    for pastime in pastime_set:\n",
        "        if first_time:\n",
        "            first_time = False\n",
        "        else:\n",
        "            pastime_string += ', '\n",
        "            first_time = False\n",
        "        pastime_string += pastime\n",
        "\n",
        "    return pastime_string\n"
      ]
    },
    {
      "cell_type": "code",
      "source": [
        "# Assignment 13 Source File Generator\n",
        "# DO NOT MODIFY\n",
        "\n",
        "class Person:\n",
        "    def __init__(self):\n",
        "        self.first_name = gen_first_name()\n",
        "        self.last_name = gen_last_name()\n",
        "        self.email = gen_default_email(self.first_name, self.last_name)\n",
        "        self.phone_number = gen_phone_number()\n",
        "        self.pastimes = gen_pastimes()\n",
        "    def __str__(self):\n",
        "        ret = f'{self.first_name} {self.last_name}, {self.email}, {self.phone_number}'\n",
        "        if len(self.pastimes) > 0:\n",
        "          ret += f', {self.pastimes}'\n",
        "        return ret\n",
        "    def __lt__(self, other):\n",
        "        return self.first_name < other.first_name\n",
        "    def as_transmitted(self):\n",
        "        return str(self)\n",
        "    def as_received(self):\n",
        "        receive_string = self.as_transmitted()\n",
        "\n",
        "        # These are our \"typical\" random transmission errors :)\n",
        "        if do_x_percent(80):\n",
        "            receive_string = receive_string.replace('nn', 'nnn')\n",
        "        if do_x_percent(40):\n",
        "            receive_string = receive_string.replace('+', '++')\n",
        "        if do_x_percent(60):\n",
        "            receive_string = receive_string.replace('00', '0O')\n",
        "        if do_x_percent(40):\n",
        "            receive_string = receive_string.replace('.com', '_dot_com')\n",
        "        if do_x_percent(20):\n",
        "            receive_string = receive_string.replace('swimming', 'swiming')\n",
        "        if do_x_percent(20):\n",
        "            receive_string = receive_string.replace('plattsburgh', 'platsburgh')\n",
        "        if do_x_percent(20):\n",
        "            receive_string = receive_string.replace('plattsburgh', 'plattsburg')\n",
        "        if do_x_percent(20):\n",
        "            receive_string = receive_string.replace('plattsburgh', 'platsburg')\n",
        "        if do_x_percent(20):\n",
        "            receive_string = receive_string.replace('plattsburgh', 'plattsberg')\n",
        "        if do_x_percent(20):\n",
        "            receive_string = receive_string.replace(' ', '_', 7)\n",
        "\n",
        "        return receive_string\n",
        "\n",
        "# Example People and how they are garbled\n",
        "random.seed(1)\n",
        "people = [Person() for x in range(20)]\n",
        "for person in sorted(people):\n",
        "    print(person)\n",
        "    print(person.as_received())\n",
        "\n"
      ],
      "metadata": {
        "colab": {
          "base_uri": "https://localhost:8080/"
        },
        "id": "HSeKP4kK27n2",
        "outputId": "980b4a26-9413-4989-9cb1-39e28090dfbf"
      },
      "execution_count": 4,
      "outputs": [
        {
          "output_type": "stream",
          "name": "stdout",
          "text": [
            "Banono Difiwopi, banonod@gmail.com, +20 351 7195 640, saxophone, swimming\n",
            "Banono Difiwopi, banonod@gmail.com, ++20 351 7195 640, saxophone, swimming\n",
            "Dese el Ronouteo, desee@msn.com, +27 143 8038 9093, singing, swimming\n",
            "Dese el Ronouteo, desee@msn.com, +27 143 8038 9093, singing, swiming\n",
            "Gula Sojabobo, gulas@gmail.com, +38 150 806 083, javelin, airplanes, painting\n",
            "Gula Sojabobo, gulas@gmail_dot_com, +38 150 806 083, javelin, airplanes, painting\n",
            "Hidehi Hisitaino, hhisi001@plattsburgh.edu, +17 839 0306 027, sewing, airplanes, bicycling, painting\n",
            "Hidehi Hisitaino, hhisi001@plattsburgh.edu, ++17 839 0306 027, sewing, airplanes, bicycling, painting\n",
            "Huli Vinietewa, hvini004@plattsburgh.edu, +5 625 961 914, reading, poetry\n",
            "Huli Vinietewa, hvini004@plattsburgh.edu, +5 625 961 914, reading, poetry\n",
            "Jimupe de Sufuyo, jdesu003@plattsburgh.edu, +28 390 6568 081, dancing, fishing\n",
            "Jimupe de Sufuyo, jdesu0O3@platsburgh.edu, ++28 390 6568 081, dancing, fishing\n",
            "Juyeta de Mubimaji, jdemu003@plattsburgh.edu, +28 341 8587 101, swimming\n",
            "Juyeta_de_Mubimaji,_jdemu0O3@platsburg.edu,_++28_341_8587_101, swimming\n",
            "Lukika el Noleusu, lelno005@plattsburgh.edu, +17 782 754 3134\n",
            "Lukika_el_Noleusu,_lelno005@plattsberg.edu,_++17_782_754_3134\n",
            "Megu de Cihiwei, megud@gmail.com, +29 684 8706 2470, poetry, piano, tennis\n",
            "Megu_de_Cihiwei,_megud@gmail_dot_com,_+29_684_8706_2470, poetry, piano, tennnis\n",
            "Meli Lowira, mlowi005@plattsburgh.edu, +25 341 908 2185, reading, sewing, cards, bicycling\n",
            "Meli_Lowira,_mlowi0O5@plattsburg.edu,_+25_341_908_2185,_reading, sewing, cards, bicycling\n",
            "Nute de Magohabi, nuted@yahoo.com, +35 427 2780 8196\n",
            "Nute de Magohabi, nuted@yahoo_dot_com, ++35 427 2780 8196\n",
            "Pabeve de Domejelau, pabeved@yahoo.com, +30 802 8459 686, javelin\n",
            "Pabeve de Domejelau, pabeved@yahoo_dot_com, +30 802 8459 686, javelin\n",
            "Pesi Ruhiuru, pruhi003@plattsburgh.edu, +19 978 9073 6258, running, farming\n",
            "Pesi Ruhiuru, pruhi003@plattsburg.edu, +19 978 9073 6258, runnning, farming\n",
            "Puye Liyodebe, pliyo005@plattsburgh.edu, +42 735 7365 3018, sewing, swimming\n",
            "Puye Liyodebe, pliyo005@plattsburg.edu, ++42 735 7365 3018, sewing, swimming\n",
            "Seyi de Rageidame, seyid@yahoo.com, +9 809 729 635\n",
            "Seyi de Rageidame, seyid@yahoo_dot_com, +9 809 729 635\n",
            "Tivo Pobunobe, tpobu005@plattsburgh.edu, +38 218 0107 434\n",
            "Tivo_Pobunobe,_tpobu0O5@plattsburgh.edu,_++38_218_0107_434\n",
            "Vavo Taciyuhe, vtaci001@plattsburgh.edu, +13 836 9574 682, singing, piano, bicycling, painting\n",
            "Vavo Taciyuhe, vtaci0O1@platsburg.edu, ++13 836 9574 682, singing, piano, bicycling, painting\n",
            "Vifo de Siwoyoewa, vifod@msn.com, +33 379 4279 580, poetry, hiking, bicycling\n",
            "Vifo_de_Siwoyoewa,_vifod@msn.com,_+33_379_4279_580, poetry, hiking, bicycling\n",
            "Walaci Bafakuha, wbafa006@plattsburgh.edu, +16 216 8484 5135\n",
            "Walaci Bafakuha, wbafa0O6@plattsberg.edu, ++16 216 8484 5135\n",
            "Yina Yukeodi, yyuke006@plattsburgh.edu, +5 457 2185 825, sewing, fishing\n",
            "Yina Yukeodi, yyuke006@plattsburgh.edu, ++5 457 2185 825, sewing, fishing\n"
          ]
        }
      ]
    },
    {
      "cell_type": "code",
      "source": [
        "# Assignment 13 Source File Generator\n",
        "# DO NOT MODIFY\n",
        "\n",
        "# Creates a population of Person objects\n",
        "# Writes them uncorrupted to source_file.txt\n",
        "# Writes them as received to as_received[123].txt\n",
        "# Most records go into only one file but some are duplicated in two files\n",
        "def make_files(my_name, record_count=100):\n",
        "    random.seed(hash(my_name))\n",
        "\n",
        "    people = [Person() for x in range(record_count)]\n",
        "\n",
        "    source_file = open('source.txt', 'w')\n",
        "    received_file1 = open('as_received1.txt', 'w')\n",
        "    received_file2 = open('as_received2.txt', 'w')\n",
        "    received_file3 = open('as_received3.txt', 'w')\n",
        "\n",
        "    all_files = [source_file, received_file1, received_file2, received_file3]\n",
        "\n",
        "    for file in all_files:\n",
        "        file.write('Name, Email, Phone, Pastimes\\n')\n",
        "\n",
        "    source_file_line_count = 0\n",
        "    received_file1_line_count = 0\n",
        "    received_file2_line_count = 0\n",
        "    received_file3_line_count = 0\n",
        "    for person in sorted(people):\n",
        "        source_file.write(person.as_transmitted() + '\\n')\n",
        "        source_file_line_count += 1\n",
        "\n",
        "        # These are all 3-bit numbers that have either 1 or 2 bits turned on\n",
        "        #   with a bias to a single bit\n",
        "        choice = random.choice([1, 2, 4, 1, 2, 4, 1, 2, 4, 1, 2, 4, 3, 5, 6])\n",
        "        if choice & 1:\n",
        "            received_file1.write(person.as_received() + '\\n')\n",
        "            received_file1_line_count += 1\n",
        "        if choice & 2:\n",
        "            received_file2.write(person.as_received() + '\\n')\n",
        "            received_file2_line_count += 1\n",
        "        if choice & 4:\n",
        "            received_file3.write(person.as_received() + '\\n')\n",
        "            received_file3_line_count += 1\n",
        "\n",
        "    print(f'source_file written with {source_file_line_count} lines')\n",
        "    print(f'received_file1 written with {received_file1_line_count} lines')\n",
        "    print(f'received_file2 written with {received_file2_line_count} lines')\n",
        "    print(f'received_file3 written with {received_file3_line_count} lines')\n",
        "\n",
        "    for file in all_files:\n",
        "        file.close()\n"
      ],
      "metadata": {
        "id": "ZHVptnh69iMI"
      },
      "execution_count": 5,
      "outputs": []
    },
    {
      "cell_type": "markdown",
      "source": [
        "# You Edit Below Here!\n",
        "- Put in your name to change the random number seed and get your own custom files!\n",
        "- Use a small number like 20 for the record count so your files are manageable during debug\n",
        "- Final test is done with 100000 records\n",
        "- This creates the uncorrupted file\n",
        "  - source.txt file\n",
        "- It also creates the garbles files\n",
        "  - as_received1.txt\n",
        "  - as_received2.txt\n",
        "  - as_received3.txt\n"
      ],
      "metadata": {
        "id": "kkbTFGqleDE1"
      }
    },
    {
      "cell_type": "code",
      "source": [
        "# Run this to make your data files\n",
        "\n",
        "# Put in YOUR name\n",
        "# Generate 20-50 records to debug and 100000 for your final code check\n",
        "make_files(my_name='Marcus Butta', record_count=20)\n"
      ],
      "metadata": {
        "colab": {
          "base_uri": "https://localhost:8080/"
        },
        "id": "lW5OIax_Aqx1",
        "outputId": "bf856dc1-55c2-45e9-bcca-e7dc89483052"
      },
      "execution_count": 113,
      "outputs": [
        {
          "output_type": "stream",
          "name": "stdout",
          "text": [
            "source_file written with 20 lines\n",
            "received_file1 written with 4 lines\n",
            "received_file2 written with 7 lines\n",
            "received_file3 written with 12 lines\n"
          ]
        }
      ]
    },
    {
      "cell_type": "code",
      "source": [
        "def fixTransmissionErrors(file, debug=False):\n",
        "  with open(file, \"r\") as text:\n",
        "    text = text.readlines()\n",
        "    text.pop(0)\n",
        "  # print(text)\n",
        "  line = 0\n",
        "  while line <= len(text) - 1:\n",
        "    if debug is True:\n",
        "      print(\"Original:\")\n",
        "      print(text[line])\n",
        "    text[line] = text[line].replace('nnn', 'nn')\n",
        "    text[line] = text[line].replace('++', '+')\n",
        "    text[line] = text[line].replace('0O', '00')\n",
        "    text[line] = text[line].replace('_dot_com', '.com')\n",
        "    text[line] = text[line].replace('swiming', 'swimming')\n",
        "    text[line] = text[line].replace('platsburgh', 'plattsburgh')\n",
        "    text[line] = text[line].replace('platsburg', 'plattsburgh')\n",
        "    text[line] = text[line].replace('plattsburg', 'plattsburgh')\n",
        "    text[line] = text[line].replace('plattsberg', 'plattsburgh')\n",
        "    text[line] = text[line].replace('plattsburghh', 'plattsburgh')\n",
        "    text[line] = text[line].replace('plattsburghhh', 'plattsburgh')\n",
        "    text[line] = text[line].replace('_', ' ')\n",
        "    if debug is True:\n",
        "      print(\"Modified:\")\n",
        "      print(text[line])\n",
        "    line += 1\n",
        "  with open(file, \"w\") as newText:\n",
        "    newText.writelines(text)"
      ],
      "metadata": {
        "id": "Sguv9BffqnM_"
      },
      "execution_count": 99,
      "outputs": []
    },
    {
      "cell_type": "code",
      "source": [
        "def combineRecords(name, debug=False):\n",
        "  currentRecordNum = 1\n",
        "  currentRecordNumSTR = str(currentRecordNum)\n",
        "  currentFile = name + currentRecordNumSTR + \".txt\"\n",
        "  if debug is True:\n",
        "    print(currentFile)\n",
        "\n",
        "  fileName = name + \"_combined\" + \".txt\"\n",
        "  try:\n",
        "    open(fileName, \"x\")\n",
        "  except:\n",
        "    with open(fileName, \"w\") as fileNameText:\n",
        "      fileNameText.write(\"Name, Email, Phone, Pastimes\\n\")\n",
        "\n",
        "  flag = False\n",
        "  while flag is False:\n",
        "    try:\n",
        "      with open(currentFile, \"r\") as currentText:\n",
        "        if debug is True:\n",
        "          print(\"\\nIn try Loop:\")\n",
        "          print(currentFile)\n",
        "          print(currentText)\n",
        "        currentText = currentText.read()\n",
        "    except:\n",
        "      if debug is True:\n",
        "        print(\"\\nERROR: Out of range\")\n",
        "        print(currentFile)\n",
        "      flag = True\n",
        "      break\n",
        "    try:\n",
        "      with open(fileName, \"a\") as newFile:\n",
        "        newFile.write(currentText)\n",
        "        print(\"Success\")\n",
        "    except:\n",
        "      print(\"fileName error\")\n",
        "      print(fileName)\n",
        "    currentRecordNum += 1\n",
        "    currentRecordNumSTR = str(currentRecordNum)\n",
        "    currentFile = name + currentRecordNumSTR + \".txt\"\n",
        ""
      ],
      "metadata": {
        "id": "NpWtoFzAyFBg"
      },
      "execution_count": 118,
      "outputs": []
    },
    {
      "cell_type": "code",
      "source": [
        "fixTransmissionErrors(\"as_received1.txt\")\n",
        "fixTransmissionErrors(\"as_received2.txt\")\n",
        "fixTransmissionErrors(\"as_received3.txt\")"
      ],
      "metadata": {
        "id": "eBMD379ArIuC"
      },
      "execution_count": 115,
      "outputs": []
    },
    {
      "cell_type": "code",
      "source": [
        "combineRecords(\"as_received\")"
      ],
      "metadata": {
        "id": "RJcLOJUW2JE9",
        "colab": {
          "base_uri": "https://localhost:8080/"
        },
        "outputId": "11585252-b21c-455b-8fd7-4ac1166a5fce"
      },
      "execution_count": 119,
      "outputs": [
        {
          "output_type": "stream",
          "name": "stdout",
          "text": [
            "Success\n",
            "Success\n",
            "Success\n"
          ]
        }
      ]
    },
    {
      "cell_type": "markdown",
      "source": [
        "Testing:"
      ],
      "metadata": {
        "id": "yaxaQrtr_5Ym"
      }
    },
    {
      "cell_type": "code",
      "source": [
        "def test(records=20):\n",
        "  make_files(my_name='Marcus Butta', record_count=records)\n",
        "  fixTransmissionErrors(\"as_received1.txt\")\n",
        "  fixTransmissionErrors(\"as_received2.txt\")\n",
        "  fixTransmissionErrors(\"as_received3.txt\")\n",
        "  combineRecords(\"as_received\")"
      ],
      "metadata": {
        "id": "7Pgc22wy_1ey"
      },
      "execution_count": 153,
      "outputs": []
    },
    {
      "cell_type": "code",
      "source": [
        "test()"
      ],
      "metadata": {
        "colab": {
          "base_uri": "https://localhost:8080/"
        },
        "id": "Yp9NiwPuAsC6",
        "outputId": "bab89aba-5345-43d6-b017-ef1815642143"
      },
      "execution_count": 154,
      "outputs": [
        {
          "output_type": "stream",
          "name": "stdout",
          "text": [
            "source_file written with 20 lines\n",
            "received_file1 written with 4 lines\n",
            "received_file2 written with 7 lines\n",
            "received_file3 written with 12 lines\n",
            "Success\n",
            "Success\n",
            "Success\n"
          ]
        }
      ]
    },
    {
      "cell_type": "code",
      "source": [
        "test(100)"
      ],
      "metadata": {
        "colab": {
          "base_uri": "https://localhost:8080/"
        },
        "id": "_BrPtQe1B4rh",
        "outputId": "aa5f9e40-8d9f-49c4-8659-ebaff346cdee"
      },
      "execution_count": 155,
      "outputs": [
        {
          "output_type": "stream",
          "name": "stdout",
          "text": [
            "source_file written with 100 lines\n",
            "received_file1 written with 35 lines\n",
            "received_file2 written with 45 lines\n",
            "received_file3 written with 39 lines\n",
            "Success\n",
            "Success\n",
            "Success\n"
          ]
        }
      ]
    },
    {
      "cell_type": "code",
      "source": [
        "test(1000)"
      ],
      "metadata": {
        "colab": {
          "base_uri": "https://localhost:8080/"
        },
        "id": "M12Zp1HnCOo4",
        "outputId": "396e5607-6b9b-47c6-8f09-c31de4e5b100"
      },
      "execution_count": 157,
      "outputs": [
        {
          "output_type": "stream",
          "name": "stdout",
          "text": [
            "source_file written with 1000 lines\n",
            "received_file1 written with 432 lines\n",
            "received_file2 written with 411 lines\n",
            "received_file3 written with 385 lines\n",
            "Success\n",
            "Success\n",
            "Success\n"
          ]
        }
      ]
    },
    {
      "cell_type": "code",
      "source": [
        "test(100000)"
      ],
      "metadata": {
        "colab": {
          "base_uri": "https://localhost:8080/"
        },
        "id": "_VDSV-ZiC3kx",
        "outputId": "5b43876c-b7e1-48ea-9cd1-92595bb3c1a5"
      },
      "execution_count": 158,
      "outputs": [
        {
          "output_type": "stream",
          "name": "stdout",
          "text": [
            "source_file written with 100000 lines\n",
            "received_file1 written with 39876 lines\n",
            "received_file2 written with 40439 lines\n",
            "received_file3 written with 39742 lines\n",
            "Success\n",
            "Success\n",
            "Success\n"
          ]
        }
      ]
    }
  ]
}