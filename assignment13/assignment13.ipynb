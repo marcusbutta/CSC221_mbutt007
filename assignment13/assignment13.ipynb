{
  "nbformat": 4,
  "nbformat_minor": 0,
  "metadata": {
    "colab": {
      "provenance": [],
      "authorship_tag": "ABX9TyN2+MaWgzKQl3PQoVDk76aQ",
      "include_colab_link": true
    },
    "kernelspec": {
      "name": "python3",
      "display_name": "Python 3"
    },
    "language_info": {
      "name": "python"
    }
  },
  "cells": [
    {
      "cell_type": "markdown",
      "metadata": {
        "id": "view-in-github",
        "colab_type": "text"
      },
      "source": [
        "<a href=\"https://colab.research.google.com/github/marcusbutta/CSC221_mbutt007/blob/main/assignment13/assignment13.ipynb\" target=\"_parent\"><img src=\"https://colab.research.google.com/assets/colab-badge.svg\" alt=\"Open In Colab\"/></a>"
      ]
    },
    {
      "cell_type": "markdown",
      "source": [
        "# Marcus Butta\n",
        "# Assignment 13"
      ],
      "metadata": {
        "id": "y7P-VwANKV9m"
      }
    },
    {
      "cell_type": "markdown",
      "source": [
        "Try it yourself:"
      ],
      "metadata": {
        "id": "nrZJbRWkKeMO"
      }
    },
    {
      "cell_type": "code",
      "source": [
        "%%file learning_python.txt\n",
        "I have learned about variables in python.\n",
        "I have learned about if statements in python.\n",
        "I have learned about exception handing in python.\n",
        "I have learned about input in python.\n",
        "I have learned about importing in python."
      ],
      "metadata": {
        "colab": {
          "base_uri": "https://localhost:8080/"
        },
        "id": "d3l2ktBdKf8X",
        "outputId": "a8c076a2-4b75-412f-c6b8-252c20dee2d8"
      },
      "execution_count": null,
      "outputs": [
        {
          "output_type": "stream",
          "name": "stdout",
          "text": [
            "Overwriting learning_python.txt\n"
          ]
        }
      ]
    },
    {
      "cell_type": "code",
      "source": [
        "text = open(\"learning_python.txt\", \"r\")\n",
        "print(\"Printing File:\")\n",
        "print(text.read())\n",
        "print(\"\\nLooping through File:\")\n",
        "text = open(\"learning_python.txt\", \"r\")\n",
        "for line in text:\n",
        "  print(line)\n",
        "#Storing in list\n",
        "with open(\"learning_python.txt\") as text:\n",
        "  lines = text.readlines()\n",
        "\n",
        "print(\"\\nPrinting from a list:\")\n",
        "for line in lines:\n",
        "  print(line.rstrip())"
      ],
      "metadata": {
        "colab": {
          "base_uri": "https://localhost:8080/"
        },
        "id": "C5SQQfyfMr6m",
        "outputId": "4e219bed-d949-410b-f9d7-96af8957c227"
      },
      "execution_count": null,
      "outputs": [
        {
          "output_type": "stream",
          "name": "stdout",
          "text": [
            "Printing File:\n",
            "I have learned about variables in python.\n",
            "I have learned about if statements in python.\n",
            "I have learned about exception handing in python.\n",
            "I have learned about input in python.\n",
            "I have learned about importing in python.\n",
            "\n",
            "\n",
            "Looping through File:\n",
            "I have learned about variables in python.\n",
            "\n",
            "I have learned about if statements in python.\n",
            "\n",
            "I have learned about exception handing in python.\n",
            "\n",
            "I have learned about input in python.\n",
            "\n",
            "I have learned about importing in python.\n",
            "\n",
            "\n",
            "Printing from a list:\n",
            "I have learned about variables in python.\n",
            "I have learned about if statements in python.\n",
            "I have learned about exception handing in python.\n",
            "I have learned about input in python.\n",
            "I have learned about importing in python.\n"
          ]
        }
      ]
    },
    {
      "cell_type": "code",
      "source": [
        "%%file guest_list.txt\n",
        "Guest List:"
      ],
      "metadata": {
        "colab": {
          "base_uri": "https://localhost:8080/"
        },
        "id": "gbCu_ww0T2AW",
        "outputId": "779562e6-ec41-4f5f-db67-06b38896ff86"
      },
      "execution_count": null,
      "outputs": [
        {
          "output_type": "stream",
          "name": "stdout",
          "text": [
            "Overwriting guest_list.txt\n"
          ]
        }
      ]
    },
    {
      "cell_type": "code",
      "source": [
        "while True:\n",
        "  name = input(\"Please input your name ('q' to exit): \")\n",
        "  if name == 'q':\n",
        "    break\n",
        "  print(f\"Welcome {name.title()}\")\n",
        "  with open(\"guest_list.txt\", \"a\") as guest_list:\n",
        "    guest_list.write(f\"{name}\\n\")\n",
        "\n",
        "guest_list = open(\"guest_list.txt\", \"r\")\n",
        "print(guest_list.read())"
      ],
      "metadata": {
        "colab": {
          "base_uri": "https://localhost:8080/"
        },
        "id": "yiWaBwTUS89D",
        "outputId": "d5c9447b-6aaa-41c1-d325-5b8b47563c82"
      },
      "execution_count": null,
      "outputs": [
        {
          "output_type": "stream",
          "name": "stdout",
          "text": [
            "Please input your name ('q' to exit): Marcus\n",
            "Welcome Marcus\n",
            "Please input your name ('q' to exit): Sam\n",
            "Welcome Sam\n",
            "Please input your name ('q' to exit): Matt\n",
            "Welcome Matt\n",
            "Please input your name ('q' to exit): q\n",
            "Guest List:\n",
            "Marcus\n",
            "Sam\n",
            "Matt\n",
            "\n"
          ]
        }
      ]
    },
    {
      "cell_type": "markdown",
      "source": [
        "end of try it yourself"
      ],
      "metadata": {
        "id": "P3c8GCwUWB3s"
      }
    },
    {
      "cell_type": "code",
      "source": [],
      "metadata": {
        "id": "RPI-KVKHWEm0"
      },
      "execution_count": null,
      "outputs": []
    }
  ]
}