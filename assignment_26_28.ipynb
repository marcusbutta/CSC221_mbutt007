{
  "nbformat": 4,
  "nbformat_minor": 0,
  "metadata": {
    "colab": {
      "provenance": [],
      "authorship_tag": "ABX9TyPAxLQYx0tYifMju66WQVbp",
      "include_colab_link": true
    },
    "kernelspec": {
      "name": "python3",
      "display_name": "Python 3"
    },
    "language_info": {
      "name": "python"
    }
  },
  "cells": [
    {
      "cell_type": "markdown",
      "metadata": {
        "id": "view-in-github",
        "colab_type": "text"
      },
      "source": [
        "<a href=\"https://colab.research.google.com/github/marcusbutta/CSC221_mbutt007/blob/main/assignment_26_28.ipynb\" target=\"_parent\"><img src=\"https://colab.research.google.com/assets/colab-badge.svg\" alt=\"Open In Colab\"/></a>"
      ]
    },
    {
      "cell_type": "markdown",
      "source": [
        "# Assignment 26-28\n",
        "# Marcus Butta"
      ],
      "metadata": {
        "id": "CrofBPc5SuT4"
      }
    },
    {
      "cell_type": "code",
      "execution_count": null,
      "metadata": {
        "colab": {
          "base_uri": "https://localhost:8080/"
        },
        "id": "3ZleSmizSrtU",
        "outputId": "1da327bd-6c96-4966-c0c2-09da575a9d79"
      },
      "outputs": [
        {
          "output_type": "stream",
          "name": "stdout",
          "text": [
            "<class 'int'> 15 18\n",
            "<class 'float'> 63.444 253.776\n",
            "<class 'str'> helloworld helloworldhelloworldhelloworldhelloworld\n"
          ]
        }
      ],
      "source": [
        "# Cell 1: Demonstrate int, float, and string\n",
        "a = 15\n",
        "b = 63.444\n",
        "c = 'helloworld'\n",
        "\n",
        "print(type(a), a, a + 3)\n",
        "print(type(b), b, b * 4)\n",
        "print(type(c), c, c * 4)"
      ]
    },
    {
      "cell_type": "code",
      "source": [
        "# Cell 2: Show how an f-string works (f'Something like this with {something} in it.')\n",
        "print(f'The variable a is {a} and c*5 is {c*5}')"
      ],
      "metadata": {
        "colab": {
          "base_uri": "https://localhost:8080/"
        },
        "id": "4MTuxQWDTQaG",
        "outputId": "38070176-f536-4fdd-f819-5710845eca96"
      },
      "execution_count": null,
      "outputs": [
        {
          "output_type": "stream",
          "name": "stdout",
          "text": [
            "The variable a is 15 and c*5 is helloworldhelloworldhelloworldhelloworldhelloworld\n"
          ]
        }
      ]
    },
    {
      "cell_type": "code",
      "source": [
        "# Cell 3: Demonstrate some methods of the string class\n",
        "name = 'ned lecky'\n",
        "print(name, name.title())\n",
        "upper = name.upper()\n",
        "print(upper)"
      ],
      "metadata": {
        "colab": {
          "base_uri": "https://localhost:8080/"
        },
        "id": "Hs-BWv0FTzJw",
        "outputId": "984850e7-9c9e-4758-f58b-e6850ebc53c2"
      },
      "execution_count": null,
      "outputs": [
        {
          "output_type": "stream",
          "name": "stdout",
          "text": [
            "ned lecky Ned Lecky\n",
            "NED LECKY\n"
          ]
        }
      ]
    },
    {
      "cell_type": "code",
      "source": [
        "# Cell 4: Do something with a list\n",
        "abc = [15, 64, 140, 30]\n",
        "print(abc)\n",
        "for x in sorted(abc):\n",
        "    print(x)\n",
        "\n",
        "print(f'min: {min(abc)}')\n",
        "print('min: ' + str(min(abc)))\n",
        "print('max: ' + str(max(abc)))\n",
        "print('sum: ' + str(sum(abc)))"
      ],
      "metadata": {
        "colab": {
          "base_uri": "https://localhost:8080/"
        },
        "id": "A9kXS4xQUHle",
        "outputId": "563f45a3-5a45-4a6b-ecec-65839ac71a0e"
      },
      "execution_count": null,
      "outputs": [
        {
          "output_type": "stream",
          "name": "stdout",
          "text": [
            "[15, 64, 140, 30]\n",
            "15\n",
            "30\n",
            "64\n",
            "140\n",
            "min: 15\n",
            "min: 15\n",
            "max: 140\n",
            "sum: 249\n"
          ]
        }
      ]
    },
    {
      "cell_type": "code",
      "source": [
        "# Cell 5: Do something with a list of lists\n",
        "xyz = []\n",
        "xyz.append([72, 38, 84])\n",
        "xyz.append([20, 'hello'])\n",
        "\n",
        "print(xyz)\n",
        "\n",
        "xyz2 = [[72, 38, 84], [17, 3], [20, 'hello']]\n",
        "print(xyz2)"
      ],
      "metadata": {
        "colab": {
          "base_uri": "https://localhost:8080/"
        },
        "id": "0iB9FiDWUeA9",
        "outputId": "18c27c52-cd20-46ad-ab47-cdf0ea125abb"
      },
      "execution_count": null,
      "outputs": [
        {
          "output_type": "stream",
          "name": "stdout",
          "text": [
            "[[72, 38, 84], [20, 'hello']]\n",
            "[[72, 38, 84], [17, 3], [20, 'hello']]\n"
          ]
        }
      ]
    },
    {
      "cell_type": "code",
      "source": [
        "# Cell 6: Show how to print a list in sorted order without changing it.\n",
        "abc = [34, 83, 623, 9]\n",
        "print(sorted(abc))\n",
        "print(abc)"
      ],
      "metadata": {
        "colab": {
          "base_uri": "https://localhost:8080/"
        },
        "id": "kx9AEf6ZU82i",
        "outputId": "96e6e82d-acbd-4df1-aaa8-8e2c1cbfef6d"
      },
      "execution_count": null,
      "outputs": [
        {
          "output_type": "stream",
          "name": "stdout",
          "text": [
            "[9, 34, 83, 623]\n",
            "[34, 83, 623, 9]\n"
          ]
        }
      ]
    },
    {
      "cell_type": "code",
      "source": [
        "# Cell 7: Printing a series of numbers using for and range\n",
        "def f1():\n",
        "    for x in range(7, 100, 3):\n",
        "        print(x, end=' ')\n",
        "\n",
        "f1()"
      ],
      "metadata": {
        "colab": {
          "base_uri": "https://localhost:8080/"
        },
        "id": "R3Ik2B0iWKbi",
        "outputId": "66829199-e571-4129-c961-ecf53b1a60f2"
      },
      "execution_count": null,
      "outputs": [
        {
          "output_type": "stream",
          "name": "stdout",
          "text": [
            "7 10 13 16 19 22 25 28 31 34 37 40 43 46 49 52 55 58 61 64 67 70 73 76 79 82 85 88 91 94 97 "
          ]
        }
      ]
    },
    {
      "cell_type": "code",
      "source": [
        "# Cell 8: Printing a series of squares of all numbers from 1 to 1000 that are not multiples of 7 using list comprehension.\n",
        "print([x*x for x in range(1,1000) if x % 7 != 0])"
      ],
      "metadata": {
        "colab": {
          "base_uri": "https://localhost:8080/"
        },
        "id": "m28XJQvAo8Og",
        "outputId": "cab3087a-cdd8-485c-b1ec-9bfe489f9f18"
      },
      "execution_count": null,
      "outputs": [
        {
          "output_type": "stream",
          "name": "stdout",
          "text": [
            "[1, 4, 9, 16, 25, 36, 64, 81, 100, 121, 144, 169, 225, 256, 289, 324, 361, 400, 484, 529, 576, 625, 676, 729, 841, 900, 961, 1024, 1089, 1156, 1296, 1369, 1444, 1521, 1600, 1681, 1849, 1936, 2025, 2116, 2209, 2304, 2500, 2601, 2704, 2809, 2916, 3025, 3249, 3364, 3481, 3600, 3721, 3844, 4096, 4225, 4356, 4489, 4624, 4761, 5041, 5184, 5329, 5476, 5625, 5776, 6084, 6241, 6400, 6561, 6724, 6889, 7225, 7396, 7569, 7744, 7921, 8100, 8464, 8649, 8836, 9025, 9216, 9409, 9801, 10000, 10201, 10404, 10609, 10816, 11236, 11449, 11664, 11881, 12100, 12321, 12769, 12996, 13225, 13456, 13689, 13924, 14400, 14641, 14884, 15129, 15376, 15625, 16129, 16384, 16641, 16900, 17161, 17424, 17956, 18225, 18496, 18769, 19044, 19321, 19881, 20164, 20449, 20736, 21025, 21316, 21904, 22201, 22500, 22801, 23104, 23409, 24025, 24336, 24649, 24964, 25281, 25600, 26244, 26569, 26896, 27225, 27556, 27889, 28561, 28900, 29241, 29584, 29929, 30276, 30976, 31329, 31684, 32041, 32400, 32761, 33489, 33856, 34225, 34596, 34969, 35344, 36100, 36481, 36864, 37249, 37636, 38025, 38809, 39204, 39601, 40000, 40401, 40804, 41616, 42025, 42436, 42849, 43264, 43681, 44521, 44944, 45369, 45796, 46225, 46656, 47524, 47961, 48400, 48841, 49284, 49729, 50625, 51076, 51529, 51984, 52441, 52900, 53824, 54289, 54756, 55225, 55696, 56169, 57121, 57600, 58081, 58564, 59049, 59536, 60516, 61009, 61504, 62001, 62500, 63001, 64009, 64516, 65025, 65536, 66049, 66564, 67600, 68121, 68644, 69169, 69696, 70225, 71289, 71824, 72361, 72900, 73441, 73984, 75076, 75625, 76176, 76729, 77284, 77841, 78961, 79524, 80089, 80656, 81225, 81796, 82944, 83521, 84100, 84681, 85264, 85849, 87025, 87616, 88209, 88804, 89401, 90000, 91204, 91809, 92416, 93025, 93636, 94249, 95481, 96100, 96721, 97344, 97969, 98596, 99856, 100489, 101124, 101761, 102400, 103041, 104329, 104976, 105625, 106276, 106929, 107584, 108900, 109561, 110224, 110889, 111556, 112225, 113569, 114244, 114921, 115600, 116281, 116964, 118336, 119025, 119716, 120409, 121104, 121801, 123201, 123904, 124609, 125316, 126025, 126736, 128164, 128881, 129600, 130321, 131044, 131769, 133225, 133956, 134689, 135424, 136161, 136900, 138384, 139129, 139876, 140625, 141376, 142129, 143641, 144400, 145161, 145924, 146689, 147456, 148996, 149769, 150544, 151321, 152100, 152881, 154449, 155236, 156025, 156816, 157609, 158404, 160000, 160801, 161604, 162409, 163216, 164025, 165649, 166464, 167281, 168100, 168921, 169744, 171396, 172225, 173056, 173889, 174724, 175561, 177241, 178084, 178929, 179776, 180625, 181476, 183184, 184041, 184900, 185761, 186624, 187489, 189225, 190096, 190969, 191844, 192721, 193600, 195364, 196249, 197136, 198025, 198916, 199809, 201601, 202500, 203401, 204304, 205209, 206116, 207936, 208849, 209764, 210681, 211600, 212521, 214369, 215296, 216225, 217156, 218089, 219024, 220900, 221841, 222784, 223729, 224676, 225625, 227529, 228484, 229441, 230400, 231361, 232324, 234256, 235225, 236196, 237169, 238144, 239121, 241081, 242064, 243049, 244036, 245025, 246016, 248004, 249001, 250000, 251001, 252004, 253009, 255025, 256036, 257049, 258064, 259081, 260100, 262144, 263169, 264196, 265225, 266256, 267289, 269361, 270400, 271441, 272484, 273529, 274576, 276676, 277729, 278784, 279841, 280900, 281961, 284089, 285156, 286225, 287296, 288369, 289444, 291600, 292681, 293764, 294849, 295936, 297025, 299209, 300304, 301401, 302500, 303601, 304704, 306916, 308025, 309136, 310249, 311364, 312481, 314721, 315844, 316969, 318096, 319225, 320356, 322624, 323761, 324900, 326041, 327184, 328329, 330625, 331776, 332929, 334084, 335241, 336400, 338724, 339889, 341056, 342225, 343396, 344569, 346921, 348100, 349281, 350464, 351649, 352836, 355216, 356409, 357604, 358801, 360000, 361201, 363609, 364816, 366025, 367236, 368449, 369664, 372100, 373321, 374544, 375769, 376996, 378225, 380689, 381924, 383161, 384400, 385641, 386884, 389376, 390625, 391876, 393129, 394384, 395641, 398161, 399424, 400689, 401956, 403225, 404496, 407044, 408321, 409600, 410881, 412164, 413449, 416025, 417316, 418609, 419904, 421201, 422500, 425104, 426409, 427716, 429025, 430336, 431649, 434281, 435600, 436921, 438244, 439569, 440896, 443556, 444889, 446224, 447561, 448900, 450241, 452929, 454276, 455625, 456976, 458329, 459684, 462400, 463761, 465124, 466489, 467856, 469225, 471969, 473344, 474721, 476100, 477481, 478864, 481636, 483025, 484416, 485809, 487204, 488601, 491401, 492804, 494209, 495616, 497025, 498436, 501264, 502681, 504100, 505521, 506944, 508369, 511225, 512656, 514089, 515524, 516961, 518400, 521284, 522729, 524176, 525625, 527076, 528529, 531441, 532900, 534361, 535824, 537289, 538756, 541696, 543169, 544644, 546121, 547600, 549081, 552049, 553536, 555025, 556516, 558009, 559504, 562500, 564001, 565504, 567009, 568516, 570025, 573049, 574564, 576081, 577600, 579121, 580644, 583696, 585225, 586756, 588289, 589824, 591361, 594441, 595984, 597529, 599076, 600625, 602176, 605284, 606841, 608400, 609961, 611524, 613089, 616225, 617796, 619369, 620944, 622521, 624100, 627264, 628849, 630436, 632025, 633616, 635209, 638401, 640000, 641601, 643204, 644809, 646416, 649636, 651249, 652864, 654481, 656100, 657721, 660969, 662596, 664225, 665856, 667489, 669124, 672400, 674041, 675684, 677329, 678976, 680625, 683929, 685584, 687241, 688900, 690561, 692224, 695556, 697225, 698896, 700569, 702244, 703921, 707281, 708964, 710649, 712336, 714025, 715716, 719104, 720801, 722500, 724201, 725904, 727609, 731025, 732736, 734449, 736164, 737881, 739600, 743044, 744769, 746496, 748225, 749956, 751689, 755161, 756900, 758641, 760384, 762129, 763876, 767376, 769129, 770884, 772641, 774400, 776161, 779689, 781456, 783225, 784996, 786769, 788544, 792100, 793881, 795664, 797449, 799236, 801025, 804609, 806404, 808201, 810000, 811801, 813604, 817216, 819025, 820836, 822649, 824464, 826281, 829921, 831744, 833569, 835396, 837225, 839056, 842724, 844561, 846400, 848241, 850084, 851929, 855625, 857476, 859329, 861184, 863041, 864900, 868624, 870489, 872356, 874225, 876096, 877969, 881721, 883600, 885481, 887364, 889249, 891136, 894916, 896809, 898704, 900601, 902500, 904401, 908209, 910116, 912025, 913936, 915849, 917764, 921600, 923521, 925444, 927369, 929296, 931225, 935089, 937024, 938961, 940900, 942841, 944784, 948676, 950625, 952576, 954529, 956484, 958441, 962361, 964324, 966289, 968256, 970225, 972196, 976144, 978121, 980100, 982081, 984064, 986049, 990025, 992016, 994009, 996004, 998001]\n"
          ]
        }
      ]
    },
    {
      "cell_type": "code",
      "source": [
        "# Cell 9: Generating all of the prime numbers from 2 to 1000 using the Sieve of Eratosthenes which I suggest you ask ChatGPT for help on.\n",
        "# Thanks to Google Bard (Gemini Pro) which I asked: show me sieve of eratosthenes in python\n",
        "def sieve_of_eratosthenes(n):\n",
        "  \"\"\"\n",
        "  Find all prime numbers up to a given limit (n) using the Sieve of Eratosthenes.\n",
        "  \"\"\"\n",
        "  # Create a list of all numbers from 2 to n (inclusive).\n",
        "  primes = [True] * (n + 1)\n",
        "\n",
        "  # Mark 0 and 1 as non-prime.\n",
        "  primes[0] = primes[1] = False\n",
        "\n",
        "  # Start iterating from the first prime number (2).\n",
        "  for i in range(2, int(n ** 0.5) + 1):\n",
        "    if primes[i]:\n",
        "      # Mark all multiples of the current prime number as composite.\n",
        "      for j in range(i * i, n + 1, i):\n",
        "        primes[j] = False\n",
        "\n",
        "  # Collect all prime numbers.\n",
        "  prime_numbers = []\n",
        "  for i in range(2, n + 1):\n",
        "    if primes[i]:\n",
        "      prime_numbers.append(i)\n",
        "\n",
        "  return prime_numbers\n",
        "\n",
        "# Example usage\n",
        "n = 100\n",
        "prime_numbers = sieve_of_eratosthenes(n)\n",
        "\n",
        "print(\"Prime numbers up to\", n, \":\", prime_numbers)\n",
        "\n",
        "\n",
        "\n",
        "# It also generated an optimized version\n",
        "def sieve_of_eratosthenes_optimized(n):\n",
        "  \"\"\"\n",
        "  Optimized implementation of the Sieve of Eratosthenes.\n",
        "  \"\"\"\n",
        "  # Create a list of all numbers from 2 to n (inclusive).\n",
        "  primes = [True] * (n + 1)\n",
        "\n",
        "  # Mark 0 and 1 as non-prime.\n",
        "  primes[0] = primes[1] = False\n",
        "\n",
        "  # Start iterating from the first prime number (2).\n",
        "  for i in range(2, int(n ** 0.5) + 1):\n",
        "    if primes[i]:\n",
        "      # Mark all multiples of the current prime number as composite.\n",
        "      for j in range(i * i, n + 1, i):\n",
        "        primes[j] = False\n",
        "\n",
        "  # Collect all prime numbers.\n",
        "  prime_numbers = []\n",
        "  for i in range(2, n + 1):\n",
        "    if primes[i]:\n",
        "      prime_numbers.append(i)\n",
        "\n",
        "  return prime_numbers\n",
        "\n",
        "# Example usage - modified by me\n",
        "n = 100\n",
        "prime_numbers = sieve_of_eratosthenes_optimized(n)\n",
        "\n",
        "print(\"Prime numbers up to\", n, \":\", prime_numbers)"
      ],
      "metadata": {
        "colab": {
          "base_uri": "https://localhost:8080/"
        },
        "id": "N1n917sho9bG",
        "outputId": "c08f0495-d53b-4339-e147-a96270c33c5b"
      },
      "execution_count": null,
      "outputs": [
        {
          "output_type": "stream",
          "name": "stdout",
          "text": [
            "Prime numbers up to 100 : [2, 3, 5, 7, 11, 13, 17, 19, 23, 29, 31, 37, 41, 43, 47, 53, 59, 61, 67, 71, 73, 79, 83, 89, 97]\n",
            "Prime numbers up to 100 : [2, 3, 5, 7, 11, 13, 17, 19, 23, 29, 31, 37, 41, 43, 47, 53, 59, 61, 67, 71, 73, 79, 83, 89, 97]\n"
          ]
        }
      ]
    },
    {
      "cell_type": "code",
      "source": [
        "# Cell 10: Create a generator from your function above that you can use to print the first N prime numbers. This should look like:\n",
        "def prime_generator(num):\n",
        "    primes = sieve_of_eratosthenes_optimized(num)\n",
        "\n",
        "    for x in primes:\n",
        "        yield x\n",
        "\n",
        "for x in prime_generator(200):\n",
        "    print(x, end=' ')"
      ],
      "metadata": {
        "colab": {
          "base_uri": "https://localhost:8080/"
        },
        "id": "-AvjEOawrbso",
        "outputId": "75f93944-e36b-40d2-bf65-6f4486fca902"
      },
      "execution_count": null,
      "outputs": [
        {
          "output_type": "stream",
          "name": "stdout",
          "text": [
            "2 3 5 7 11 13 17 19 23 29 31 37 41 43 47 53 59 61 67 71 73 79 83 89 97 101 103 107 109 113 127 131 137 139 149 151 157 163 167 173 179 181 191 193 197 199 "
          ]
        }
      ]
    },
    {
      "cell_type": "code",
      "source": [
        "# Cell 11: Generate 1000 random integers in a list (random.randint(...)) and print their min, max, sum, and average.\n",
        "import random as r\n",
        "randomInts = []\n",
        "for x in range(1, 1001):\n",
        "  x = r.randint(1, 1001)\n",
        "  randomInts.append(x)\n",
        "\n",
        "print(randomInts)\n",
        "print(f\"min: {min(randomInts)}\")\n",
        "print(f\"max: {max(randomInts)}\")\n",
        "print(f\"sum: {sum(randomInts)}\")\n",
        "print(f\"average: {sum(randomInts)/1000}\")"
      ],
      "metadata": {
        "colab": {
          "base_uri": "https://localhost:8080/"
        },
        "id": "6Doq84rCse0W",
        "outputId": "23e741a1-fad4-4843-98fa-6b5dba41a933"
      },
      "execution_count": null,
      "outputs": [
        {
          "output_type": "stream",
          "name": "stdout",
          "text": [
            "[739, 452, 655, 938, 417, 706, 890, 71, 280, 976, 508, 535, 850, 750, 987, 774, 812, 171, 338, 402, 690, 822, 412, 670, 251, 182, 636, 92, 96, 686, 741, 222, 339, 188, 128, 409, 255, 342, 759, 348, 279, 195, 627, 180, 733, 874, 81, 716, 17, 288, 349, 94, 472, 954, 637, 250, 201, 201, 126, 949, 321, 412, 80, 72, 349, 206, 76, 327, 233, 28, 416, 132, 991, 819, 896, 410, 642, 744, 960, 198, 735, 399, 841, 377, 192, 227, 493, 342, 291, 264, 815, 109, 181, 684, 315, 490, 405, 1000, 453, 887, 569, 872, 636, 963, 14, 547, 363, 566, 906, 109, 968, 70, 66, 905, 476, 485, 711, 372, 791, 42, 35, 148, 442, 598, 944, 791, 835, 823, 518, 731, 206, 830, 206, 296, 481, 269, 181, 911, 351, 434, 591, 833, 119, 974, 686, 555, 314, 629, 176, 550, 61, 822, 680, 890, 190, 562, 283, 398, 517, 820, 232, 885, 11, 235, 289, 216, 242, 498, 988, 549, 397, 487, 672, 773, 953, 483, 613, 89, 951, 162, 451, 988, 185, 561, 21, 577, 302, 614, 375, 644, 17, 261, 637, 621, 713, 984, 288, 718, 14, 990, 846, 97, 432, 412, 100, 307, 311, 849, 655, 672, 637, 687, 954, 877, 144, 5, 716, 817, 586, 239, 327, 629, 97, 64, 953, 138, 11, 932, 80, 392, 781, 579, 858, 850, 619, 465, 791, 390, 880, 594, 447, 23, 728, 127, 765, 880, 631, 515, 239, 922, 72, 781, 991, 297, 655, 407, 893, 689, 401, 739, 314, 982, 859, 203, 131, 564, 930, 227, 708, 842, 512, 564, 580, 480, 800, 566, 229, 532, 617, 102, 503, 74, 277, 253, 27, 705, 616, 429, 559, 257, 387, 978, 346, 316, 1001, 354, 114, 24, 202, 705, 824, 209, 228, 377, 732, 356, 9, 691, 938, 749, 323, 792, 947, 525, 716, 940, 415, 694, 338, 212, 278, 238, 148, 885, 217, 603, 26, 62, 590, 459, 160, 782, 304, 827, 176, 700, 613, 785, 441, 87, 166, 740, 100, 59, 96, 274, 10, 872, 988, 714, 316, 307, 43, 510, 657, 205, 873, 76, 543, 74, 876, 894, 35, 773, 925, 911, 32, 216, 248, 589, 478, 139, 729, 538, 937, 704, 373, 292, 436, 70, 411, 887, 43, 572, 492, 237, 820, 969, 643, 639, 22, 182, 225, 886, 359, 537, 717, 295, 899, 741, 465, 664, 70, 84, 495, 871, 382, 356, 602, 722, 954, 773, 739, 86, 926, 433, 823, 858, 177, 194, 961, 601, 715, 213, 388, 960, 881, 570, 871, 873, 732, 826, 672, 537, 1, 904, 42, 244, 826, 736, 801, 11, 100, 214, 960, 897, 709, 464, 205, 74, 886, 391, 510, 877, 509, 499, 195, 286, 828, 515, 101, 831, 968, 970, 830, 587, 288, 739, 390, 937, 359, 187, 334, 249, 597, 961, 835, 403, 654, 517, 166, 329, 25, 215, 977, 956, 778, 561, 217, 79, 170, 666, 298, 680, 692, 220, 367, 941, 888, 191, 776, 954, 502, 133, 237, 706, 63, 661, 93, 347, 477, 323, 796, 872, 444, 606, 655, 917, 920, 828, 966, 959, 393, 658, 797, 688, 773, 868, 534, 1001, 8, 816, 993, 453, 66, 871, 619, 417, 72, 602, 651, 875, 471, 699, 88, 700, 914, 637, 316, 242, 43, 812, 673, 60, 166, 266, 289, 807, 14, 306, 26, 231, 436, 518, 351, 43, 89, 53, 260, 813, 521, 69, 365, 476, 782, 270, 99, 444, 175, 252, 196, 552, 30, 508, 100, 468, 590, 24, 891, 613, 737, 568, 153, 215, 928, 700, 252, 857, 67, 633, 190, 112, 204, 286, 686, 482, 10, 980, 351, 551, 332, 845, 18, 508, 714, 680, 744, 965, 201, 893, 240, 741, 244, 175, 944, 971, 744, 447, 348, 836, 84, 320, 118, 306, 546, 525, 294, 949, 510, 236, 988, 557, 579, 655, 754, 130, 259, 944, 219, 977, 599, 776, 302, 611, 54, 675, 739, 671, 537, 936, 714, 591, 757, 525, 99, 137, 326, 263, 166, 574, 119, 330, 677, 282, 869, 925, 769, 209, 251, 920, 636, 619, 412, 70, 230, 417, 401, 362, 806, 482, 84, 494, 50, 445, 713, 740, 952, 406, 355, 977, 187, 288, 476, 820, 136, 960, 514, 283, 524, 156, 836, 831, 236, 415, 58, 547, 801, 950, 609, 700, 815, 865, 208, 624, 393, 916, 134, 133, 952, 10, 809, 317, 724, 657, 180, 690, 876, 695, 958, 846, 111, 9, 964, 75, 443, 943, 96, 617, 895, 774, 587, 960, 822, 754, 419, 387, 733, 565, 325, 483, 84, 96, 265, 784, 625, 800, 74, 183, 317, 864, 671, 239, 31, 395, 680, 538, 543, 436, 890, 652, 34, 912, 425, 758, 996, 681, 127, 580, 903, 365, 39, 50, 51, 63, 473, 84, 977, 726, 743, 756, 504, 486, 221, 871, 760, 19, 719, 418, 757, 624, 651, 703, 24, 9, 38, 881, 674, 398, 52, 25, 842, 218, 941, 943, 874, 876, 844, 273, 790, 592, 403, 611, 437, 705, 208, 526, 106, 449, 779, 813, 15, 749, 616, 371, 943, 587, 894, 574, 609, 265, 150, 511, 323, 3, 809, 347, 496, 709, 183, 977, 847, 926, 523, 981, 425, 34, 813, 893, 364, 2, 341, 511, 306, 168, 418, 820, 228, 974, 132, 884, 130, 858, 579, 190, 667, 234, 511, 696, 231, 654, 570, 250, 339, 643, 482, 8, 913, 470, 614, 300, 766, 124, 705, 946, 269, 272, 383, 880, 488, 151, 178, 931, 381, 858, 59, 981, 910, 956, 354, 795, 388, 666, 710, 530, 968, 203, 935, 154, 841, 44, 912, 899, 53, 620, 550, 794, 450, 896, 1, 678, 455, 415, 847, 255, 641, 308, 656, 622, 90, 571, 179, 848, 675, 374, 687, 145, 647, 177, 233, 625, 641, 86, 873, 840, 802, 541, 737, 191, 989, 34, 787, 260, 887, 349, 578, 489, 764, 973, 7, 650, 687, 466, 119, 148, 153, 6, 577, 568, 657, 812, 191, 972, 103, 854, 245, 248, 813, 566, 411, 736]\n",
            "min: 1\n",
            "max: 1001\n",
            "sum: 505054\n",
            "average: 505.054\n"
          ]
        }
      ]
    },
    {
      "cell_type": "code",
      "source": [
        "# Cell 12: Write a simple function that uses if, elif, and else and show that it works.\n",
        "def if_elif_else(num):\n",
        "  if num < 5:\n",
        "    print(\"Your number is less than 5.\")\n",
        "  elif num <= 10:\n",
        "    print(\"Your number is less than or equal to 10.\")\n",
        "  else:\n",
        "    print(\"Your number is greater than 10.\")\n",
        "\n",
        "if_elif_else(3)\n",
        "if_elif_else(6)\n",
        "if_elif_else(20)"
      ],
      "metadata": {
        "colab": {
          "base_uri": "https://localhost:8080/"
        },
        "id": "IoD6kP9xtwiO",
        "outputId": "d0d5054a-7334-41e4-9400-aefe91de1051"
      },
      "execution_count": null,
      "outputs": [
        {
          "output_type": "stream",
          "name": "stdout",
          "text": [
            "Your number is less than 5.\n",
            "Your number is less than or equal to 10.\n",
            "Your number is greater than 10.\n"
          ]
        }
      ]
    },
    {
      "cell_type": "code",
      "source": [
        "# Cell 13: Show me three things from PEP-8 that surprise you\n",
        "\n",
        "# I find it really strange that pep8 doesn't like camelcase functions\n",
        "def randomFunc():\n",
        "  print(\"test\")\n",
        "# the above breaks pep8\n",
        "\n",
        "# 79 characters as a maximum line length feels arbitrary\n",
        "\n",
        "# I am not sure if this is a hard rule but there is a thing asking non english speakers to write their comments in english"
      ],
      "metadata": {
        "id": "i02SGb6xukPF"
      },
      "execution_count": null,
      "outputs": []
    },
    {
      "cell_type": "code",
      "source": [
        "# Cell 14: Create a file using %%file testfile.txt in Colab. The file should contain lines like the following:\n",
        "# Amy, cat\n",
        "# Fred, dog\n",
        "# Hunter, dog\n",
        "# Peena, parakeet\n",
        "# Rover, dog"
      ],
      "metadata": {
        "id": "ew464tLJwgJS"
      },
      "execution_count": null,
      "outputs": []
    },
    {
      "cell_type": "code",
      "source": [
        "%%file testfile.txt\n",
        "Amy, cat\n",
        "Fred, dog\n",
        "Hunter, dog\n",
        "Peena, parakeet\n",
        "Rover, dog"
      ],
      "metadata": {
        "colab": {
          "base_uri": "https://localhost:8080/"
        },
        "id": "wj0msfmDwhEd",
        "outputId": "b9ee6e34-82df-4c98-f71c-2d4ef15b66b5"
      },
      "execution_count": null,
      "outputs": [
        {
          "output_type": "stream",
          "name": "stdout",
          "text": [
            "Writing testfile.txt\n"
          ]
        }
      ]
    },
    {
      "cell_type": "code",
      "source": [
        "# Cell 15: Read that file in and convert it to a dictionary. Show how you can lookup pet type by using pet name with your dictionary.\n",
        "pets = {}\n",
        "with open('testfile.txt', 'r') as file:\n",
        "    while line := file.readline():\n",
        "        line = line.strip()\n",
        "        key, value = line.split(',')\n",
        "        pets[key] = value.strip()\n",
        "\n",
        "print(pets)\n",
        "print(pets[\"Amy\"])"
      ],
      "metadata": {
        "colab": {
          "base_uri": "https://localhost:8080/"
        },
        "id": "JfCGVEw2wzMV",
        "outputId": "d48f7cfb-d8ea-4284-e24f-c8d2699650e6"
      },
      "execution_count": null,
      "outputs": [
        {
          "output_type": "stream",
          "name": "stdout",
          "text": [
            "{'Amy': 'cat', 'Fred': 'dog', 'Hunter': 'dog', 'Peena': 'parakeet', 'Rover': 'dog'}\n",
            "cat\n"
          ]
        }
      ]
    },
    {
      "cell_type": "code",
      "source": [
        "# Cell 16: Generate a list of all the unique pet types in the dictionary. Use a set to make this happen.\n",
        "print(pets.values())\n",
        "pet_types = set(pets.values())\n",
        "print(pet_types)"
      ],
      "metadata": {
        "colab": {
          "base_uri": "https://localhost:8080/"
        },
        "id": "GFJCQUDSxXzR",
        "outputId": "2fbacc4d-1bcf-4b33-bfb6-9b3982cac4b8"
      },
      "execution_count": null,
      "outputs": [
        {
          "output_type": "stream",
          "name": "stdout",
          "text": [
            "dict_values(['cat', 'dog', 'dog', 'parakeet', 'dog'])\n",
            "{'cat', 'parakeet', 'dog'}\n"
          ]
        }
      ]
    },
    {
      "cell_type": "code",
      "source": [
        "# Cell 17: Use a while loop to print the numbers from 80 down to 16 by 8. Do not use for or range.\n",
        "n = 80\n",
        "while n >= 16:\n",
        "    print(n)\n",
        "    n -= 8"
      ],
      "metadata": {
        "colab": {
          "base_uri": "https://localhost:8080/"
        },
        "id": "YOIUDSsNxzoD",
        "outputId": "1622c914-b5bc-4759-b54a-1649843ebbdb"
      },
      "execution_count": null,
      "outputs": [
        {
          "output_type": "stream",
          "name": "stdout",
          "text": [
            "80\n",
            "72\n",
            "64\n",
            "56\n",
            "48\n",
            "40\n",
            "32\n",
            "24\n",
            "16\n"
          ]
        }
      ]
    },
    {
      "cell_type": "code",
      "source": [
        "# Cell 18: Write a function that takes three numbers and returns their min, max, and sum as a tuple.\n",
        "def min_max_sum(n1, n2, n3):\n",
        "    max_n = max(n1, n2, n3)\n",
        "    min_n = min(n1, n2, n3)\n",
        "    sum_n = sum([n1, n2, n3])\n",
        "\n",
        "    return min_n, max_n, sum_n\n",
        "\n",
        "print(min_max_sum(13, 21, 4))"
      ],
      "metadata": {
        "colab": {
          "base_uri": "https://localhost:8080/"
        },
        "id": "HbP8r6luyLYg",
        "outputId": "b16694dd-dab4-423d-f191-f965d2ef5e4a"
      },
      "execution_count": null,
      "outputs": [
        {
          "output_type": "stream",
          "name": "stdout",
          "text": [
            "(4, 21, 38)\n"
          ]
        }
      ]
    },
    {
      "cell_type": "code",
      "source": [
        "# Cell 19: Write a function that takes any number of numbers and returns their min, max, and sum as a tuple.\n",
        "def min_max_sum2(*n):\n",
        "    max_n = max(n)\n",
        "    min_n = min(n)\n",
        "    sum_n = sum(n)\n",
        "\n",
        "    return min_n, max_n, sum_n\n",
        "\n",
        "print(min_max_sum2(13, 21, 4, 81, -5, 30, 12))"
      ],
      "metadata": {
        "id": "KIaveIhsyiat",
        "outputId": "1d855881-4f6a-414b-a0c4-aa8872295f9d",
        "colab": {
          "base_uri": "https://localhost:8080/"
        }
      },
      "execution_count": null,
      "outputs": [
        {
          "output_type": "stream",
          "name": "stdout",
          "text": [
            "(-5, 81, 156)\n"
          ]
        }
      ]
    },
    {
      "cell_type": "code",
      "source": [
        "# Cell 20: Create a decorator called traceroo and use it to print messages showing how your function above executes.\n",
        "def traceroo(func):\n",
        "    def newfunc(*args, **kwargs):\n",
        "        print(f'TRACEROO {func.__name__} {args} {kwargs}')\n",
        "        return func(*args, **kwargs)\n",
        "    return newfunc\n",
        "\n",
        "min_max_sum_d = traceroo(min_max_sum)\n",
        "print(min_max_sum(3, 2, 1))\n",
        "print(min_max_sum_d(3, 2, 1))\n",
        "\n",
        "@traceroo\n",
        "def f4():\n",
        "    print(\"Hi... I'm f4\")\n",
        "\n",
        "f4()"
      ],
      "metadata": {
        "colab": {
          "base_uri": "https://localhost:8080/"
        },
        "id": "nuu1jNjgexni",
        "outputId": "c7a10189-677a-41f7-ef8a-2a751811fed0"
      },
      "execution_count": null,
      "outputs": [
        {
          "output_type": "stream",
          "name": "stdout",
          "text": [
            "(1, 3, 6)\n",
            "TRACEROO min_max_sum (3, 2, 1) {}\n",
            "(1, 3, 6)\n",
            "TRACEROO f4 () {}\n",
            "Hi... I'm f4\n"
          ]
        }
      ]
    },
    {
      "cell_type": "code",
      "source": [
        "# Cell 21: Create a class that uses __init__, __repr__, __str__, and __add__. Demonstrate that all of the methods work.\n",
        "class TestClass:\n",
        "  def __init__(self, num):\n",
        "    self.hello = 'hello world'\n",
        "    print(self.hello)\n",
        "    self.num = num\n",
        "  def __str__(self):\n",
        "    return f'My contents are \"{self.hello} and {self.num}.\"'\n",
        "  def __repr__(self):\n",
        "    return f'TestClass(\\'{self.hello}\\', {self.num})'\n",
        "  def __add__(self, num2):\n",
        "    return TestClass(self.num + num2.num)\n",
        "\n",
        "test = TestClass(3)\n",
        "print(str(test))\n",
        "print(repr(test))\n",
        "test2 = TestClass(5)\n",
        "print(str(test2))\n",
        "print(repr(test2))\n",
        "test3 = test + test2\n",
        "print(str(test3))\n",
        "print(repr(test3))"
      ],
      "metadata": {
        "colab": {
          "base_uri": "https://localhost:8080/"
        },
        "id": "XkHsxIv8hRS2",
        "outputId": "59553f45-1b1d-4ece-bdb7-4b42ccfa5f8c"
      },
      "execution_count": null,
      "outputs": [
        {
          "output_type": "stream",
          "name": "stdout",
          "text": [
            "hello world\n",
            "My contents are \"hello world and 3.\"\n",
            "TestClass('hello world', 3)\n",
            "hello world\n",
            "My contents are \"hello world and 5.\"\n",
            "TestClass('hello world', 5)\n",
            "hello world\n",
            "My contents are \"hello world and 8.\"\n",
            "TestClass('hello world', 8)\n"
          ]
        }
      ]
    },
    {
      "cell_type": "markdown",
      "source": [
        "Pi from https://raw.githubusercontent.com/ehmatthes/pcc_3e/main/chapter_10/reading_from_a_file/pi_million_digits.txt"
      ],
      "metadata": {
        "id": "q_2r71nNq5ln"
      }
    },
    {
      "cell_type": "code",
      "source": [
        "# Cell 22: Is your birth date included in the digits of pi? Where? Feel free to use the code from Chapter 10.\n",
        "pi = open(\"pi_million_digits.txt\", \"r\")\n",
        "pi = pi.read()\n",
        "\n",
        "birthdate = input(\"Please enter your birthdate (preferred format mmddyy): \")\n",
        "if birthdate in pi:\n",
        "  print(f\"{birthdate} is in pi\")\n",
        "  print(f\"It can be found after the {pi.find(birthdate)} character.\")\n",
        "else:\n",
        "  print(f\"{birthdate} not in pi\")"
      ],
      "metadata": {
        "colab": {
          "base_uri": "https://localhost:8080/"
        },
        "id": "BijmzCgSkjaJ",
        "outputId": "36a506bc-0148-4d3e-9d13-33bd563d7c33"
      },
      "execution_count": null,
      "outputs": [
        {
          "output_type": "stream",
          "name": "stdout",
          "text": [
            "Please enter your birthdate (preferred format mmddyy): 123456\n",
            "123456 not in pi\n"
          ]
        }
      ]
    }
  ]
}