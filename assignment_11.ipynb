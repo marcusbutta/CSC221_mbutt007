{
  "nbformat": 4,
  "nbformat_minor": 0,
  "metadata": {
    "colab": {
      "provenance": [],
      "authorship_tag": "ABX9TyMWuMJUOmJYhGzxyKHZmMpX",
      "include_colab_link": true
    },
    "kernelspec": {
      "name": "python3",
      "display_name": "Python 3"
    },
    "language_info": {
      "name": "python"
    }
  },
  "cells": [
    {
      "cell_type": "markdown",
      "metadata": {
        "id": "view-in-github",
        "colab_type": "text"
      },
      "source": [
        "<a href=\"https://colab.research.google.com/github/marcusbutta/CSC221_mbutt007/blob/main/assignment_11.ipynb\" target=\"_parent\"><img src=\"https://colab.research.google.com/assets/colab-badge.svg\" alt=\"Open In Colab\"/></a>"
      ]
    },
    {
      "cell_type": "markdown",
      "source": [
        "# Marcus Butta\n",
        "# Assignment 11"
      ],
      "metadata": {
        "id": "XQbLniU4v_Bm"
      }
    },
    {
      "cell_type": "code",
      "execution_count": null,
      "metadata": {
        "id": "hwvlSmvourY-"
      },
      "outputs": [],
      "source": [
        "class Dog():\n",
        "  '''A simple class to model a dog'''\n",
        "  def __init__(self, name, age):\n",
        "    '''Initialize name and age'''\n",
        "    self.name = name\n",
        "    self.age = age\n",
        "  def sit(self):\n",
        "    '''Simulate a dog sitting'''\n",
        "    print(f\"{self.name.title()} is now sitting.\")\n",
        "  def roll_over(self):\n",
        "    '''Stimulate a dog rolling over'''\n",
        "    print(f\"{self.name.title()} rolled over!\")"
      ]
    },
    {
      "cell_type": "code",
      "source": [
        "dog1 = Dog('spark', 7)"
      ],
      "metadata": {
        "id": "s8dnJffEvlXn"
      },
      "execution_count": null,
      "outputs": []
    },
    {
      "cell_type": "code",
      "source": [
        "dog1.sit()"
      ],
      "metadata": {
        "colab": {
          "base_uri": "https://localhost:8080/"
        },
        "id": "ON42emZ-v1Se",
        "outputId": "b3fff7d4-d384-40b4-e0b2-9c5e9dc784f1"
      },
      "execution_count": null,
      "outputs": [
        {
          "output_type": "stream",
          "name": "stdout",
          "text": [
            "Spark is now sitting.\n"
          ]
        }
      ]
    },
    {
      "cell_type": "code",
      "source": [
        "dog1.name"
      ],
      "metadata": {
        "colab": {
          "base_uri": "https://localhost:8080/",
          "height": 36
        },
        "id": "ltFjbdmSwIz_",
        "outputId": "e5227e15-9625-4097-90ab-698064c7861c"
      },
      "execution_count": null,
      "outputs": [
        {
          "output_type": "execute_result",
          "data": {
            "text/plain": [
              "'spark'"
            ],
            "application/vnd.google.colaboratory.intrinsic+json": {
              "type": "string"
            }
          },
          "metadata": {},
          "execution_count": 5
        }
      ]
    },
    {
      "cell_type": "code",
      "source": [
        "dog2 = Dog('fluff', 3)"
      ],
      "metadata": {
        "id": "LigOJhV5wR_8"
      },
      "execution_count": null,
      "outputs": []
    },
    {
      "cell_type": "code",
      "source": [
        "dog1.sit()\n",
        "dog2.roll_over()"
      ],
      "metadata": {
        "colab": {
          "base_uri": "https://localhost:8080/"
        },
        "id": "V8-ZRCPVwY2l",
        "outputId": "9a8f3f13-6786-4441-9ad7-25b553b53a55"
      },
      "execution_count": null,
      "outputs": [
        {
          "output_type": "stream",
          "name": "stdout",
          "text": [
            "Spark is now sitting.\n",
            "Fluff rolled over!\n"
          ]
        }
      ]
    },
    {
      "cell_type": "markdown",
      "source": [
        "Try it yourself:"
      ],
      "metadata": {
        "id": "I2TAAf1bwkSw"
      }
    },
    {
      "cell_type": "code",
      "source": [
        "class Restaurant():\n",
        "  def __init__(self, name, cuisine):\n",
        "    self.name = name\n",
        "    self.cuisine = cuisine\n",
        "  def describe(self):\n",
        "    print(f\"{self.name.title()} specializes in {self.cuisine}.\")\n",
        "  def open(self):\n",
        "    print(f\"{self.name.title()} is now open!\")\n",
        "\n",
        "restaurant = Restaurant('Hotdog Land', 'Hotdogs')\n",
        "restaurant.open()\n",
        "restaurant.describe()"
      ],
      "metadata": {
        "colab": {
          "base_uri": "https://localhost:8080/"
        },
        "id": "yMhM8f51wlz2",
        "outputId": "f706b501-ad34-41e0-9fb2-dcf9781b3d95"
      },
      "execution_count": 32,
      "outputs": [
        {
          "output_type": "stream",
          "name": "stdout",
          "text": [
            "Hotdog Land is now open!\n",
            "Hotdog Land specializes in Hotdogs.\n"
          ]
        }
      ]
    },
    {
      "cell_type": "code",
      "source": [
        "pizza = Restaurant(\"Joe's\", 'Pizza')\n",
        "salad = Restaurant(\"Land O' Green\", 'salad and greens')\n",
        "gyro = Restaurant(\"Pita Galore\", 'Greek Food')\n",
        "\n",
        "pizza.describe()\n",
        "salad.describe()\n",
        "gyro.describe()"
      ],
      "metadata": {
        "colab": {
          "base_uri": "https://localhost:8080/"
        },
        "id": "A86nQKqJx3x4",
        "outputId": "816c5f36-8d53-4fd9-ba8e-1a093a80b4b9"
      },
      "execution_count": null,
      "outputs": [
        {
          "output_type": "stream",
          "name": "stdout",
          "text": [
            "Joe'S specializes in Pizza.\n",
            "Land O' Green specializes in salad and greens.\n",
            "Pita Galore specializes in Greek Food.\n"
          ]
        }
      ]
    },
    {
      "cell_type": "code",
      "source": [
        "class User():\n",
        "  def __init__(self, fname, lname, age, role):\n",
        "    self.fname = fname\n",
        "    self.lname = lname\n",
        "    self.age = age\n",
        "    self.role = role\n",
        "  def describe(self):\n",
        "    print(f\"{self.fname.title()} {self.lname.title()} is {self.age} years old and works as a {self.role}.\")\n",
        "  def greet(self):\n",
        "    print(f\"Welcome {self.fname.title()}\")\n",
        "\n",
        "me = User('Marcus', 'Butta', 19, 'student')\n",
        "lecky = User('Ned', 'Lecky', 'UNKOWN', 'professor')\n",
        "\n",
        "me.describe()\n",
        "lecky.describe()\n",
        "me.greet()\n",
        "lecky.greet()"
      ],
      "metadata": {
        "id": "tnlX_5k0zcUb",
        "colab": {
          "base_uri": "https://localhost:8080/"
        },
        "outputId": "e759d744-9c4c-4a92-ba16-b9d30cc3ad6b"
      },
      "execution_count": null,
      "outputs": [
        {
          "output_type": "stream",
          "name": "stdout",
          "text": [
            "Marcus Butta is 19 years old and works as a student.\n",
            "Ned Lecky is UNKOWN years old and works as a professor.\n",
            "Welcome Marcus\n",
            "Welcome Ned\n"
          ]
        }
      ]
    },
    {
      "cell_type": "markdown",
      "source": [
        "end of try it yourself"
      ],
      "metadata": {
        "id": "Vyo0w5FPIrF4"
      }
    },
    {
      "cell_type": "code",
      "source": [
        "class Car():\n",
        "  '''Simple attempt to repersent a car'''\n",
        "\n",
        "  def __init__(self, make, model, year):\n",
        "    self.make = make\n",
        "    self.model = model\n",
        "    self.year = year\n",
        "\n",
        "  def get_name(self):\n",
        "    name = f\"{self.year} {self.make} {self.model}\"\n",
        "    return name\n",
        "\n",
        "corvette = Car('Chevy', 'Corvette', 2024)\n",
        "print(corvette.get_name())"
      ],
      "metadata": {
        "colab": {
          "base_uri": "https://localhost:8080/"
        },
        "id": "-6h4xGs4Ist1",
        "outputId": "b8104c51-cbe3-4f7a-88be-a2b78667feb9"
      },
      "execution_count": null,
      "outputs": [
        {
          "output_type": "stream",
          "name": "stdout",
          "text": [
            "2024 Chevy Corvette\n"
          ]
        }
      ]
    },
    {
      "cell_type": "code",
      "source": [
        "class Car():\n",
        "  '''Simple attempt to repersent a car'''\n",
        "\n",
        "  def __init__(self, make, model, year):\n",
        "    self.make = make\n",
        "    self.model = model\n",
        "    self.year = year\n",
        "    self.odometer_reading = 0\n",
        "\n",
        "  def get_name(self):\n",
        "    name = f\"{self.year} {self.make} {self.model}\"\n",
        "    return name\n",
        "\n",
        "  def read_odometer(self):\n",
        "    print(f\"This car has {self.odometer_reading} miles on it.\")\n",
        "\n",
        "corvette = Car('Chevy', 'Corvette', 2024)\n",
        "corvette.read_odometer()"
      ],
      "metadata": {
        "colab": {
          "base_uri": "https://localhost:8080/"
        },
        "id": "wLKwb2kcZUGc",
        "outputId": "80adae3a-65ed-438e-e66d-5457fd42b9fb"
      },
      "execution_count": 4,
      "outputs": [
        {
          "output_type": "stream",
          "name": "stdout",
          "text": [
            "This car has 0 miles on it.\n"
          ]
        }
      ]
    },
    {
      "cell_type": "code",
      "source": [
        "corvette.odometer_reading = 80\n",
        "corvette.read_odometer()"
      ],
      "metadata": {
        "colab": {
          "base_uri": "https://localhost:8080/"
        },
        "id": "NqrCHPISZvDc",
        "outputId": "51752a5a-3bdc-4de9-b9c8-3acbf9b67137"
      },
      "execution_count": 3,
      "outputs": [
        {
          "output_type": "stream",
          "name": "stdout",
          "text": [
            "This car has 80 miles on it.\n"
          ]
        }
      ]
    },
    {
      "cell_type": "code",
      "source": [
        "class Car():\n",
        "  '''Simple attempt to repersent a car'''\n",
        "\n",
        "  def __init__(self, make, model, year):\n",
        "    self.make = make\n",
        "    self.model = model\n",
        "    self.year = year\n",
        "    self.odometer_reading = 0\n",
        "\n",
        "  def get_name(self):\n",
        "    name = f\"{self.year} {self.make} {self.model}\"\n",
        "    return name\n",
        "\n",
        "  def read_odometer(self):\n",
        "    print(f\"This car has {self.odometer_reading} miles on it.\")\n",
        "\n",
        "  def update_odometer(self, miles):\n",
        "    if miles >= self.odometer_reading:\n",
        "     self.odometer_reading = miles\n",
        "    else:\n",
        "      print(\"You can't roll back an odometer.\")\n",
        "\n",
        "corvette = Car('Chevy', 'Corvette', 2024)\n",
        "corvette.update_odometer(77)\n",
        "corvette.read_odometer()"
      ],
      "metadata": {
        "colab": {
          "base_uri": "https://localhost:8080/"
        },
        "id": "QtorlXcjZ4hk",
        "outputId": "9772f6ca-4829-487f-e4c2-7dd2423bf062"
      },
      "execution_count": 7,
      "outputs": [
        {
          "output_type": "stream",
          "name": "stdout",
          "text": [
            "This car has 77 miles on it.\n"
          ]
        }
      ]
    },
    {
      "cell_type": "code",
      "source": [
        "corvette.update_odometer(20)"
      ],
      "metadata": {
        "colab": {
          "base_uri": "https://localhost:8080/"
        },
        "id": "VR3U-dCIaITc",
        "outputId": "4e451f06-a581-4342-9941-63debfe1187c"
      },
      "execution_count": 8,
      "outputs": [
        {
          "output_type": "stream",
          "name": "stdout",
          "text": [
            "You can't roll back an odometer.\n"
          ]
        }
      ]
    },
    {
      "cell_type": "code",
      "source": [
        "class Car():\n",
        "  '''Simple attempt to repersent a car'''\n",
        "\n",
        "  def __init__(self, make, model, year):\n",
        "    self.make = make\n",
        "    self.model = model\n",
        "    self.year = year\n",
        "    self.odometer_reading = 0\n",
        "\n",
        "  def get_name(self):\n",
        "    name = f\"{self.year} {self.make} {self.model}\"\n",
        "    return name\n",
        "\n",
        "  def read_odometer(self):\n",
        "    print(f\"This car has {self.odometer_reading} miles on it.\")\n",
        "\n",
        "  def update_odometer(self, miles):\n",
        "    if miles >= self.odometer_reading:\n",
        "     self.odometer_reading = miles\n",
        "    else:\n",
        "      print(\"You can't roll back an odometer.\")\n",
        "\n",
        "  def increment_odometer(self, miles):\n",
        "    self.odometer_reading += miles\n",
        "\n",
        "corvette = Car('Chevy', 'Corvette', 2024)\n",
        "corvette.update_odometer(77)\n",
        "corvette.read_odometer()\n",
        "corvette.increment_odometer(50)\n",
        "corvette.read_odometer()"
      ],
      "metadata": {
        "colab": {
          "base_uri": "https://localhost:8080/"
        },
        "id": "zhM9IBgSajNg",
        "outputId": "1d346c7d-f6e2-4d3b-9df5-cb60f87d3278"
      },
      "execution_count": 14,
      "outputs": [
        {
          "output_type": "stream",
          "name": "stdout",
          "text": [
            "This car has 77 miles on it.\n",
            "This car has 127 miles on it.\n"
          ]
        }
      ]
    },
    {
      "cell_type": "code",
      "source": [
        "class ElectricCar(Car):\n",
        "  def __init__(self, make, model, year):\n",
        "    super().__init__(make, model, year)\n",
        "\n",
        "bolt = ElectricCar(\"Chevy\", \"Bolt\", 2020)\n",
        "bolt.get_name()"
      ],
      "metadata": {
        "colab": {
          "base_uri": "https://localhost:8080/",
          "height": 36
        },
        "id": "XDPybPgGbSsT",
        "outputId": "17f9e38b-d07d-4768-a68f-7c66f12344ed"
      },
      "execution_count": 16,
      "outputs": [
        {
          "output_type": "execute_result",
          "data": {
            "text/plain": [
              "'2020 Chevy Bolt'"
            ],
            "application/vnd.google.colaboratory.intrinsic+json": {
              "type": "string"
            }
          },
          "metadata": {},
          "execution_count": 16
        }
      ]
    },
    {
      "cell_type": "code",
      "source": [
        "class ElectricCar(Car):\n",
        "  def __init__(self, make, model, year):\n",
        "    super().__init__(make, model, year)\n",
        "    self.battery_size = 80\n",
        "\n",
        "  def get_battery(self):\n",
        "    print(f\"This car has a battery size of {self.battery_size} kwh.\")\n",
        "\n",
        "bolt = ElectricCar(\"Chevy\", \"Bolt\", 2020)\n",
        "print(bolt.get_name())\n",
        "bolt.get_battery()"
      ],
      "metadata": {
        "colab": {
          "base_uri": "https://localhost:8080/"
        },
        "id": "VlbO5DF-cJyS",
        "outputId": "6d1df2cc-03a2-4551-9d4f-c0596452c62b"
      },
      "execution_count": 19,
      "outputs": [
        {
          "output_type": "stream",
          "name": "stdout",
          "text": [
            "2020 Chevy Bolt\n",
            "This car has a battery size of 80 kwh.\n"
          ]
        }
      ]
    },
    {
      "cell_type": "code",
      "source": [
        "class Battery():\n",
        "  def __init__(self, battery_size=80):\n",
        "    self.battery_size = battery_size\n",
        "\n",
        "  def get_battery(self):\n",
        "    print(f\"This car has a battery size of {self.battery_size} kwh.\")\n",
        "\n",
        "class ElectricCar(Car):\n",
        "  def __init__(self, make, model, year):\n",
        "    super().__init__(make, model, year)\n",
        "    self.battery_size = Battery()\n",
        "\n",
        "bolt = ElectricCar(\"Chevy\", \"Bolt\", 2020)\n",
        "print(bolt.get_name())\n",
        "bolt.battery_size.get_battery()"
      ],
      "metadata": {
        "colab": {
          "base_uri": "https://localhost:8080/"
        },
        "id": "5OCcohuZczni",
        "outputId": "6de50db1-e0c9-48b7-d5bc-cafeb330c5db"
      },
      "execution_count": 29,
      "outputs": [
        {
          "output_type": "stream",
          "name": "stdout",
          "text": [
            "2020 Chevy Bolt\n",
            "This car has a battery size of 80 kwh.\n"
          ]
        }
      ]
    },
    {
      "cell_type": "code",
      "source": [
        "class Battery():\n",
        "  def __init__(self, battery_size=80):\n",
        "    self.battery_size = battery_size\n",
        "\n",
        "  def get_battery(self):\n",
        "    print(f\"This car has a battery size of {self.battery_size} kwh.\")\n",
        "\n",
        "  def get_range(self):\n",
        "    range = self.battery_size * 1.75\n",
        "    print(f\"This car has {range} miles left of range.\")\n",
        "\n",
        "class ElectricCar(Car):\n",
        "  def __init__(self, make, model, year):\n",
        "    super().__init__(make, model, year)\n",
        "    self.battery_size = Battery()\n",
        "\n",
        "bolt = ElectricCar(\"Chevy\", \"Bolt\", 2020)\n",
        "print(bolt.get_name())\n",
        "bolt.battery_size.get_battery()\n",
        "bolt.battery_size.get_range()"
      ],
      "metadata": {
        "colab": {
          "base_uri": "https://localhost:8080/"
        },
        "id": "9OhpuhPXgzOp",
        "outputId": "b50a5385-e197-46e8-e3a0-249d2849f5ff"
      },
      "execution_count": 31,
      "outputs": [
        {
          "output_type": "stream",
          "name": "stdout",
          "text": [
            "2020 Chevy Bolt\n",
            "This car has a battery size of 80 kwh.\n",
            "This car has 140.0 miles left of range.\n"
          ]
        }
      ]
    },
    {
      "cell_type": "markdown",
      "source": [
        "try it yourself:"
      ],
      "metadata": {
        "id": "X_8xDCV3h13U"
      }
    },
    {
      "cell_type": "code",
      "source": [
        "class Restaurant():\n",
        "  def __init__(self, name, cuisine):\n",
        "    self.name = name\n",
        "    self.cuisine = cuisine\n",
        "  def describe(self):\n",
        "    print(f\"{self.name.title()} specializes in {self.cuisine}.\")\n",
        "  def open(self):\n",
        "    print(f\"{self.name.title()} is now open!\")\n",
        "\n",
        "class IceCreamShop(Restaurant):\n",
        "  def __init__(self, name, cuisine, flavors={'Vanilla', 'Chocolate', 'Strawberry'}):\n",
        "    super().__init__(name, cuisine)\n",
        "    self.flavors = flavors\n",
        "\n",
        "  def get_flavors(self):\n",
        "    print(\"Flavors:\")\n",
        "    for flavor in self.flavors:\n",
        "      print(flavor)\n",
        "\n",
        "ice = IceCreamShop('Stewarts', 'IceCream')\n",
        "ice.get_flavors()"
      ],
      "metadata": {
        "colab": {
          "base_uri": "https://localhost:8080/"
        },
        "id": "xbiUEcejh28w",
        "outputId": "aa72b103-a382-44ab-ae7b-32755091f666"
      },
      "execution_count": 40,
      "outputs": [
        {
          "output_type": "stream",
          "name": "stdout",
          "text": [
            "Flavors:\n",
            "Strawberry\n",
            "Chocolate\n",
            "Vanilla\n"
          ]
        }
      ]
    },
    {
      "cell_type": "code",
      "source": [
        "class User():\n",
        "  def __init__(self, fname, lname, age, role):\n",
        "    self.fname = fname\n",
        "    self.lname = lname\n",
        "    self.age = age\n",
        "    self.role = role\n",
        "  def describe(self):\n",
        "    print(f\"{self.fname.title()} {self.lname.title()} is {self.age} years old and works as a {self.role}.\")\n",
        "  def greet(self):\n",
        "    print(f\"Welcome {self.fname.title()}\")\n",
        "\n",
        "class Admin(User):\n",
        "  def __init__(self, fname, lname, age, role, privledges):\n",
        "    super().__init__(fname, lname, age, role)\n",
        "    self.privledges = privledges\n",
        "\n",
        "  def list_privledges(self):\n",
        "    print(\"This admin can:\")\n",
        "    for privledges in self.privledges:\n",
        "      print(privledges)\n",
        "\n",
        "privledges = {'Can add users', 'Can ban users', 'Can modify content'}\n",
        "admin = Admin('Marcus', 'Butta', 19, 'Admin', privledges)\n",
        "admin.list_privledges()"
      ],
      "metadata": {
        "colab": {
          "base_uri": "https://localhost:8080/"
        },
        "id": "m82t1qtTkJS3",
        "outputId": "13d5ad1d-e320-4903-aa73-beb16daa3ab7"
      },
      "execution_count": 44,
      "outputs": [
        {
          "output_type": "stream",
          "name": "stdout",
          "text": [
            "This admin can:\n",
            "Can ban users\n",
            "Can add users\n",
            "Can modify content\n"
          ]
        }
      ]
    },
    {
      "cell_type": "markdown",
      "source": [
        "end of try it yourself"
      ],
      "metadata": {
        "id": "IXFGizY5l2Jk"
      }
    }
  ]
}