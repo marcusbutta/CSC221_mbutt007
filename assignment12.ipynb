{
  "nbformat": 4,
  "nbformat_minor": 0,
  "metadata": {
    "colab": {
      "provenance": [],
      "authorship_tag": "ABX9TyNqj5DnBgViA4ZWx4T3gMO+",
      "include_colab_link": true
    },
    "kernelspec": {
      "name": "python3",
      "display_name": "Python 3"
    },
    "language_info": {
      "name": "python"
    }
  },
  "cells": [
    {
      "cell_type": "markdown",
      "metadata": {
        "id": "view-in-github",
        "colab_type": "text"
      },
      "source": [
        "<a href=\"https://colab.research.google.com/github/marcusbutta/CSC221_mbutt007/blob/main/assignment12.ipynb\" target=\"_parent\"><img src=\"https://colab.research.google.com/assets/colab-badge.svg\" alt=\"Open In Colab\"/></a>"
      ]
    },
    {
      "cell_type": "markdown",
      "source": [
        "# Marcus Butta\n",
        "# Assignment 12"
      ],
      "metadata": {
        "id": "Dgwlr-wYyBm4"
      }
    },
    {
      "cell_type": "code",
      "execution_count": 19,
      "metadata": {
        "id": "S7pKVTg0P1Nh"
      },
      "outputs": [],
      "source": [
        "class Money():\n",
        "  def __init__(self, total):\n",
        "    try:\n",
        "      self.total = float(total)\n",
        "    except ValueError:\n",
        "      print(\"ERROR: Not a valid input\")\n",
        "\n",
        "# Bills\n",
        "class Bills(Money):\n",
        "  def __init__(self, ones=0, fives=0, tens=0, twentys=0):\n",
        "    try:\n",
        "      self.ones = int(ones)\n",
        "      self.fives = int(fives)\n",
        "      self.tens = int(tens)\n",
        "      self.twentys = int(twentys)\n",
        "      total = (self.ones * 1) + (self.fives * 5) + (self.tens * 10) + (self.twentys * 20)\n",
        "    except ValueError:\n",
        "      print(\"ERROR: All input must be integers\")\n",
        "      print(\"Falling back to 'total = 0'\")\n",
        "      total = 0\n",
        "    super().__init__(total)\n",
        "\n",
        "class Ones(Bills):\n",
        "  def __init__(self, amount):\n",
        "    self.ones = amount\n",
        "    super().__init__(ones=self.ones)\n",
        "\n",
        "class Fives(Bills):\n",
        "  def __init__(self, amount):\n",
        "    self.fives = amount\n",
        "    super().__init__(fives=self.fives)\n",
        "\n",
        "class Tens(Bills):\n",
        "  def __init__(self, amount):\n",
        "    self.tens = amount\n",
        "    super().__init__(tens=self.tens)\n",
        "\n",
        "class Twentys(Bills):\n",
        "  def __init__(self, amount):\n",
        "    self.twentys = amount\n",
        "    super().__init__(twentys=self.twentys)\n",
        "\n",
        "# Coins\n",
        "class Coins(Money):\n",
        "  def __init__(self, pennys=0, nickels=0, dimes=0, quarters=0):\n",
        "    try:\n",
        "      self.pennys = int(pennys)\n",
        "      self.nickels = int(nickels)\n",
        "      self.dimes = int(dimes)\n",
        "      self.quarters = int(quarters)\n",
        "      total = (self.pennys * 0.01) + (self.nickels * 0.05) + (self.dimes * 0.1) + (self.quarters * 0.25)\n",
        "    except ValueError:\n",
        "      print(\"ERROR: All input must be integers\")\n",
        "      print(\"Falling back to 'total = 0'\")\n",
        "      total = 0\n",
        "    super().__init__(total)\n",
        "\n",
        "class Pennys(Coins):\n",
        "  def __init__(self, amount):\n",
        "    self.pennys = amount\n",
        "    super().__init__(pennys=self.pennys)\n",
        "\n",
        "class Nickels(Coins):\n",
        "  def __init__(self, amount):\n",
        "    self.nickels = amount\n",
        "    super().__init__(nickels=self.nickels)\n",
        "\n",
        "class Dimes(Coins):\n",
        "  def __init__(self, amount):\n",
        "    self.dimes = amount\n",
        "    super().__init__(dimes=self.dimes)\n",
        "\n",
        "class Quarters(Coins):\n",
        "  def __init__(self, amount):\n",
        "    self.quarters = amount\n",
        "    super().__init__(quarters=self.quarters)"
      ]
    },
    {
      "cell_type": "markdown",
      "source": [
        "Functions:"
      ],
      "metadata": {
        "id": "QTh6qUQSzDpX"
      }
    },
    {
      "cell_type": "code",
      "source": [
        "def money_sum(wallet):\n",
        "  total = 0\n",
        "  for item in wallet:\n",
        "    total += item.total\n",
        "  return total\n",
        "\n",
        "def money_list(wallet):\n",
        "  money = {\n",
        "      'Ones' : 0,\n",
        "      'Fives' : 0,\n",
        "      'Tens' : 0,\n",
        "      'Twentys' : 0,\n",
        "      'Pennys' : 0,\n",
        "      'Nickels' : 0,\n",
        "      'Dimes' : 0,\n",
        "      'Quarters' : 0\n",
        "  }\n",
        "\n",
        "  for item in wallet:\n",
        "    try:\n",
        "      money['Ones'] += item.ones\n",
        "      money['Fives'] += item.fives\n",
        "      money['Tens'] += item.tens\n",
        "      money['Twentys'] += item.twentys\n",
        "    except:\n",
        "      money['Pennys'] += item.pennys\n",
        "      money['Nickels'] += item.nickels\n",
        "      money['Dimes'] += item.dimes\n",
        "      money['Quarters'] += item.quarters\n",
        "\n",
        "  print(\"List of money in wallet:\")\n",
        "  for key, value in money.items():\n",
        "    print(f\"{key}: {value}\")"
      ],
      "metadata": {
        "id": "RrnfqWh9zFEK"
      },
      "execution_count": 36,
      "outputs": []
    },
    {
      "cell_type": "markdown",
      "source": [
        "Testing:"
      ],
      "metadata": {
        "id": "9biT2NUK2HDB"
      }
    },
    {
      "cell_type": "code",
      "source": [
        "wallet1 = {Ones(5), Tens(2), Fives(3), Pennys(3)}\n",
        "\n",
        "print(money_sum(wallet1))\n",
        "money_list(wallet1)"
      ],
      "metadata": {
        "colab": {
          "base_uri": "https://localhost:8080/"
        },
        "id": "XgEX5WiY2IVs",
        "outputId": "422798aa-f3af-4a43-e460-b01e884fe1f0"
      },
      "execution_count": 40,
      "outputs": [
        {
          "output_type": "stream",
          "name": "stdout",
          "text": [
            "40.03\n",
            "List of money in wallet:\n",
            "Ones: 5\n",
            "Fives: 3\n",
            "Tens: 2\n",
            "Twentys: 0\n",
            "Pennys: 3\n",
            "Nickels: 0\n",
            "Dimes: 0\n",
            "Quarters: 0\n"
          ]
        }
      ]
    },
    {
      "cell_type": "code",
      "source": [
        "wallet2 = {Tens(7), Fives(1), Twentys(2), Quarters(3), Dimes(8), Nickels(3)}\n",
        "\n",
        "print(money_sum(wallet2))\n",
        "money_list(wallet2)"
      ],
      "metadata": {
        "colab": {
          "base_uri": "https://localhost:8080/"
        },
        "id": "fW66EQ7A4lMl",
        "outputId": "b6f2e221-be05-414b-8513-dc7a9cf7b1dc"
      },
      "execution_count": 61,
      "outputs": [
        {
          "output_type": "stream",
          "name": "stdout",
          "text": [
            "116.7\n",
            "List of money in wallet:\n",
            "Ones: 0\n",
            "Fives: 1\n",
            "Tens: 7\n",
            "Twentys: 2\n",
            "Pennys: 0\n",
            "Nickels: 3\n",
            "Dimes: 8\n",
            "Quarters: 3\n"
          ]
        }
      ]
    },
    {
      "cell_type": "code",
      "source": [
        "wallet3 = {Twentys(4), Fives(4), Ones(4), Quarters(2), Dimes(6)}\n",
        "\n",
        "print(money_sum(wallet3))\n",
        "money_list(wallet3)"
      ],
      "metadata": {
        "colab": {
          "base_uri": "https://localhost:8080/"
        },
        "id": "ZtZeleXa7ThJ",
        "outputId": "28a276d7-7ab6-4397-f96b-61a17a248d1b"
      },
      "execution_count": 70,
      "outputs": [
        {
          "output_type": "stream",
          "name": "stdout",
          "text": [
            "105.1\n",
            "List of money in wallet:\n",
            "Ones: 4\n",
            "Fives: 4\n",
            "Tens: 0\n",
            "Twentys: 4\n",
            "Pennys: 0\n",
            "Nickels: 0\n",
            "Dimes: 6\n",
            "Quarters: 2\n"
          ]
        }
      ]
    }
  ]
}