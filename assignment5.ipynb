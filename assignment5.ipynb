{
  "nbformat": 4,
  "nbformat_minor": 0,
  "metadata": {
    "colab": {
      "provenance": [],
      "authorship_tag": "ABX9TyOmREAvxS8vViBaXxWCiEjC",
      "include_colab_link": true
    },
    "kernelspec": {
      "name": "python3",
      "display_name": "Python 3"
    },
    "language_info": {
      "name": "python"
    }
  },
  "cells": [
    {
      "cell_type": "markdown",
      "metadata": {
        "id": "view-in-github",
        "colab_type": "text"
      },
      "source": [
        "<a href=\"https://colab.research.google.com/github/marcusbutta/CSC221_mbutt007/blob/main/assignment5.ipynb\" target=\"_parent\"><img src=\"https://colab.research.google.com/assets/colab-badge.svg\" alt=\"Open In Colab\"/></a>"
      ]
    },
    {
      "cell_type": "code",
      "execution_count": null,
      "metadata": {
        "colab": {
          "base_uri": "https://localhost:8080/"
        },
        "id": "RpIiY8N3IvHc",
        "outputId": "5d2f7b65-9cc9-495e-8b3b-ab19575482e6"
      },
      "outputs": [
        {
          "output_type": "stream",
          "name": "stdout",
          "text": [
            "['trek', 'cannondale', 'redline', 'specialized']\n"
          ]
        }
      ],
      "source": [
        "bicycles = ['trek', 'cannondale', 'redline', 'specialized']\n",
        "print(bicycles)"
      ]
    },
    {
      "cell_type": "code",
      "source": [
        "print(bicycles[0])"
      ],
      "metadata": {
        "colab": {
          "base_uri": "https://localhost:8080/"
        },
        "id": "MsVt_NkQJGE4",
        "outputId": "aede4f16-4fe8-453a-fc4b-0675220d42fd"
      },
      "execution_count": null,
      "outputs": [
        {
          "output_type": "stream",
          "name": "stdout",
          "text": [
            "trek\n"
          ]
        }
      ]
    },
    {
      "cell_type": "code",
      "source": [
        "print(bicycles[0].title())"
      ],
      "metadata": {
        "colab": {
          "base_uri": "https://localhost:8080/"
        },
        "id": "1RZVMfeOJLMQ",
        "outputId": "b039f37b-e6fb-46a2-fcfd-4823b083419b"
      },
      "execution_count": null,
      "outputs": [
        {
          "output_type": "stream",
          "name": "stdout",
          "text": [
            "Trek\n"
          ]
        }
      ]
    },
    {
      "cell_type": "code",
      "source": [
        "print(bicycles[1])\n",
        "print(bicycles[3])"
      ],
      "metadata": {
        "colab": {
          "base_uri": "https://localhost:8080/"
        },
        "id": "hJmUTFtDJUtK",
        "outputId": "d4ccdd0e-549f-419c-8a80-1c85b7800c0f"
      },
      "execution_count": null,
      "outputs": [
        {
          "output_type": "stream",
          "name": "stdout",
          "text": [
            "cannondale\n",
            "specialized\n"
          ]
        }
      ]
    },
    {
      "cell_type": "code",
      "source": [
        "print(bicycles[-1])"
      ],
      "metadata": {
        "colab": {
          "base_uri": "https://localhost:8080/"
        },
        "id": "i5wUety4JbeR",
        "outputId": "1d5bf284-35c7-4def-92d6-a14679c0721a"
      },
      "execution_count": null,
      "outputs": [
        {
          "output_type": "stream",
          "name": "stdout",
          "text": [
            "specialized\n"
          ]
        }
      ]
    },
    {
      "cell_type": "code",
      "source": [
        "message = f\"My first bicycle was a {bicycles[3].title()}!\"\n",
        "print(message)"
      ],
      "metadata": {
        "colab": {
          "base_uri": "https://localhost:8080/"
        },
        "id": "667vT4CSJpy-",
        "outputId": "eb8d04f9-bbb7-4be5-f932-d6d5619464c9"
      },
      "execution_count": null,
      "outputs": [
        {
          "output_type": "stream",
          "name": "stdout",
          "text": [
            "My first bicycle was a Specialized!\n"
          ]
        }
      ]
    },
    {
      "cell_type": "code",
      "source": [
        "motorcycles = ['honda', 'yamaha', 'suzuki']\n",
        "print(motorcycles)\n",
        "\n",
        "motorcycles[0] = 'ducati'\n",
        "print(motorcycles)"
      ],
      "metadata": {
        "colab": {
          "base_uri": "https://localhost:8080/"
        },
        "id": "sXQVjnnhJzjm",
        "outputId": "1c547508-6a6d-4aa0-e0bb-96ba4a1bc597"
      },
      "execution_count": null,
      "outputs": [
        {
          "output_type": "stream",
          "name": "stdout",
          "text": [
            "['honda', 'yamaha', 'suzuki']\n",
            "['ducati', 'yamaha', 'suzuki']\n"
          ]
        }
      ]
    },
    {
      "cell_type": "code",
      "source": [
        "motorcycles = ['honda', 'yamaha', 'suzuki']\n",
        "print(motorcycles)\n",
        "\n",
        "motorcycles.append('ducati')\n",
        "print(motorcycles)"
      ],
      "metadata": {
        "colab": {
          "base_uri": "https://localhost:8080/"
        },
        "id": "n7OBU_5CKIhQ",
        "outputId": "dfc7a7e3-01ae-418d-d01c-d5b12d215145"
      },
      "execution_count": null,
      "outputs": [
        {
          "output_type": "stream",
          "name": "stdout",
          "text": [
            "['honda', 'yamaha', 'suzuki']\n",
            "['honda', 'yamaha', 'suzuki', 'ducati']\n"
          ]
        }
      ]
    },
    {
      "cell_type": "code",
      "source": [
        "motorcycles = []\n",
        "motorcycles.append('honda')\n",
        "motorcycles.append('yamaha')\n",
        "motorcycles.append('suzuki')\n",
        "print(motorcycles)"
      ],
      "metadata": {
        "colab": {
          "base_uri": "https://localhost:8080/"
        },
        "id": "o7Er67TxKZso",
        "outputId": "97a1b434-79d3-410c-aa55-7c146ba9667a"
      },
      "execution_count": null,
      "outputs": [
        {
          "output_type": "stream",
          "name": "stdout",
          "text": [
            "['honda', 'yamaha', 'suzuki']\n"
          ]
        }
      ]
    },
    {
      "cell_type": "code",
      "source": [
        "motorcycles = ['honda', 'yamaha', 'suzuki']\n",
        "motorcycles.insert(0, 'ducati')\n",
        "print(motorcycles)"
      ],
      "metadata": {
        "colab": {
          "base_uri": "https://localhost:8080/"
        },
        "id": "__BcxFEqKp13",
        "outputId": "198f5007-da82-4380-a867-6c334b2357f0"
      },
      "execution_count": null,
      "outputs": [
        {
          "output_type": "stream",
          "name": "stdout",
          "text": [
            "['ducati', 'honda', 'yamaha', 'suzuki']\n"
          ]
        }
      ]
    },
    {
      "cell_type": "code",
      "source": [
        "motorcycles = ['honda', 'yamaha', 'suzuki']\n",
        "print(motorcycles)\n",
        "\n",
        "del motorcycles[0]\n",
        "print(motorcycles)"
      ],
      "metadata": {
        "colab": {
          "base_uri": "https://localhost:8080/"
        },
        "id": "PCKlduIZK757",
        "outputId": "a9e524ff-cd06-4180-f1f4-5b21a743a64c"
      },
      "execution_count": null,
      "outputs": [
        {
          "output_type": "stream",
          "name": "stdout",
          "text": [
            "['honda', 'yamaha', 'suzuki']\n",
            "['yamaha', 'suzuki']\n"
          ]
        }
      ]
    },
    {
      "cell_type": "code",
      "source": [
        "motorcycles = ['honda', 'yamaha', 'suzuki']\n",
        "print(motorcycles)\n",
        "\n",
        "popped_motorcycle = motorcycles.pop()\n",
        "print(motorcycles)\n",
        "print(popped_motorcycle)"
      ],
      "metadata": {
        "colab": {
          "base_uri": "https://localhost:8080/"
        },
        "id": "tQG4U4irLAxg",
        "outputId": "673baf6c-1878-443f-ddbb-86960469c859"
      },
      "execution_count": null,
      "outputs": [
        {
          "output_type": "stream",
          "name": "stdout",
          "text": [
            "['honda', 'yamaha', 'suzuki']\n",
            "['honda', 'yamaha']\n",
            "suzuki\n"
          ]
        }
      ]
    },
    {
      "cell_type": "code",
      "source": [
        "motorcycles = ['honda', 'yamaha', 'suzuki']\n",
        "last_motorcycle = motorcycles.pop()\n",
        "print(f\"The last motorcycle I owned was a {last_motorcycle.title()}\")"
      ],
      "metadata": {
        "colab": {
          "base_uri": "https://localhost:8080/"
        },
        "id": "BLYdxWRyLYGG",
        "outputId": "733fc882-9665-42d9-d2a8-c4f7ab941cb6"
      },
      "execution_count": null,
      "outputs": [
        {
          "output_type": "stream",
          "name": "stdout",
          "text": [
            "The last motorcycles I owned was a Suzuki\n"
          ]
        }
      ]
    },
    {
      "cell_type": "code",
      "source": [
        "motorcycles = ['honda', 'yamaha', 'suzuki']\n",
        "first_motorcycle = motorcycles.pop(0)\n",
        "print(f\"The first motorcycle I owned was a {first_motorcycle.title()}\")"
      ],
      "metadata": {
        "colab": {
          "base_uri": "https://localhost:8080/"
        },
        "id": "wJmkup_XLnTR",
        "outputId": "6c9b0af7-728e-48bf-fabd-1006c2a28d75"
      },
      "execution_count": null,
      "outputs": [
        {
          "output_type": "stream",
          "name": "stdout",
          "text": [
            "The first motorcycle I owned was a Honda\n"
          ]
        }
      ]
    },
    {
      "cell_type": "code",
      "source": [
        "motorcycles = ['honda', 'yamaha', 'suzuki', 'ducati']\n",
        "print(motorcycles)\n",
        "\n",
        "motorcycles.remove('ducati')\n",
        "print(motorcycles)"
      ],
      "metadata": {
        "colab": {
          "base_uri": "https://localhost:8080/"
        },
        "id": "UGUgnYCiL2lF",
        "outputId": "32042d28-e4a8-46dc-e27d-45830541254e"
      },
      "execution_count": null,
      "outputs": [
        {
          "output_type": "stream",
          "name": "stdout",
          "text": [
            "['honda', 'yamaha', 'suzuki', 'ducati']\n",
            "['honda', 'yamaha', 'suzuki']\n"
          ]
        }
      ]
    },
    {
      "cell_type": "code",
      "source": [
        "motorcycles = ['honda', 'yamaha', 'suzuki', 'ducati']\n",
        "print(motorcycles)\n",
        "\n",
        "too_expensive = 'ducati'\n",
        "motorcycles.remove(too_expensive)\n",
        "print(motorcycles)\n",
        "print(f\"\\nA {too_expensive.title()} is too expensive for me.\")"
      ],
      "metadata": {
        "colab": {
          "base_uri": "https://localhost:8080/"
        },
        "id": "rYFgyqAXMDcD",
        "outputId": "815f05c4-8306-40dd-d1ff-733b34485440"
      },
      "execution_count": null,
      "outputs": [
        {
          "output_type": "stream",
          "name": "stdout",
          "text": [
            "['honda', 'yamaha', 'suzuki', 'ducati']\n",
            "['honda', 'yamaha', 'suzuki']\n",
            "\n",
            "A Ducati is too expensive for me.\n"
          ]
        }
      ]
    },
    {
      "cell_type": "markdown",
      "source": [
        "Try it yourself section:"
      ],
      "metadata": {
        "id": "1r9TYfpYMp2x"
      }
    },
    {
      "cell_type": "code",
      "source": [
        "guest_list = ['shrek', 'obama', 'ned lecky']\n",
        "print(f\"Welcome to the dinner {guest_list[0].title()}!\")\n",
        "print(f\"Welcome to the dinner {guest_list[1].title()}!\")\n",
        "print(f\"Welcome to the dinner {guest_list[2].title()}!\")"
      ],
      "metadata": {
        "colab": {
          "base_uri": "https://localhost:8080/"
        },
        "id": "Nuy5EYRXMtnL",
        "outputId": "2c3bb3ce-e60e-427c-f8cf-36a81a1b4815"
      },
      "execution_count": 24,
      "outputs": [
        {
          "output_type": "stream",
          "name": "stdout",
          "text": [
            "Welcome to the dinner Shrek!\n",
            "Welcome to the dinner Obama!\n",
            "Welcome to the dinner Ned Lecky!\n"
          ]
        }
      ]
    },
    {
      "cell_type": "code",
      "source": [
        "guest_list = ['shrek', 'obama', 'ned lecky']\n",
        "print(f\"Unfortunately {guest_list[0].title()} couldn't make it to the dinner today.\")\n",
        "guest_list.remove('shrek')\n",
        "\n",
        "guest_list.insert(0, 'einstein')\n",
        "\n",
        "timer = 0\n",
        "for i in guest_list:\n",
        "  print(f\"Welcome to the dinner {guest_list[timer].title()}!\")\n",
        "  timer += 1"
      ],
      "metadata": {
        "colab": {
          "base_uri": "https://localhost:8080/"
        },
        "id": "MRt9fduhNeWO",
        "outputId": "03a0782e-7ca9-4672-fd8f-e728e699329a"
      },
      "execution_count": null,
      "outputs": [
        {
          "output_type": "stream",
          "name": "stdout",
          "text": [
            "Unfortunately Shrek couldn't make it to the dinner today.\n",
            "Welcome to the dinner Einstein!\n",
            "Welcome to the dinner Obama!\n",
            "Welcome to the dinner Ned Lecky!\n"
          ]
        }
      ]
    },
    {
      "cell_type": "code",
      "source": [
        "print(\"Luckily I was able to find a bigger table, we are now able to have three more guests!\")\n",
        "guest_list.insert(0, 'megamind')\n",
        "guest_list.insert(3, 'metroman')\n",
        "guest_list.append('george washington')\n",
        "\n",
        "timer = 0\n",
        "for i in guest_list:\n",
        "  print(f\"Welcome to the dinner {guest_list[timer].title()}!\")\n",
        "  timer += 1"
      ],
      "metadata": {
        "colab": {
          "base_uri": "https://localhost:8080/"
        },
        "id": "nb_QKrLkRLfK",
        "outputId": "1a39a5bb-c216-4209-e510-7c82b6354c40"
      },
      "execution_count": null,
      "outputs": [
        {
          "output_type": "stream",
          "name": "stdout",
          "text": [
            "Luckily I was able to find a bigger table, we are now able to have three more guests!\n",
            "Welcome to the dinner Megamind!\n",
            "Welcome to the dinner Einstein!\n",
            "Welcome to the dinner Obama!\n",
            "Welcome to the dinner Metroman!\n",
            "Welcome to the dinner Ned Lecky!\n",
            "Welcome to the dinner George Washington!\n"
          ]
        }
      ]
    },
    {
      "cell_type": "code",
      "source": [
        "print(\"Unfortunately the table doesn't come until Saturday and I can only have two people over.\")\n",
        "\n",
        "while len(guest_list) > 2:\n",
        "  removed_guest = guest_list.pop()\n",
        "  print(f\"Sorry {removed_guest.title()}, unfortunately your invitation has been withdrawn due to table size.\")\n",
        "\n",
        "timer = 0\n",
        "for i in guest_list:\n",
        "  print(f\"Congrats {guest_list[timer].title()}, you are still invited to dinner!\")\n",
        "  timer += 1\n",
        "\n",
        "del guest_list[0]\n",
        "del guest_list[0]\n",
        "print(guest_list)"
      ],
      "metadata": {
        "colab": {
          "base_uri": "https://localhost:8080/"
        },
        "id": "IFRezv2FSEng",
        "outputId": "1ef69903-59bf-498e-83dc-614634864921"
      },
      "execution_count": null,
      "outputs": [
        {
          "output_type": "stream",
          "name": "stdout",
          "text": [
            "Unfortunately the table doesn't come until Saturday and I can only have two people over.\n",
            "Sorry George Washington, unfortunately your invitation has been withdrawn due to table size.\n",
            "Sorry Ned Lecky, unfortunately your invitation has been withdrawn due to table size.\n",
            "Sorry Metroman, unfortunately your invitation has been withdrawn due to table size.\n",
            "Sorry Obama, unfortunately your invitation has been withdrawn due to table size.\n",
            "Congrats Megamind, you are still invited to dinner!\n",
            "Congrats Einstein, you are still invited to dinner!\n",
            "[]\n"
          ]
        }
      ]
    },
    {
      "cell_type": "markdown",
      "source": [
        "End of try it yourself section"
      ],
      "metadata": {
        "id": "f1Qr2X_5zWAF"
      }
    },
    {
      "cell_type": "code",
      "source": [
        "cars = ['bmw', 'audi', 'toyota', 'suburu']\n",
        "cars.sort()\n",
        "print(cars)"
      ],
      "metadata": {
        "colab": {
          "base_uri": "https://localhost:8080/"
        },
        "id": "4jdH1UnRzYch",
        "outputId": "24c86e30-f2f2-4743-fe9a-f9fc225c0840"
      },
      "execution_count": 1,
      "outputs": [
        {
          "output_type": "stream",
          "name": "stdout",
          "text": [
            "['audi', 'bmw', 'suburu', 'toyota']\n"
          ]
        }
      ]
    },
    {
      "cell_type": "code",
      "source": [
        "cars = ['bmw', 'audi', 'toyota', 'suburu']\n",
        "cars.sort(reverse=True)\n",
        "print(cars)"
      ],
      "metadata": {
        "colab": {
          "base_uri": "https://localhost:8080/"
        },
        "id": "Te1MDcm9zyh5",
        "outputId": "98b68080-4676-4d9a-85f9-78f1eed0d0ca"
      },
      "execution_count": 2,
      "outputs": [
        {
          "output_type": "stream",
          "name": "stdout",
          "text": [
            "['toyota', 'suburu', 'bmw', 'audi']\n"
          ]
        }
      ]
    },
    {
      "cell_type": "code",
      "source": [
        "cars = ['bmw', 'audi', 'toyota', 'suburu']\n",
        "\n",
        "print(\"Here is the original list:\")\n",
        "print(cars)\n",
        "\n",
        "print(\"\\nHere is the sorted list:\")\n",
        "print(sorted(cars))\n",
        "\n",
        "print(\"\\nHere is the original list again:\")\n",
        "print(cars)"
      ],
      "metadata": {
        "colab": {
          "base_uri": "https://localhost:8080/"
        },
        "id": "JpTuaPuaz6Hv",
        "outputId": "d1ddd601-3af4-447c-cca1-534f87aa7b85"
      },
      "execution_count": 3,
      "outputs": [
        {
          "output_type": "stream",
          "name": "stdout",
          "text": [
            "Here is the original list:\n",
            "['bmw', 'audi', 'toyota', 'suburu']\n",
            "\n",
            "Here is the sorted list:\n",
            "['audi', 'bmw', 'suburu', 'toyota']\n",
            "\n",
            "Here is the original list again:\n",
            "['bmw', 'audi', 'toyota', 'suburu']\n"
          ]
        }
      ]
    },
    {
      "cell_type": "code",
      "source": [
        "cars = ['bmw', 'audi', 'toyota', 'suburu']\n",
        "print(cars)\n",
        "\n",
        "cars.reverse()\n",
        "print(cars)"
      ],
      "metadata": {
        "colab": {
          "base_uri": "https://localhost:8080/"
        },
        "id": "mNOgK7wI0UC7",
        "outputId": "1401fbc3-79fb-4abe-c515-0e406bc49774"
      },
      "execution_count": 4,
      "outputs": [
        {
          "output_type": "stream",
          "name": "stdout",
          "text": [
            "['bmw', 'audi', 'toyota', 'suburu']\n",
            "['suburu', 'toyota', 'audi', 'bmw']\n"
          ]
        }
      ]
    },
    {
      "cell_type": "code",
      "source": [
        "cars = ['bmw', 'audi', 'toyota', 'suburu']\n",
        "len(cars)"
      ],
      "metadata": {
        "colab": {
          "base_uri": "https://localhost:8080/"
        },
        "id": "zvj5pfxD0diC",
        "outputId": "9859582c-b2ad-49e4-c06e-a7bd3e592a32"
      },
      "execution_count": 5,
      "outputs": [
        {
          "output_type": "execute_result",
          "data": {
            "text/plain": [
              "4"
            ]
          },
          "metadata": {},
          "execution_count": 5
        }
      ]
    },
    {
      "cell_type": "markdown",
      "source": [
        "Try it yourself numbero dos:"
      ],
      "metadata": {
        "id": "G7e5KtvB0re2"
      }
    },
    {
      "cell_type": "code",
      "source": [
        "locations = ['the netherlands', 'germany', 'taiwan', 'finland', 'japan']\n",
        "print(locations)\n",
        "print(sorted(locations))\n",
        "print(locations)\n",
        "print(sorted(locations, reverse=True))\n",
        "print(locations)\n",
        "locations.reverse()\n",
        "print(locations)\n",
        "locations.reverse()\n",
        "print(locations)\n",
        "locations.sort()\n",
        "print(locations)\n",
        "locations.sort(reverse=True)\n",
        "print(locations)"
      ],
      "metadata": {
        "colab": {
          "base_uri": "https://localhost:8080/"
        },
        "id": "J8rQbf4-0trJ",
        "outputId": "107553c0-a11c-4eb3-c045-4b46d4354023"
      },
      "execution_count": 23,
      "outputs": [
        {
          "output_type": "stream",
          "name": "stdout",
          "text": [
            "['the netherlands', 'germany', 'taiwan', 'finland', 'japan']\n",
            "['finland', 'germany', 'japan', 'taiwan', 'the netherlands']\n",
            "['the netherlands', 'germany', 'taiwan', 'finland', 'japan']\n",
            "['the netherlands', 'taiwan', 'japan', 'germany', 'finland']\n",
            "['the netherlands', 'germany', 'taiwan', 'finland', 'japan']\n",
            "['japan', 'finland', 'taiwan', 'germany', 'the netherlands']\n",
            "['the netherlands', 'germany', 'taiwan', 'finland', 'japan']\n",
            "['finland', 'germany', 'japan', 'taiwan', 'the netherlands']\n",
            "['the netherlands', 'taiwan', 'japan', 'germany', 'finland']\n"
          ]
        }
      ]
    },
    {
      "cell_type": "code",
      "source": [
        "guest_list = ['shrek', 'obama', 'ned lecky']\n",
        "print(f\"Welcome to the dinner {guest_list[0].title()}!\")\n",
        "print(f\"Welcome to the dinner {guest_list[1].title()}!\")\n",
        "print(f\"Welcome to the dinner {guest_list[2].title()}!\")\n",
        "print(f\"{len(guest_list)} guests are currently invited to dinner!\")"
      ],
      "metadata": {
        "colab": {
          "base_uri": "https://localhost:8080/"
        },
        "id": "O16MumBm3pon",
        "outputId": "40cec18a-a448-4381-924e-ac405f934b9b"
      },
      "execution_count": 26,
      "outputs": [
        {
          "output_type": "stream",
          "name": "stdout",
          "text": [
            "Welcome to the dinner Shrek!\n",
            "Welcome to the dinner Obama!\n",
            "Welcome to the dinner Ned Lecky!\n",
            "3 guests are currently invited to dinner!\n"
          ]
        }
      ]
    },
    {
      "cell_type": "markdown",
      "source": [
        "Try it yourself part 2:"
      ],
      "metadata": {
        "id": "Kv4qaFk96qk2"
      }
    },
    {
      "cell_type": "code",
      "source": [
        "operating_systems = ['mac os', 'windows', 'linux']\n",
        "print(operating_systems)\n",
        "operating_systems.append('fushia')\n",
        "print(operating_systems)\n",
        "operating_systems.insert(0, 'bsd')\n",
        "print(operating_systems)\n",
        "\n",
        "print(\"\\nKnow Operating Systems:\")\n",
        "timer = 0\n",
        "for i in operating_systems:\n",
        "  print(operating_systems[timer].title())\n",
        "  timer += 1\n",
        "\n",
        "print(\"\\n\")\n",
        "print(operating_systems)\n",
        "print(sorted(operating_systems))\n",
        "print(sorted(operating_systems, reverse=True))\n",
        "operating_systems.reverse()\n",
        "print(operating_systems)\n",
        "operating_systems.reverse()\n",
        "print(operating_systems)\n",
        "operating_systems.sort()\n",
        "print(operating_systems)\n",
        "operating_systems.sort(reverse=True)\n",
        "print(operating_systems)\n",
        "\n",
        "print(f\"\\nThere are {len(operating_systems)} known operating systems.\")"
      ],
      "metadata": {
        "colab": {
          "base_uri": "https://localhost:8080/"
        },
        "id": "g8s1NUL035VZ",
        "outputId": "34952773-439a-4636-ed96-3dd2569fae1f"
      },
      "execution_count": 51,
      "outputs": [
        {
          "output_type": "stream",
          "name": "stdout",
          "text": [
            "['mac os', 'windows', 'linux']\n",
            "['mac os', 'windows', 'linux', 'fushia']\n",
            "['bsd', 'mac os', 'windows', 'linux', 'fushia']\n",
            "\n",
            "Know Operating Systems:\n",
            "Bsd\n",
            "Mac Os\n",
            "Windows\n",
            "Linux\n",
            "Fushia\n",
            "\n",
            "\n",
            "['bsd', 'mac os', 'windows', 'linux', 'fushia']\n",
            "['bsd', 'fushia', 'linux', 'mac os', 'windows']\n",
            "['windows', 'mac os', 'linux', 'fushia', 'bsd']\n",
            "['fushia', 'linux', 'windows', 'mac os', 'bsd']\n",
            "['bsd', 'mac os', 'windows', 'linux', 'fushia']\n",
            "['bsd', 'fushia', 'linux', 'mac os', 'windows']\n",
            "['windows', 'mac os', 'linux', 'fushia', 'bsd']\n",
            "\n",
            "There are 5 known operating systems.\n"
          ]
        }
      ]
    },
    {
      "cell_type": "markdown",
      "source": [
        "Intentional error:"
      ],
      "metadata": {
        "id": "5fYTBd6u67lo"
      }
    },
    {
      "cell_type": "code",
      "source": [
        "iceCream_flavors = ['vanilla', 'chocolate', 'stawberry']\n",
        "print(iceCream_flavors[4])"
      ],
      "metadata": {
        "colab": {
          "base_uri": "https://localhost:8080/",
          "height": 197
        },
        "id": "O9BwZRAl69Ij",
        "outputId": "8291b742-9925-4df4-a3da-60610ea326ab"
      },
      "execution_count": 52,
      "outputs": [
        {
          "output_type": "error",
          "ename": "IndexError",
          "evalue": "ignored",
          "traceback": [
            "\u001b[0;31m---------------------------------------------------------------------------\u001b[0m",
            "\u001b[0;31mIndexError\u001b[0m                                Traceback (most recent call last)",
            "\u001b[0;32m<ipython-input-52-e50a03accd82>\u001b[0m in \u001b[0;36m<cell line: 2>\u001b[0;34m()\u001b[0m\n\u001b[1;32m      1\u001b[0m \u001b[0miceCream_flavors\u001b[0m \u001b[0;34m=\u001b[0m \u001b[0;34m[\u001b[0m\u001b[0;34m'vanilla'\u001b[0m\u001b[0;34m,\u001b[0m \u001b[0;34m'chocolate'\u001b[0m\u001b[0;34m,\u001b[0m \u001b[0;34m'stawberry'\u001b[0m\u001b[0;34m]\u001b[0m\u001b[0;34m\u001b[0m\u001b[0;34m\u001b[0m\u001b[0m\n\u001b[0;32m----> 2\u001b[0;31m \u001b[0mprint\u001b[0m\u001b[0;34m(\u001b[0m\u001b[0miceCream_flavors\u001b[0m\u001b[0;34m[\u001b[0m\u001b[0;36m4\u001b[0m\u001b[0;34m]\u001b[0m\u001b[0;34m)\u001b[0m\u001b[0;34m\u001b[0m\u001b[0;34m\u001b[0m\u001b[0m\n\u001b[0m",
            "\u001b[0;31mIndexError\u001b[0m: list index out of range"
          ]
        }
      ]
    },
    {
      "cell_type": "code",
      "source": [
        "iceCream_flavors = ['vanilla', 'chocolate', 'stawberry']\n",
        "print(iceCream_flavors[2])"
      ],
      "metadata": {
        "colab": {
          "base_uri": "https://localhost:8080/"
        },
        "id": "QdqhFz5t7N0_",
        "outputId": "e1985f92-dbed-46bb-a6c0-e1db970a8e19"
      },
      "execution_count": 53,
      "outputs": [
        {
          "output_type": "stream",
          "name": "stdout",
          "text": [
            "stawberry\n"
          ]
        }
      ]
    }
  ]
}