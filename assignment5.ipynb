{
  "nbformat": 4,
  "nbformat_minor": 0,
  "metadata": {
    "colab": {
      "provenance": [],
      "authorship_tag": "ABX9TyOwK0i+bW6B/OVfwpz8cGCi",
      "include_colab_link": true
    },
    "kernelspec": {
      "name": "python3",
      "display_name": "Python 3"
    },
    "language_info": {
      "name": "python"
    }
  },
  "cells": [
    {
      "cell_type": "markdown",
      "metadata": {
        "id": "view-in-github",
        "colab_type": "text"
      },
      "source": [
        "<a href=\"https://colab.research.google.com/github/marcusbutta/CSC221_mbutt007/blob/main/assignment5.ipynb\" target=\"_parent\"><img src=\"https://colab.research.google.com/assets/colab-badge.svg\" alt=\"Open In Colab\"/></a>"
      ]
    },
    {
      "cell_type": "code",
      "execution_count": 2,
      "metadata": {
        "id": "TztxCg77Y2Zl",
        "colab": {
          "base_uri": "https://localhost:8080/"
        },
        "outputId": "f98f310f-3efa-48c5-fd15-b371f2108090"
      },
      "outputs": [
        {
          "output_type": "stream",
          "name": "stdout",
          "text": [
            "alice\n",
            "bob\n",
            "jeff\n"
          ]
        }
      ],
      "source": [
        "wizards = ['alice', 'bob', 'jeff']\n",
        "for wizard in wizards:\n",
        "  print(wizard)"
      ]
    },
    {
      "cell_type": "code",
      "source": [
        "for wizard in wizards:\n",
        "  print(f\"{wizard.title()}, that was a nice trick!\")"
      ],
      "metadata": {
        "colab": {
          "base_uri": "https://localhost:8080/"
        },
        "id": "5cCoaLvQZdRz",
        "outputId": "36061819-d5e7-459e-d6a2-d24a7cd0527e"
      },
      "execution_count": 4,
      "outputs": [
        {
          "output_type": "stream",
          "name": "stdout",
          "text": [
            "Alice, that was a nice trick!\n",
            "Bob, that was a nice trick!\n",
            "Jeff, that was a nice trick!\n"
          ]
        }
      ]
    },
    {
      "cell_type": "code",
      "source": [
        "for wizard in wizards:\n",
        "  print(f\"{wizard.title()}, that was a nice trick!\")\n",
        "  print(f\"I can't wait to see your next trick {wizard.title()}!\")"
      ],
      "metadata": {
        "colab": {
          "base_uri": "https://localhost:8080/"
        },
        "id": "en_-oy8lZop3",
        "outputId": "aa678379-5e11-4c53-b539-b62e31d09bfb"
      },
      "execution_count": 5,
      "outputs": [
        {
          "output_type": "stream",
          "name": "stdout",
          "text": [
            "Alice, that was a nice trick!\n",
            "I can't wait to see your next trick Alice!\n",
            "Bob, that was a nice trick!\n",
            "I can't wait to see your next trick Bob!\n",
            "Jeff, that was a nice trick!\n",
            "I can't wait to see your next trick Jeff!\n"
          ]
        }
      ]
    },
    {
      "cell_type": "code",
      "source": [
        "for wizard in wizards:\n",
        "  print(f\"{wizard.title()}, that was a nice trick!\")\n",
        "  print(f\"I can't wait to see your next trick {wizard.title()}!\")\n",
        "\n",
        "print(\"\\nThat was a cool magic show!\")"
      ],
      "metadata": {
        "colab": {
          "base_uri": "https://localhost:8080/"
        },
        "id": "pqKgrazVZ4Ws",
        "outputId": "67916676-be26-49f0-e2ce-bbe66916e89e"
      },
      "execution_count": 7,
      "outputs": [
        {
          "output_type": "stream",
          "name": "stdout",
          "text": [
            "Alice, that was a nice trick!\n",
            "I can't wait to see your next trick Alice!\n",
            "Bob, that was a nice trick!\n",
            "I can't wait to see your next trick Bob!\n",
            "Jeff, that was a nice trick!\n",
            "I can't wait to see your next trick Jeff!\n",
            "\n",
            "That was a cool magic show!\n"
          ]
        }
      ]
    },
    {
      "cell_type": "markdown",
      "source": [
        "Try it yourself:"
      ],
      "metadata": {
        "id": "WkYNSH_CaWUh"
      }
    },
    {
      "cell_type": "code",
      "source": [
        "pizzas = ['margarita', 'mushroom', 'anchovie']\n",
        "for pizza in pizzas:\n",
        "  print(f\"I like {pizza} pizza!\")"
      ],
      "metadata": {
        "colab": {
          "base_uri": "https://localhost:8080/"
        },
        "id": "K2dxObu3aYND",
        "outputId": "004eab8a-1415-4c00-fe1c-06daa2563657"
      },
      "execution_count": 23,
      "outputs": [
        {
          "output_type": "stream",
          "name": "stdout",
          "text": [
            "I like margarita pizza!\n",
            "I like mushroom pizza!\n",
            "I like anchovie pizza!\n"
          ]
        }
      ]
    },
    {
      "cell_type": "code",
      "source": [
        "animals = ['dog', 'cat', 'hamster']\n",
        "for animal in animals:\n",
        "  print(f\"A {animal} would make a great pet!\")\n",
        "\n",
        "print(\"\\nAny of these would make a great pet!\")"
      ],
      "metadata": {
        "colab": {
          "base_uri": "https://localhost:8080/"
        },
        "id": "y6BJ9y3zbIkV",
        "outputId": "d883b7e0-3379-45b9-ebfd-8926ca65991c"
      },
      "execution_count": 11,
      "outputs": [
        {
          "output_type": "stream",
          "name": "stdout",
          "text": [
            "A dog would make a great pet!\n",
            "A cat would make a great pet!\n",
            "A hamster would make a great pet!\n",
            "\n",
            "Any of these would make a great pet!\n"
          ]
        }
      ]
    },
    {
      "cell_type": "markdown",
      "source": [
        "end of try it yourself"
      ],
      "metadata": {
        "id": "CJ_4vpi0bljP"
      }
    },
    {
      "cell_type": "code",
      "source": [
        "for value in range(1,6):\n",
        "  print(value)"
      ],
      "metadata": {
        "colab": {
          "base_uri": "https://localhost:8080/"
        },
        "id": "CQYeYelJbnZe",
        "outputId": "e9c776fa-04fd-4497-8fe9-7a8cd2044d5b"
      },
      "execution_count": 13,
      "outputs": [
        {
          "output_type": "stream",
          "name": "stdout",
          "text": [
            "1\n",
            "2\n",
            "3\n",
            "4\n",
            "5\n"
          ]
        }
      ]
    },
    {
      "cell_type": "code",
      "source": [
        "numbers = list(range(1,6))\n",
        "print(numbers)"
      ],
      "metadata": {
        "colab": {
          "base_uri": "https://localhost:8080/"
        },
        "id": "k-2drQhZb4Hm",
        "outputId": "343e30c5-a250-4dc8-b68b-aecf48a5f2be"
      },
      "execution_count": 14,
      "outputs": [
        {
          "output_type": "stream",
          "name": "stdout",
          "text": [
            "[1, 2, 3, 4, 5]\n"
          ]
        }
      ]
    },
    {
      "cell_type": "markdown",
      "source": [
        "Try it yourself"
      ],
      "metadata": {
        "id": "UdYBdqQwcLf3"
      }
    },
    {
      "cell_type": "code",
      "source": [
        "for num in range(1,21):\n",
        "  print(num)"
      ],
      "metadata": {
        "colab": {
          "base_uri": "https://localhost:8080/"
        },
        "id": "wU7hLPUxcNFL",
        "outputId": "b3605f5f-70e3-41a8-9dfb-b825db5f51f9"
      },
      "execution_count": 15,
      "outputs": [
        {
          "output_type": "stream",
          "name": "stdout",
          "text": [
            "1\n",
            "2\n",
            "3\n",
            "4\n",
            "5\n",
            "6\n",
            "7\n",
            "8\n",
            "9\n",
            "10\n",
            "11\n",
            "12\n",
            "13\n",
            "14\n",
            "15\n",
            "16\n",
            "17\n",
            "18\n",
            "19\n",
            "20\n"
          ]
        }
      ]
    },
    {
      "cell_type": "code",
      "source": [
        "for num in range(1, 1_000_001):\n",
        "  print(num)\n",
        "# I am not running this..."
      ],
      "metadata": {
        "id": "FcOAksGLckY_"
      },
      "execution_count": null,
      "outputs": []
    },
    {
      "cell_type": "code",
      "source": [
        "million = list(range(1, 1_000_001))\n",
        "print(min(million))\n",
        "print(max(million))\n",
        "print(sum(million))"
      ],
      "metadata": {
        "colab": {
          "base_uri": "https://localhost:8080/"
        },
        "id": "mKAu8_jJcqwX",
        "outputId": "b3921667-9575-44f0-964c-1122132c8775"
      },
      "execution_count": 22,
      "outputs": [
        {
          "output_type": "stream",
          "name": "stdout",
          "text": [
            "1\n",
            "1000000\n",
            "500000500000\n"
          ]
        }
      ]
    },
    {
      "cell_type": "code",
      "source": [
        "oddNums = list(range(1, 21, 2))\n",
        "print(oddNums)"
      ],
      "metadata": {
        "colab": {
          "base_uri": "https://localhost:8080/"
        },
        "id": "gDdGWhncdNEe",
        "outputId": "67b85db4-ccdb-4780-c486-ced778b0643e"
      },
      "execution_count": 1,
      "outputs": [
        {
          "output_type": "stream",
          "name": "stdout",
          "text": [
            "[1, 3, 5, 7, 9, 11, 13, 15, 17, 19]\n"
          ]
        }
      ]
    },
    {
      "cell_type": "code",
      "source": [
        "threes = [3, 6, 9, 12, 15, 18, 21, 24, 27, 30]\n",
        "\n",
        "for num in threes:\n",
        "  print(num)"
      ],
      "metadata": {
        "colab": {
          "base_uri": "https://localhost:8080/"
        },
        "id": "cXfNrYXL9a6e",
        "outputId": "1576627f-2c09-44d1-8306-8eda87fe733a"
      },
      "execution_count": 14,
      "outputs": [
        {
          "output_type": "stream",
          "name": "stdout",
          "text": [
            "3\n",
            "6\n",
            "9\n",
            "12\n",
            "15\n",
            "18\n",
            "21\n",
            "24\n",
            "27\n",
            "30\n"
          ]
        }
      ]
    },
    {
      "cell_type": "code",
      "source": [
        "numbers = list(range(1, 11))\n",
        "\n",
        "for num in numbers:\n",
        "  print(num**3)"
      ],
      "metadata": {
        "colab": {
          "base_uri": "https://localhost:8080/"
        },
        "id": "vaI5wnm_9wfi",
        "outputId": "9703dd90-9d97-47e1-b73f-673af6f80127"
      },
      "execution_count": 15,
      "outputs": [
        {
          "output_type": "stream",
          "name": "stdout",
          "text": [
            "1\n",
            "8\n",
            "27\n",
            "64\n",
            "125\n",
            "216\n",
            "343\n",
            "512\n",
            "729\n",
            "1000\n"
          ]
        }
      ]
    },
    {
      "cell_type": "code",
      "source": [
        "numbers = list(range(1, 11))\n",
        "cubes = []\n",
        "\n",
        "for num in numbers:\n",
        "  cubes.append(num**3)\n",
        "\n",
        "print(cubes)"
      ],
      "metadata": {
        "colab": {
          "base_uri": "https://localhost:8080/"
        },
        "id": "S5b3p621-DUH",
        "outputId": "98cb5143-d8f3-4456-bd2b-f326bfc9f7b5"
      },
      "execution_count": 17,
      "outputs": [
        {
          "output_type": "stream",
          "name": "stdout",
          "text": [
            "[1, 8, 27, 64, 125, 216, 343, 512, 729, 1000]\n"
          ]
        }
      ]
    },
    {
      "cell_type": "markdown",
      "source": [
        "end of try it yourself"
      ],
      "metadata": {
        "id": "n744LPAH-SWo"
      }
    },
    {
      "cell_type": "code",
      "source": [
        "players = ['bob', 'jeff', 'michael', 'john', 'sarah']\n",
        "\n",
        "print(players[0:3])"
      ],
      "metadata": {
        "colab": {
          "base_uri": "https://localhost:8080/"
        },
        "id": "tWbT7s1_-UHI",
        "outputId": "8cc83de9-06a1-4f42-9ee0-337b32e4e22f"
      },
      "execution_count": 18,
      "outputs": [
        {
          "output_type": "stream",
          "name": "stdout",
          "text": [
            "['bob', 'jeff', 'michael']\n"
          ]
        }
      ]
    },
    {
      "cell_type": "code",
      "source": [
        "print(\"Players on team:\\n\")\n",
        "\n",
        "for player in players:\n",
        "  print(player.title())"
      ],
      "metadata": {
        "colab": {
          "base_uri": "https://localhost:8080/"
        },
        "id": "rv4bWAmT-lid",
        "outputId": "f5972edd-8f10-48e4-d92b-8c9d8049a3ad"
      },
      "execution_count": 20,
      "outputs": [
        {
          "output_type": "stream",
          "name": "stdout",
          "text": [
            "Players on team:\n",
            "\n",
            "Bob\n",
            "Jeff\n",
            "Michael\n",
            "John\n",
            "Sarah\n"
          ]
        }
      ]
    },
    {
      "cell_type": "markdown",
      "source": [
        "Try it yourself"
      ],
      "metadata": {
        "id": "omxChFhx_E4r"
      }
    },
    {
      "cell_type": "code",
      "source": [
        "items = ['keyboard', 'cable', 'mouse', 'controller', 'apple']\n",
        "print(f\"The first three items in the list are: {items[:3]}\")"
      ],
      "metadata": {
        "colab": {
          "base_uri": "https://localhost:8080/"
        },
        "id": "HN8P9oSX_HbK",
        "outputId": "1739ef93-2f1d-4bb9-e98e-967c870211e4"
      },
      "execution_count": 22,
      "outputs": [
        {
          "output_type": "stream",
          "name": "stdout",
          "text": [
            "The first three items in the list are: ['keyboard', 'cable', 'mouse']\n"
          ]
        }
      ]
    },
    {
      "cell_type": "code",
      "source": [
        "pizzas = ['margarita', 'mushroom', 'anchovie']\n",
        "friendPizza = pizzas[:]\n",
        "\n",
        "pizzas.append('sausage')\n",
        "friendPizza.append('haiwaiian')\n",
        "\n",
        "print(\"My favorite pizzas are:\")\n",
        "for pizza in pizzas:\n",
        "  print(pizza.title())\n",
        "\n",
        "print(\"\\nMy friends favorite pizzas are:\")\n",
        "for pizza in friendPizza:\n",
        "  print(pizza.title())"
      ],
      "metadata": {
        "colab": {
          "base_uri": "https://localhost:8080/"
        },
        "id": "aWUH3Nhr_yIM",
        "outputId": "000315c2-2f6a-4357-8f6f-536fb8f4a045"
      },
      "execution_count": 25,
      "outputs": [
        {
          "output_type": "stream",
          "name": "stdout",
          "text": [
            "My favorite pizzas are:\n",
            "Margarita\n",
            "Mushroom\n",
            "Anchovie\n",
            "Sausage\n",
            "\n",
            "My friends favorite pizzas are:\n",
            "Margarita\n",
            "Mushroom\n",
            "Anchovie\n",
            "Haiwaiian\n"
          ]
        }
      ]
    },
    {
      "cell_type": "code",
      "source": [
        "foods1 = ['pizza', 'falafel', 'carrot cake', 'cannoli', 'ice cream']\n",
        "foods2 = ['pizza', 'falafel', 'carrot cake', 'ice cream']\n",
        "\n",
        "print(\"My favorite foods are:\")\n",
        "for food in foods1:\n",
        "  print(food.title())\n",
        "\n",
        "print(\"\\nMy friend's favorite foods are:\")\n",
        "for food in foods2:\n",
        "  print(food.title())"
      ],
      "metadata": {
        "colab": {
          "base_uri": "https://localhost:8080/"
        },
        "id": "nQvRovGRBzwa",
        "outputId": "74ed03e0-0628-4170-c349-894a4f5b4b52"
      },
      "execution_count": 27,
      "outputs": [
        {
          "output_type": "stream",
          "name": "stdout",
          "text": [
            "My favorite foods are:\n",
            "Pizza\n",
            "Falafel\n",
            "Carrot Cake\n",
            "Cannoli\n",
            "Ice Cream\n",
            "\n",
            "My friend's favorite foods are:\n",
            "Pizza\n",
            "Falafel\n",
            "Carrot Cake\n",
            "Ice Cream\n"
          ]
        }
      ]
    },
    {
      "cell_type": "markdown",
      "source": [
        "end of try it yourself"
      ],
      "metadata": {
        "id": "qlwA6KFnCZvx"
      }
    },
    {
      "cell_type": "code",
      "source": [
        "dimensions = (300, 200)\n",
        "print(dimensions)\n",
        "print(dimensions[0])"
      ],
      "metadata": {
        "colab": {
          "base_uri": "https://localhost:8080/"
        },
        "id": "U4VstPcqCoK4",
        "outputId": "5631d506-a047-414d-8a3d-cf8e021e521c"
      },
      "execution_count": 29,
      "outputs": [
        {
          "output_type": "stream",
          "name": "stdout",
          "text": [
            "(300, 200)\n",
            "300\n"
          ]
        }
      ]
    },
    {
      "cell_type": "code",
      "source": [
        "for i in dimensions:\n",
        "  print(i)"
      ],
      "metadata": {
        "colab": {
          "base_uri": "https://localhost:8080/"
        },
        "id": "93VN24hDC0xS",
        "outputId": "ada68001-7111-4c6b-f9cd-c6907819c91e"
      },
      "execution_count": 30,
      "outputs": [
        {
          "output_type": "stream",
          "name": "stdout",
          "text": [
            "300\n",
            "200\n"
          ]
        }
      ]
    },
    {
      "cell_type": "code",
      "source": [
        "print(\"Original Dimensions:\")\n",
        "for i in dimensions:\n",
        "  print(i)\n",
        "\n",
        "dimensions = (400, 300)\n",
        "print(\"\\nNew Dimensions:\")\n",
        "for i in dimensions:\n",
        "  print(i)"
      ],
      "metadata": {
        "colab": {
          "base_uri": "https://localhost:8080/"
        },
        "id": "xC2IcTGZC7rz",
        "outputId": "32645fe3-1daf-48b5-deb6-7e9c5d376d38"
      },
      "execution_count": 31,
      "outputs": [
        {
          "output_type": "stream",
          "name": "stdout",
          "text": [
            "Original Dimensions:\n",
            "300\n",
            "200\n",
            "\n",
            "New Dimensions:\n",
            "400\n",
            "300\n"
          ]
        }
      ]
    },
    {
      "cell_type": "markdown",
      "source": [
        "Try it yourself"
      ],
      "metadata": {
        "id": "rDOYyCaNDQuV"
      }
    },
    {
      "cell_type": "code",
      "source": [
        "foods = ('pizza', 'salad', 'mac and cheese', 'pb&j', 'burger')\n",
        "\n",
        "print(\"The buffet menu is:\")\n",
        "\n",
        "for food in foods:\n",
        "  print(food)"
      ],
      "metadata": {
        "colab": {
          "base_uri": "https://localhost:8080/"
        },
        "id": "sSYAZX5WDTOf",
        "outputId": "f40339f5-09f9-4acb-82b9-a509fe6bbcf4"
      },
      "execution_count": 32,
      "outputs": [
        {
          "output_type": "stream",
          "name": "stdout",
          "text": [
            "The buffet menu is:\n",
            "pizza\n",
            "salad\n",
            "mac and cheese\n",
            "pb&j\n",
            "burger\n"
          ]
        }
      ]
    },
    {
      "cell_type": "code",
      "source": [
        "foods[0] = 'bread'"
      ],
      "metadata": {
        "colab": {
          "base_uri": "https://localhost:8080/",
          "height": 185
        },
        "id": "dYqdSpc2DtOo",
        "outputId": "024b7e45-1c4e-480f-b62b-bade476e351f"
      },
      "execution_count": 33,
      "outputs": [
        {
          "output_type": "error",
          "ename": "TypeError",
          "evalue": "ignored",
          "traceback": [
            "\u001b[0;31m---------------------------------------------------------------------------\u001b[0m",
            "\u001b[0;31mTypeError\u001b[0m                                 Traceback (most recent call last)",
            "\u001b[0;32m<ipython-input-33-900b11df8ec9>\u001b[0m in \u001b[0;36m<cell line: 1>\u001b[0;34m()\u001b[0m\n\u001b[0;32m----> 1\u001b[0;31m \u001b[0mfoods\u001b[0m\u001b[0;34m[\u001b[0m\u001b[0;36m0\u001b[0m\u001b[0;34m]\u001b[0m \u001b[0;34m=\u001b[0m \u001b[0;34m'bread'\u001b[0m\u001b[0;34m\u001b[0m\u001b[0;34m\u001b[0m\u001b[0m\n\u001b[0m",
            "\u001b[0;31mTypeError\u001b[0m: 'tuple' object does not support item assignment"
          ]
        }
      ]
    },
    {
      "cell_type": "code",
      "source": [
        "foods = ('pizza', 'hot dog', 'gyro', 'pb&j', 'burger')\n",
        "\n",
        "print(\"The new buffet menu is:\")\n",
        "\n",
        "for food in foods:\n",
        "  print(food)"
      ],
      "metadata": {
        "colab": {
          "base_uri": "https://localhost:8080/"
        },
        "id": "3P6rw38NDxeG",
        "outputId": "c250566a-8c89-4093-a6a8-1e521902b79c"
      },
      "execution_count": 34,
      "outputs": [
        {
          "output_type": "stream",
          "name": "stdout",
          "text": [
            "The new buffet menu is:\n",
            "pizza\n",
            "hot dog\n",
            "gyro\n",
            "pb&j\n",
            "burger\n"
          ]
        }
      ]
    },
    {
      "cell_type": "markdown",
      "source": [
        "I believe all my code should be PEP8 compliant"
      ],
      "metadata": {
        "id": "FBg8StwoFTb2"
      }
    },
    {
      "cell_type": "code",
      "source": [
        "def factorial(n):\n",
        "  numbers = [1, n]\n",
        "  while len(numbers) != n:\n",
        "    numbers.insert(0, numbers[0] + 1)\n",
        "\n",
        "  product = 1\n",
        "  for x in numbers:\n",
        "    product *= x\n",
        "  return(product)\n",
        "\n",
        "print(factorial(5))\n",
        "print(factorial(10))\n",
        "print(factorial(20))\n",
        "print(factorial(50))"
      ],
      "metadata": {
        "colab": {
          "base_uri": "https://localhost:8080/"
        },
        "id": "oBCMRsneFXjH",
        "outputId": "57160a54-6f76-40a2-81da-85d1a535d796"
      },
      "execution_count": 35,
      "outputs": [
        {
          "output_type": "stream",
          "name": "stdout",
          "text": [
            "120\n",
            "3628800\n",
            "2432902008176640000\n",
            "30414093201713378043612608166064768844377641568960512000000000000\n"
          ]
        }
      ]
    },
    {
      "cell_type": "code",
      "source": [
        "def special_factorial(n):\n",
        "  numbers = [1, n]\n",
        "  while len(numbers) != n:\n",
        "    numbers.insert(0, numbers[0] + 1)\n",
        "\n",
        "  if n >= 4:\n",
        "    numbers.remove(4)\n",
        "  if n >= 13:\n",
        "    numbers.remove(13)\n",
        "  if n >= 22:\n",
        "    numbers.remove(22)\n",
        "\n",
        "  product = 1\n",
        "  for x in numbers:\n",
        "    product *= x\n",
        "  return(product)\n",
        "\n",
        "print(special_factorial(5))\n",
        "print(special_factorial(10))\n",
        "print(special_factorial(20))\n",
        "print(special_factorial(50))"
      ],
      "metadata": {
        "colab": {
          "base_uri": "https://localhost:8080/"
        },
        "id": "fnzdgOM9FaT3",
        "outputId": "6e815755-fd68-4ee4-bacc-e0d515fa3fb5"
      },
      "execution_count": 36,
      "outputs": [
        {
          "output_type": "stream",
          "name": "stdout",
          "text": [
            "30\n",
            "907200\n",
            "46786577080320000\n",
            "26585745805693512275885146998308364374455980392448000000000000\n"
          ]
        }
      ]
    }
  ]
}