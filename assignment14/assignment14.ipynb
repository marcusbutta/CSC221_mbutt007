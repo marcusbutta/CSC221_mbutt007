{
  "nbformat": 4,
  "nbformat_minor": 0,
  "metadata": {
    "colab": {
      "provenance": [],
      "authorship_tag": "ABX9TyNefzEhMdr8QJOMLmsmptv8",
      "include_colab_link": true
    },
    "kernelspec": {
      "name": "python3",
      "display_name": "Python 3"
    },
    "language_info": {
      "name": "python"
    }
  },
  "cells": [
    {
      "cell_type": "markdown",
      "metadata": {
        "id": "view-in-github",
        "colab_type": "text"
      },
      "source": [
        "<a href=\"https://colab.research.google.com/github/marcusbutta/CSC221_mbutt007/blob/main/assignment14/assignment14.ipynb\" target=\"_parent\"><img src=\"https://colab.research.google.com/assets/colab-badge.svg\" alt=\"Open In Colab\"/></a>"
      ]
    },
    {
      "cell_type": "markdown",
      "source": [
        "# Marcus Butta\n",
        "# Assignment 14"
      ],
      "metadata": {
        "id": "D6bw_TwmPCyd"
      }
    },
    {
      "cell_type": "markdown",
      "source": [
        "I forgot what assignment the calculator was so this is from scratch"
      ],
      "metadata": {
        "id": "nHId_uRqPG71"
      }
    },
    {
      "cell_type": "code",
      "execution_count": 16,
      "metadata": {
        "colab": {
          "base_uri": "https://localhost:8080/"
        },
        "id": "EnBqL--lPA7D",
        "outputId": "067ee835-fdd3-44bd-ff9e-be4c0ea13b0b"
      },
      "outputs": [
        {
          "name": "stdout",
          "output_type": "stream",
          "text": [
            "Enter equation (q to quit):2 * 2\n",
            "4.0\n",
            "Enter equation (q to quit):2 + 3\n",
            "5.0\n",
            "Enter equation (q to quit):4 - 3\n",
            "1.0\n",
            "Enter equation (q to quit):2 / 3\n",
            "0.6666666666666666\n",
            "Enter equation (q to quit):f * 3\n",
            "ERROR: input 1 and/or 3 are not numbers\n",
            "Enter equation (q to quit):6 a 2\n",
            "ERROR: Invalid operator (input 2)\n",
            "Enter equation (q to quit):q\n"
          ]
        }
      ],
      "source": [
        "def calc(num1, num2, op):\n",
        "  if op == '+':\n",
        "    return num1 + num2\n",
        "  elif op == '-':\n",
        "    return num1 - num2\n",
        "  elif op == '*':\n",
        "    return num1 * num2\n",
        "  elif op == '/':\n",
        "    return num1 / num2\n",
        "\n",
        "while True:\n",
        "  userInput = input(\"Enter equation (q to quit):\")\n",
        "  if userInput == 'q':\n",
        "    break\n",
        "  userInput = userInput.split(\" \")\n",
        "  if len(userInput) != 3:\n",
        "    print(\"Invalid number of values\")\n",
        "  try:\n",
        "    num1 = float(userInput[0])\n",
        "    num2 = float(userInput[2])\n",
        "  except ValueError:\n",
        "    print(\"ERROR: input 1 and/or 3 are not numbers\")\n",
        "    continue\n",
        "  op = userInput[1]\n",
        "  if op != '+' and op != '-' and op != '*' and op != '/':\n",
        "    print(\"ERROR: Invalid operator (input 2)\")\n",
        "    continue\n",
        "  answer = calc(num1, num2, op)\n",
        "  print(answer)\n"
      ]
    }
  ]
}