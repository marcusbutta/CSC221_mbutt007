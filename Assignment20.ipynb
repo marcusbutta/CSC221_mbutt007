{
  "nbformat": 4,
  "nbformat_minor": 0,
  "metadata": {
    "colab": {
      "provenance": [],
      "include_colab_link": true
    },
    "kernelspec": {
      "name": "python3",
      "display_name": "Python 3"
    },
    "language_info": {
      "name": "python"
    }
  },
  "cells": [
    {
      "cell_type": "markdown",
      "metadata": {
        "id": "view-in-github",
        "colab_type": "text"
      },
      "source": [
        "<a href=\"https://colab.research.google.com/github/marcusbutta/CSC221_mbutt007/blob/main/Assignment20.ipynb\" target=\"_parent\"><img src=\"https://colab.research.google.com/assets/colab-badge.svg\" alt=\"Open In Colab\"/></a>"
      ]
    },
    {
      "cell_type": "markdown",
      "source": [
        "# Assignment 20\n",
        "## CSC 221\n",
        "- PLEASE INSERT YOUR NAME HERE!\n",
        "\n",
        "### Instructions:\n",
        "Fill in each code cell below the question. We are following along in Chapter 4 of Python Distilled."
      ],
      "metadata": {
        "id": "IAOUzGWE1eDx"
      }
    },
    {
      "cell_type": "code",
      "execution_count": null,
      "metadata": {
        "id": "Gnj3su7i5-lx",
        "colab": {
          "base_uri": "https://localhost:8080/"
        },
        "outputId": "dfebfbeb-c83d-4e0a-abd3-85176de9fd20"
      },
      "outputs": [
        {
          "output_type": "stream",
          "name": "stdout",
          "text": [
            "19\n",
            "44.5\n",
            "asdfg13\n"
          ]
        }
      ],
      "source": [
        "# 4.1 Essential Concepts\n",
        "\n",
        "# When we write \"a + b\" in Python, the interpreter tries to execute a.__add__(b)\n",
        "\n",
        "# Show that this is true by trying the following:\n",
        "a = 6\n",
        "b = 31.5\n",
        "c = 'asdfg'\n",
        "a1 = a.__add__(13)\n",
        "b1 = b.__add__(13)\n",
        "c1 = c.__add__('13')\n",
        "print(a1)\n",
        "print(b1)\n",
        "print(c1)\n",
        "\n",
        "# What are the types of a, b, and c?\n",
        "# a is an int\n",
        "# b is a float\n",
        "# c is a string\n",
        "\n",
        "# Explain the results\n",
        "# for a1 it just adds to two ints together 6+13=19\n",
        "# for b1 it adds an int to the float 31.5+13=44.5\n",
        "# for c1 it adds a string of a number to the string \"asdfg\"+\"13\"=\"asdfg13\""
      ]
    },
    {
      "cell_type": "code",
      "source": [
        "# 4.2 through 4.4 will be covered in the next assignment"
      ],
      "metadata": {
        "id": "w2uYd3DO2do6"
      },
      "execution_count": null,
      "outputs": []
    },
    {
      "cell_type": "code",
      "source": [
        "# 4.5 str and repr\n",
        "# How many categpries of printing are shown below for a datetime object?\n",
        "# What in the Pythion code makes each one get callled?\n",
        "\n",
        "from datetime import date\n",
        "d = date(2023, 11, 7)\n",
        "\n",
        "# prints the contents of d\n",
        "print(d)\n",
        "\n",
        "# prints d formatted in a string\n",
        "print(f'{d}')\n",
        "\n",
        "# also prints d formatted in a string but this time specifying that d is a string as well\n",
        "print(f'{d!s}')\n",
        "\n",
        "# this time specifying d as a repr\n",
        "print(f'{d!r}')\n",
        "\n",
        "# another way of printing it as a string\n",
        "print(str(d))\n",
        "\n",
        "# another way as printing it as a repr\n",
        "print(repr(d))\n",
        "\n",
        "# a final way to print it as a string\n",
        "print(d.__str__())\n",
        "\n",
        "# and a final way to print it as a repr\n",
        "print(d.__repr__())\n"
      ],
      "metadata": {
        "id": "Aa3ylzmV2wNF",
        "colab": {
          "base_uri": "https://localhost:8080/"
        },
        "outputId": "3f025c7f-5b1a-4cfd-dbc0-16e9b799bbcb"
      },
      "execution_count": null,
      "outputs": [
        {
          "output_type": "stream",
          "name": "stdout",
          "text": [
            "2023-11-07\n",
            "2023-11-07\n",
            "2023-11-07\n",
            "datetime.date(2023, 11, 7)\n",
            "2023-11-07\n",
            "datetime.date(2023, 11, 7)\n",
            "2023-11-07\n",
            "datetime.date(2023, 11, 7)\n"
          ]
        }
      ]
    },
    {
      "cell_type": "code",
      "source": [
        "# 4.6 First-Class Objects\n",
        "# What is the significance of all objects being \"first-class\" in Python?\n",
        "\n",
        "# The signifigance of all objects being first class is that they can all be treated as data.\n",
        "\n",
        "# Explain by typing in the code to create and use the 'items' dictionary shown in section 4.6.\n",
        "\n",
        "# starts items dict\n",
        "items = {\n",
        "  'number' : 42, # adds number key\n",
        "  'text' : \"Hello World\" # adds text key\n",
        "}\n",
        "\n",
        "items['func'] = abs # adds a new func key\n",
        "import math\n",
        "items['mod'] = math # adds a mod key that calls math\n",
        "items['error'] = ValueError # add an error key that has ValueError as its value\n",
        "nums = [1,2,3,4] # creates 'nums' list\n",
        "items['append'] = nums.append # creates a append key that links to the append function of nums\n",
        "\n",
        "# Explain each of the lines starting with '>>>' in the section.\n"
      ],
      "metadata": {
        "id": "9LRpP06Vsw6n"
      },
      "execution_count": null,
      "outputs": []
    },
    {
      "cell_type": "code",
      "source": [
        "# 4.7 Using None\n",
        "# Write a function that takes two parameters and returns their sum if they are\n",
        "#  integers or returns None if either one is not.\n",
        "\n",
        "# Put in some test code to show that your function works\n",
        "\n",
        "# INSERT YOUR CODE HERE"
      ],
      "metadata": {
        "id": "dUhRWGnCtewU"
      },
      "execution_count": null,
      "outputs": []
    },
    {
      "cell_type": "code",
      "source": [
        "# 4.9 Object Protocol\n",
        "# Create a simple object that has methods for:\n",
        "#  __new__\n",
        "#  __init__\n",
        "#  __del__\n",
        "#  __repr__\n",
        "#  __str__\n",
        "\n",
        "# Put in some test code to show how and when each of these 'magic' functions gets called.\n",
        "\n",
        "# INSERT YOUR CODE HERE"
      ],
      "metadata": {
        "id": "4M-CQevEt2xQ"
      },
      "execution_count": null,
      "outputs": []
    }
  ]
}