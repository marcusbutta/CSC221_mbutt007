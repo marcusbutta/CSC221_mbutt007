{
  "nbformat": 4,
  "nbformat_minor": 0,
  "metadata": {
    "colab": {
      "provenance": [],
      "authorship_tag": "ABX9TyMYnlUpEGtIZNOya8eeIPzO",
      "include_colab_link": true
    },
    "kernelspec": {
      "name": "python3",
      "display_name": "Python 3"
    },
    "language_info": {
      "name": "python"
    }
  },
  "cells": [
    {
      "cell_type": "markdown",
      "metadata": {
        "id": "view-in-github",
        "colab_type": "text"
      },
      "source": [
        "<a href=\"https://colab.research.google.com/github/marcusbutta/CSC221_mbutt007/blob/main/assignment8.ipynb\" target=\"_parent\"><img src=\"https://colab.research.google.com/assets/colab-badge.svg\" alt=\"Open In Colab\"/></a>"
      ]
    },
    {
      "cell_type": "markdown",
      "source": [
        "# Name: Marcus Butta\n",
        "# Assignment 8"
      ],
      "metadata": {
        "id": "TReL3k7zx-pi"
      }
    },
    {
      "cell_type": "code",
      "source": [
        "message = input(\"Enter some input: \")\n",
        "print(message)"
      ],
      "metadata": {
        "colab": {
          "base_uri": "https://localhost:8080/"
        },
        "id": "tC9YxS_ByC0Q",
        "outputId": "94cb1801-7947-498e-8368-8e3367b2da10"
      },
      "execution_count": null,
      "outputs": [
        {
          "output_type": "stream",
          "name": "stdout",
          "text": [
            "Enter some input: test\n",
            "test\n"
          ]
        }
      ]
    },
    {
      "cell_type": "code",
      "source": [
        "name = input(\"Please enter your name: \")\n",
        "print(f\"\\nHello {name}!\")"
      ],
      "metadata": {
        "colab": {
          "base_uri": "https://localhost:8080/"
        },
        "id": "mqft8g_nyXvg",
        "outputId": "9ac36e37-a03d-486f-decb-829e1debeb7e"
      },
      "execution_count": null,
      "outputs": [
        {
          "output_type": "stream",
          "name": "stdout",
          "text": [
            "Please enter your name: Marcus\n",
            "\n",
            "Hello Marcus!\n"
          ]
        }
      ]
    },
    {
      "cell_type": "code",
      "source": [
        "prompt = \"If you enter your name we can use it\"\n",
        "prompt += \"\\nPlease enter your name\"\n",
        "name = input(prompt)\n",
        "\n",
        "print(f\"\\nHello {name}!\")"
      ],
      "metadata": {
        "colab": {
          "base_uri": "https://localhost:8080/"
        },
        "id": "xlOsUFk3yiCv",
        "outputId": "d5a53f0f-04d2-4d34-e974-1380d9308d9d"
      },
      "execution_count": null,
      "outputs": [
        {
          "output_type": "stream",
          "name": "stdout",
          "text": [
            "If you enter your name we can use it\n",
            "Please enter your nameMarcus\n",
            "\n",
            "Hello Marcus!\n"
          ]
        }
      ]
    },
    {
      "cell_type": "code",
      "source": [
        "height = input(\"How tall are you in inches? \")\n",
        "height = int(height)\n",
        "\n",
        "if height >= 48:\n",
        "  print(\"\\nYou are tall enough to ride\")\n",
        "else:\n",
        "  print(\"\\nMaybe you can ride once you are older\")"
      ],
      "metadata": {
        "id": "IYSj4zbkzWPg",
        "colab": {
          "base_uri": "https://localhost:8080/"
        },
        "outputId": "99036133-c608-4fb2-9fe9-8b6f7753ae27"
      },
      "execution_count": null,
      "outputs": [
        {
          "output_type": "stream",
          "name": "stdout",
          "text": [
            "How tall are you in inches? 48\n",
            "\n",
            "You are tall enough to ride\n"
          ]
        }
      ]
    },
    {
      "cell_type": "code",
      "source": [
        "num = input(\"Enter a number: \")\n",
        "num = int(num)\n",
        "\n",
        "if num % 2 == 0:\n",
        "  print(\"Number is even\")\n",
        "else:\n",
        "  print(\"Number is odd\")"
      ],
      "metadata": {
        "colab": {
          "base_uri": "https://localhost:8080/"
        },
        "id": "-iHX6Wzd0FtS",
        "outputId": "714210a6-18b6-4785-9c76-ce3441012de2"
      },
      "execution_count": null,
      "outputs": [
        {
          "output_type": "stream",
          "name": "stdout",
          "text": [
            "Enter a number: 8\n",
            "Number is even\n"
          ]
        }
      ]
    },
    {
      "cell_type": "markdown",
      "source": [
        "Try it yourself"
      ],
      "metadata": {
        "id": "-fueX5mw7H_C"
      }
    },
    {
      "cell_type": "code",
      "source": [
        "requested_car = input(\"Do you have a car brand preference? \")\n",
        "print(f\"Let me see if we have any {requested_car.title()}s.\")"
      ],
      "metadata": {
        "colab": {
          "base_uri": "https://localhost:8080/"
        },
        "id": "aWoAdHS47KsW",
        "outputId": "80edc21e-d69d-4e9f-9488-ecb9d256cc3c"
      },
      "execution_count": null,
      "outputs": [
        {
          "output_type": "stream",
          "name": "stdout",
          "text": [
            "Do you have a car brand preference? Chevy\n",
            "Let me see if we have any Chevys.\n"
          ]
        }
      ]
    },
    {
      "cell_type": "code",
      "source": [
        "table_size = input(\"How many people are in your party? \")\n",
        "table_size = int(table_size)\n",
        "\n",
        "if table_size > 8:\n",
        "  print(\"\\nUnfortunately you will have to wait for a table.\")\n",
        "else:\n",
        "  print(\"Your table is ready!\")"
      ],
      "metadata": {
        "colab": {
          "base_uri": "https://localhost:8080/"
        },
        "id": "VtPsHQqr7dV0",
        "outputId": "7824d0b5-0a65-4a19-a013-62c077db95b8"
      },
      "execution_count": null,
      "outputs": [
        {
          "output_type": "stream",
          "name": "stdout",
          "text": [
            "How many people are in your party? 10\n",
            "\n",
            "Unfortunately you will have to wait for a table.\n"
          ]
        }
      ]
    },
    {
      "cell_type": "code",
      "source": [
        "num = input(\"Please enter a number: \")\n",
        "num = int(num)\n",
        "\n",
        "if num % 10 == 0:\n",
        "  print(\"Number is a multiple of 10!\")\n",
        "else:\n",
        "  print(\"Number is not a multiple of 10.\")"
      ],
      "metadata": {
        "colab": {
          "base_uri": "https://localhost:8080/"
        },
        "id": "W-Dhz0Op76Bo",
        "outputId": "deaf36aa-61f4-4e71-840a-c8c48b0936ff"
      },
      "execution_count": null,
      "outputs": [
        {
          "output_type": "stream",
          "name": "stdout",
          "text": [
            "Please enter a number: 77\n",
            "Number is not a multiple of 10.\n"
          ]
        }
      ]
    },
    {
      "cell_type": "markdown",
      "source": [
        "end of try it yourself"
      ],
      "metadata": {
        "id": "wfFs-FFi8TTd"
      }
    },
    {
      "cell_type": "code",
      "source": [
        "num = 1\n",
        "\n",
        "while num <= 5:\n",
        "  print(num)\n",
        "  num += 1"
      ],
      "metadata": {
        "colab": {
          "base_uri": "https://localhost:8080/"
        },
        "id": "0A24MQJW8U6z",
        "outputId": "bfd9e02a-dd65-40ae-b398-47a0fb36dbaf"
      },
      "execution_count": null,
      "outputs": [
        {
          "output_type": "stream",
          "name": "stdout",
          "text": [
            "1\n",
            "2\n",
            "3\n",
            "4\n",
            "5\n"
          ]
        }
      ]
    },
    {
      "cell_type": "code",
      "source": [
        "prompt = \"Tell me something I will repeat it back to you\"\n",
        "prompt += \"\\nType 'quit' to exit: \"\n",
        "\n",
        "message = \"\"\n",
        "\n",
        "while message != \"quit\":\n",
        "  message = input(prompt)\n",
        "  print(message)"
      ],
      "metadata": {
        "colab": {
          "base_uri": "https://localhost:8080/"
        },
        "id": "VIBvKPfu8hC0",
        "outputId": "9173c06c-2a58-4569-8938-4cd52e51dbde"
      },
      "execution_count": null,
      "outputs": [
        {
          "output_type": "stream",
          "name": "stdout",
          "text": [
            "Tell me something I will repeat it back to you\n",
            "Type 'quit' to exit: Hello!\n",
            "Hello!\n",
            "Tell me something I will repeat it back to you\n",
            "Type 'quit' to exit: quit\n",
            "quit\n"
          ]
        }
      ]
    },
    {
      "cell_type": "code",
      "source": [
        "prompt = \"Tell me something I will repeat it back to you\"\n",
        "prompt += \"\\nType 'quit' to exit: \"\n",
        "\n",
        "message = \"\"\n",
        "active = True\n",
        "\n",
        "while active is True:\n",
        "  message = input(prompt)\n",
        "  if message == 'quit':\n",
        "    active = False\n",
        "  else:\n",
        "    print(message)"
      ],
      "metadata": {
        "colab": {
          "base_uri": "https://localhost:8080/"
        },
        "id": "DwD08vJD-myX",
        "outputId": "81e40235-9ace-47ce-e9b5-86d55bf4931f"
      },
      "execution_count": null,
      "outputs": [
        {
          "name": "stdout",
          "output_type": "stream",
          "text": [
            "Tell me something I will repeat it back to you\n",
            "Type 'quit' to exit: Hello!\n",
            "Hello!\n",
            "Tell me something I will repeat it back to you\n",
            "Type 'quit' to exit: quit\n"
          ]
        }
      ]
    },
    {
      "cell_type": "code",
      "source": [
        "prompt = \"Type 'exit' to quit: \"\n",
        "\n",
        "user = \"\"\n",
        "\n",
        "while True:\n",
        "  user = input(prompt)\n",
        "  if user == 'exit':\n",
        "    break\n",
        "  else:\n",
        "    print(\"Not exit\")"
      ],
      "metadata": {
        "colab": {
          "base_uri": "https://localhost:8080/"
        },
        "id": "b3Ye8AmEIeFq",
        "outputId": "f3d328f4-4319-4282-f0fd-5aa3468b1783"
      },
      "execution_count": null,
      "outputs": [
        {
          "name": "stdout",
          "output_type": "stream",
          "text": [
            "Type 'exit' to quit: quit\n",
            "Not exit\n",
            "Type 'exit' to quit: exit\n"
          ]
        }
      ]
    },
    {
      "cell_type": "code",
      "source": [
        "current_num = 0\n",
        "\n",
        "while current_num < 10:\n",
        "  current_num += 1\n",
        "  if current_num % 2 == 0:\n",
        "    continue\n",
        "  print(current_num)"
      ],
      "metadata": {
        "colab": {
          "base_uri": "https://localhost:8080/"
        },
        "id": "73NUf6YZJKKo",
        "outputId": "f0435405-960c-4953-89be-3ec4c4bb4339"
      },
      "execution_count": null,
      "outputs": [
        {
          "output_type": "stream",
          "name": "stdout",
          "text": [
            "1\n",
            "3\n",
            "5\n",
            "7\n",
            "9\n"
          ]
        }
      ]
    },
    {
      "cell_type": "markdown",
      "source": [
        "try it yourself"
      ],
      "metadata": {
        "id": "dwGh_nIa2UGZ"
      }
    },
    {
      "cell_type": "code",
      "source": [
        "toppings = list()\n",
        "\n",
        "while True:\n",
        "  user = input(\"Enter a topping name (or 'quit' to exit): \")\n",
        "  if user == 'quit':\n",
        "    break\n",
        "  else:\n",
        "    toppings.append(user)\n",
        "\n",
        "print(\"\\nPizza Toppings:\")\n",
        "for top in toppings:\n",
        "  print(top.title())"
      ],
      "metadata": {
        "colab": {
          "base_uri": "https://localhost:8080/"
        },
        "id": "1XiCes4X2Vdg",
        "outputId": "58b25815-1d65-4427-815e-2ce8034f58f8"
      },
      "execution_count": null,
      "outputs": [
        {
          "output_type": "stream",
          "name": "stdout",
          "text": [
            "Enter a topping name (or 'quit' to exit): sausage\n",
            "Enter a topping name (or 'quit' to exit): anchovies\n",
            "Enter a topping name (or 'quit' to exit): quit\n",
            "\n",
            "Pizza Toppings:\n",
            "Sausage\n",
            "Anchovies\n"
          ]
        }
      ]
    },
    {
      "cell_type": "code",
      "source": [
        "while True:\n",
        "  age = input(\"Enter your age (or 'quit' to exit): \")\n",
        "  if age == 'quit':\n",
        "    break\n",
        "  else:\n",
        "    try:\n",
        "      age = int(age)\n",
        "      if age < 3:\n",
        "        print(\"Your ticket is free!\")\n",
        "      elif age >= 3 and age <= 12:\n",
        "        print(\"Your ticket will be $10.\")\n",
        "      else:\n",
        "        print(\"Your ticket will be $15.\")\n",
        "    except ValueError:\n",
        "      print(\"You did not enter an integer or 'quit'.\")"
      ],
      "metadata": {
        "colab": {
          "base_uri": "https://localhost:8080/"
        },
        "id": "kT22_6hr31uX",
        "outputId": "b281f8fd-572d-426d-d4f0-8b929ad7cd58"
      },
      "execution_count": null,
      "outputs": [
        {
          "name": "stdout",
          "output_type": "stream",
          "text": [
            "Enter your age (or 'quit' to exit): 12\n",
            "Your ticket will be $10.\n",
            "Enter your age (or 'quit' to exit): 15\n",
            "Your ticket will be $15.\n",
            "Enter your age (or 'quit' to exit): 2\n",
            "Your ticket is free!\n",
            "Enter your age (or 'quit' to exit): quit\n"
          ]
        }
      ]
    },
    {
      "cell_type": "code",
      "source": [
        "toppings = list()\n",
        "user = ''\n",
        "\n",
        "while user != 'quit':\n",
        "  user = input(\"Enter a topping name (or 'quit' to exit): \")\n",
        "  if user != 'quit':\n",
        "    toppings.append(user)\n",
        "\n",
        "print(\"\\nPizza Toppings:\")\n",
        "for top in toppings:\n",
        "  print(top.title())"
      ],
      "metadata": {
        "colab": {
          "base_uri": "https://localhost:8080/"
        },
        "id": "QZQTaWJy5e1v",
        "outputId": "f7d85192-65e0-44e8-f6d8-c0d5194dae7e"
      },
      "execution_count": null,
      "outputs": [
        {
          "output_type": "stream",
          "name": "stdout",
          "text": [
            "Enter a topping name (or 'quit' to exit): sausage\n",
            "Enter a topping name (or 'quit' to exit): anchovies\n",
            "Enter a topping name (or 'quit' to exit): quit\n",
            "\n",
            "Pizza Toppings:\n",
            "Sausage\n",
            "Anchovies\n"
          ]
        }
      ]
    },
    {
      "cell_type": "code",
      "source": [
        "toppings = list()\n",
        "active = True\n",
        "\n",
        "while active is True:\n",
        "  user = input(\"Enter a topping name (or 'quit' to exit): \")\n",
        "  if user != 'quit':\n",
        "    toppings.append(user)\n",
        "  else:\n",
        "    active = False\n",
        "\n",
        "print(\"\\nPizza Toppings:\")\n",
        "for top in toppings:\n",
        "  print(top.title())"
      ],
      "metadata": {
        "colab": {
          "base_uri": "https://localhost:8080/"
        },
        "id": "XtJ4m4Rb577I",
        "outputId": "db91fb06-1d48-4ead-d290-503a47631a5b"
      },
      "execution_count": null,
      "outputs": [
        {
          "output_type": "stream",
          "name": "stdout",
          "text": [
            "Enter a topping name (or 'quit' to exit): sausage\n",
            "Enter a topping name (or 'quit' to exit): anchovies\n",
            "Enter a topping name (or 'quit' to exit): quit\n",
            "\n",
            "Pizza Toppings:\n",
            "Sausage\n",
            "Anchovies\n"
          ]
        }
      ]
    },
    {
      "cell_type": "markdown",
      "source": [
        "original toppings program used a break so I am not going to do it again"
      ],
      "metadata": {
        "id": "VR_mgF2Z6Pqv"
      }
    },
    {
      "cell_type": "code",
      "source": [
        "while True:\n",
        "  print(\"I am not running this\")"
      ],
      "metadata": {
        "id": "U2HLRF7c6aKe"
      },
      "execution_count": null,
      "outputs": []
    },
    {
      "cell_type": "markdown",
      "source": [
        "end of try it yourself"
      ],
      "metadata": {
        "id": "ID6Z5MRp6iBt"
      }
    },
    {
      "cell_type": "code",
      "source": [
        "unverified_users = ['alice', 'bob', 'sarah']\n",
        "confirmed_users = []\n",
        "\n",
        "while unverified_users:\n",
        "  current_user = unverified_users.pop()\n",
        "  print(f\"Verifying user: {current_user.title()}\")\n",
        "  confirmed_users.append(current_user)\n",
        "\n",
        "print(\"\\nThe following users have been confirmed:\")\n",
        "for user in confirmed_users:\n",
        "  print(user.title())"
      ],
      "metadata": {
        "id": "9BvgNHn06q5t",
        "colab": {
          "base_uri": "https://localhost:8080/"
        },
        "outputId": "97b2aaad-9020-4a12-f5ff-041cf4a4a62d"
      },
      "execution_count": null,
      "outputs": [
        {
          "output_type": "stream",
          "name": "stdout",
          "text": [
            "Verifying user: Sarah\n",
            "Verifying user: Bob\n",
            "Verifying user: Alice\n",
            "\n",
            "The following users have been confirmed:\n",
            "Sarah\n",
            "Bob\n",
            "Alice\n"
          ]
        }
      ]
    },
    {
      "cell_type": "code",
      "source": [
        "pets = ['dog', 'cat', 'dog', 'goldfish', 'cat', 'rabbit', 'cat']\n",
        "print(pets)\n",
        "\n",
        "while 'cat' in pets:\n",
        "  pets.remove('cat')\n",
        "\n",
        "print(pets)"
      ],
      "metadata": {
        "colab": {
          "base_uri": "https://localhost:8080/"
        },
        "id": "7Ppp-70Khd54",
        "outputId": "1928ebc7-bbce-429d-8654-afe93276f732"
      },
      "execution_count": null,
      "outputs": [
        {
          "output_type": "stream",
          "name": "stdout",
          "text": [
            "['dog', 'cat', 'dog', 'goldfish', 'cat', 'rabbit', 'cat']\n",
            "['dog', 'dog', 'goldfish', 'rabbit']\n"
          ]
        }
      ]
    },
    {
      "cell_type": "markdown",
      "source": [
        "try it yourself"
      ],
      "metadata": {
        "id": "v7YOyeDX2jfO"
      }
    },
    {
      "cell_type": "code",
      "source": [
        "unfinished_sandwiches = ['italian', 'meatball sub', 'chicken']\n",
        "finished_sandwhiches = []\n",
        "\n",
        "while unfinished_sandwiches:\n",
        "  sandwhich = unfinished_sandwiches.pop()\n",
        "  print(f\"Preparing {sandwhich.title()}\")\n",
        "  finished_sandwhiches.append(sandwhich)\n",
        "\n",
        "print(\"\\nFinished Sandwiches:\")\n",
        "for sandwhich in finished_sandwhiches:\n",
        "  print(sandwhich.title())"
      ],
      "metadata": {
        "colab": {
          "base_uri": "https://localhost:8080/"
        },
        "id": "fXIMmSYo2loX",
        "outputId": "4afac7ca-4d5f-4668-ad65-17984012ce75"
      },
      "execution_count": null,
      "outputs": [
        {
          "output_type": "stream",
          "name": "stdout",
          "text": [
            "Preparing Chicken\n",
            "Preparing Meatball Sub\n",
            "Preparing Italian\n",
            "\n",
            "Finished Sandwiches:\n",
            "Chicken\n",
            "Meatball Sub\n",
            "Italian\n"
          ]
        }
      ]
    },
    {
      "cell_type": "markdown",
      "source": [
        "Calculator:"
      ],
      "metadata": {
        "id": "Cmp0_KdC_Lnv"
      }
    },
    {
      "cell_type": "code",
      "source": [
        "total = 0\n",
        "\n",
        "while True:\n",
        "  num = input(\"Please enter a number (or 'quit'): \")\n",
        "  if num == 'quit':\n",
        "    break\n",
        "  try:\n",
        "    num = int(num)\n",
        "  except ValueError:\n",
        "    print(\"Not an integer\")\n",
        "    break\n",
        "  op = input(\"Please enter an operator (+,-,*,/): \")\n",
        "  # I was going to try to use a switch statement but we didn't learn it in class so I held off\n",
        "  if op == '+':\n",
        "    total += num\n",
        "  elif op == '-':\n",
        "    total -= num\n",
        "  elif op == '*':\n",
        "    total *= num\n",
        "  elif op == '/':\n",
        "    total /= num\n",
        "  else:\n",
        "    print(\"ERROR: Not an accepted operator\")\n",
        "  print(f\"Total: {total}\")"
      ],
      "metadata": {
        "colab": {
          "base_uri": "https://localhost:8080/"
        },
        "id": "lsqUU_xq_M9U",
        "outputId": "4ae392ba-b0e6-444c-be9a-5809764e3b1b"
      },
      "execution_count": 7,
      "outputs": [
        {
          "name": "stdout",
          "output_type": "stream",
          "text": [
            "Please enter a number (or 'quit'): 4\n",
            "Please enter an operator (+,-,*,/): +\n",
            "Total: 4\n",
            "Please enter a number (or 'quit'): 3\n",
            "Please enter an operator (+,-,*,/): *\n",
            "Total: 12\n",
            "Please enter a number (or 'quit'): 2\n",
            "Please enter an operator (+,-,*,/): /\n",
            "Total: 6.0\n",
            "Please enter a number (or 'quit'): quit\n"
          ]
        }
      ]
    }
  ]
}